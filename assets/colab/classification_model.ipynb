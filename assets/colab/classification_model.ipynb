{
  "cells": [
    {
      "cell_type": "code",
      "execution_count": 1,
      "metadata": {
        "colab": {
          "base_uri": "https://localhost:8080/",
          "height": 102
        },
        "colab_type": "code",
        "id": "vOUgXHY6pAIh",
        "outputId": "1e7a975e-239c-42c8-c120-503c5152fa44"
      },
      "outputs": [
        {
          "name": "stderr",
          "output_type": "stream",
          "text": [
            "[nltk_data] Downloading package stopwords to\n",
            "[nltk_data]     C:\\Users\\Asus\\AppData\\Roaming\\nltk_data...\n",
            "[nltk_data]   Package stopwords is already up-to-date!\n",
            "[nltk_data] Downloading package punkt to\n",
            "[nltk_data]     C:\\Users\\Asus\\AppData\\Roaming\\nltk_data...\n",
            "[nltk_data]   Package punkt is already up-to-date!\n"
          ]
        },
        {
          "data": {
            "text/plain": [
              "True"
            ]
          },
          "execution_count": 1,
          "metadata": {},
          "output_type": "execute_result"
        }
      ],
      "source": [
        "# Import all libraries\n",
        "import matplotlib.pyplot as plt\n",
        "import nltk\n",
        "from nltk.corpus import stopwords\n",
        "from nltk.tokenize import word_tokenize\n",
        "import numpy as np\n",
        "import pandas as pd\n",
        "import pickle\n",
        "import re\n",
        "import seaborn as sns\n",
        "from sklearn import metrics\n",
        "from sklearn.metrics import accuracy_score\n",
        "from sklearn.utils import shuffle\n",
        "import string\n",
        "import tensorflow as tf\n",
        "from tensorflow.keras.preprocessing.sequence import pad_sequences\n",
        "from tensorflow.keras.preprocessing.text import Tokenizer\n",
        "import warnings\n",
        "\n",
        "warnings.filterwarnings('ignore')\n",
        "np.set_printoptions(precision=4)\n",
        "\n",
        "nltk.download('stopwords')\n",
        "nltk.download('punkt')"
      ]
    },
    {
      "cell_type": "code",
      "execution_count": 2,
      "metadata": {
        "colab": {
          "base_uri": "https://localhost:8080/",
          "height": 204
        },
        "colab_type": "code",
        "id": "raKtqeIDpBf0",
        "outputId": "4ad883d1-8bc5-46f2-9ed1-f1308de157f3"
      },
      "outputs": [
        {
          "data": {
            "text/html": [
              "<div>\n",
              "<style scoped>\n",
              "    .dataframe tbody tr th:only-of-type {\n",
              "        vertical-align: middle;\n",
              "    }\n",
              "\n",
              "    .dataframe tbody tr th {\n",
              "        vertical-align: top;\n",
              "    }\n",
              "\n",
              "    .dataframe thead th {\n",
              "        text-align: right;\n",
              "    }\n",
              "</style>\n",
              "<table border=\"1\" class=\"dataframe\">\n",
              "  <thead>\n",
              "    <tr style=\"text-align: right;\">\n",
              "      <th></th>\n",
              "      <th>Category</th>\n",
              "      <th>Resume</th>\n",
              "    </tr>\n",
              "  </thead>\n",
              "  <tbody>\n",
              "    <tr>\n",
              "      <th>0</th>\n",
              "      <td>Data Science</td>\n",
              "      <td>Skills * Programming Languages: Python (pandas...</td>\n",
              "    </tr>\n",
              "    <tr>\n",
              "      <th>1</th>\n",
              "      <td>Data Science</td>\n",
              "      <td>Education Details \\r\\nMay 2013 to May 2017 B.E...</td>\n",
              "    </tr>\n",
              "    <tr>\n",
              "      <th>2</th>\n",
              "      <td>Data Science</td>\n",
              "      <td>Areas of Interest Deep Learning, Control Syste...</td>\n",
              "    </tr>\n",
              "    <tr>\n",
              "      <th>3</th>\n",
              "      <td>Data Science</td>\n",
              "      <td>Skills â¢ R â¢ Python â¢ SAP HANA â¢ Table...</td>\n",
              "    </tr>\n",
              "    <tr>\n",
              "      <th>4</th>\n",
              "      <td>Data Science</td>\n",
              "      <td>Education Details \\r\\n MCA   YMCAUST,  Faridab...</td>\n",
              "    </tr>\n",
              "  </tbody>\n",
              "</table>\n",
              "</div>"
            ],
            "text/plain": [
              "       Category                                             Resume\n",
              "0  Data Science  Skills * Programming Languages: Python (pandas...\n",
              "1  Data Science  Education Details \\r\\nMay 2013 to May 2017 B.E...\n",
              "2  Data Science  Areas of Interest Deep Learning, Control Syste...\n",
              "3  Data Science  Skills â¢ R â¢ Python â¢ SAP HANA â¢ Table...\n",
              "4  Data Science  Education Details \\r\\n MCA   YMCAUST,  Faridab..."
            ]
          },
          "execution_count": 2,
          "metadata": {},
          "output_type": "execute_result"
        }
      ],
      "source": [
        "# Load dataset\n",
        "data = pd.read_csv(r\"C:\\Workspace\\Projects\\Resume Summarizer\\ResumeRanker_Shared\\env\\ResumeRanker_Shared\\assets\\data\\UpdatedResumeDataSet.csv\", engine='python')\n",
        "# data = pd.read_csv('/content/drive/My Drive/CodeDay/UpdatedResumeDataSet.csv') # Comment this line and uncomment the above line if this does not work for you\n",
        "data.head()"
      ]
    },
    {
      "cell_type": "code",
      "execution_count": 3,
      "metadata": {
        "colab": {
          "base_uri": "https://localhost:8080/",
          "height": 459
        },
        "colab_type": "code",
        "id": "lQWr0RJRpIQ9",
        "outputId": "489391e8-47b2-410c-cc28-325a6236c6c6"
      },
      "outputs": [
        {
          "name": "stdout",
          "output_type": "stream",
          "text": [
            "Category\n",
            "Java Developer               84\n",
            "Testing                      70\n",
            "DevOps Engineer              55\n",
            "Python Developer             48\n",
            "Web Designing                45\n",
            "HR                           44\n",
            "Hadoop                       42\n",
            "Blockchain                   40\n",
            "ETL Developer                40\n",
            "Operations Manager           40\n",
            "Data Science                 40\n",
            "Sales                        40\n",
            "Mechanical Engineer          40\n",
            "Arts                         36\n",
            "Database                     33\n",
            "Electrical Engineering       30\n",
            "Health and fitness           30\n",
            "PMO                          30\n",
            "Business Analyst             28\n",
            "DotNet Developer             28\n",
            "Automation Testing           26\n",
            "Network Security Engineer    25\n",
            "SAP Developer                24\n",
            "Civil Engineer               24\n",
            "Advocate                     20\n",
            "Name: count, dtype: int64\n"
          ]
        }
      ],
      "source": [
        "# Print unique categories of resumes\n",
        "print(data['Category'].value_counts())"
      ]
    },
    {
      "cell_type": "code",
      "execution_count": 4,
      "metadata": {
        "colab": {},
        "colab_type": "code",
        "id": "4ml2WddhpNEl"
      },
      "outputs": [],
      "source": [
        "# Drop rows where category is \"Testing\" and store new size of dataset\n",
        "data = data[data.Category != 'Testing']\n",
        "data_size = len(data)"
      ]
    },
    {
      "cell_type": "code",
      "execution_count": 5,
      "metadata": {
        "colab": {
          "base_uri": "https://localhost:8080/",
          "height": 897
        },
        "colab_type": "code",
        "id": "MgLthsGHpN_6",
        "outputId": "91d68162-b790-426d-d14b-5bb1b7ac02e4"
      },
      "outputs": [
        {
          "data": {
            "text/plain": [
              "<Axes: xlabel='count', ylabel='Category'>"
            ]
          },
          "execution_count": 5,
          "metadata": {},
          "output_type": "execute_result"
        },
        {
          "data": {
            "image/png": "[encoded data removed]",
            "text/plain": [
              "<Figure size 1500x1500 with 1 Axes>"
            ]
          },
          "metadata": {},
          "output_type": "display_data"
        }
      ],
      "source": [
        "# Bar graph visualization\n",
        "plt.figure(figsize=(15,15))\n",
        "plt.xticks(rotation=90)\n",
        "sns.countplot(y=\"Category\", data=data)"
      ]
    },
    {
      "cell_type": "code",
      "execution_count": 6,
      "metadata": {
        "colab": {},
        "colab_type": "code",
        "id": "xHxRTJ_QpS_o"
      },
      "outputs": [],
      "source": [
        "# Get set of stopwords\n",
        "stopwords_set = set(stopwords.words('english')+['``',\"''\"])"
      ]
    },
    {
      "cell_type": "code",
      "execution_count": 7,
      "metadata": {
        "colab": {},
        "colab_type": "code",
        "id": "81wWgOKYpU1-"
      },
      "outputs": [],
      "source": [
        "# Function to clean resume text\n",
        "def clean_text(resume_text):\n",
        "    resume_text = re.sub('http\\S+\\s*', ' ', resume_text)  # remove URLs\n",
        "    resume_text = re.sub('RT|cc', ' ', resume_text)  # remove RT and cc\n",
        "    resume_text = re.sub('#\\S+', '', resume_text)  # remove hashtags\n",
        "    resume_text = re.sub('@\\S+', '  ', resume_text)  # remove mentions\n",
        "    resume_text = re.sub('[%s]' % re.escape(\"\"\"!\"#$%&'()*+,-./:;<=>?@[\\]^_`{|}~\"\"\"), ' ', resume_text)  # remove punctuations\n",
        "    resume_text = re.sub(r'[^\\x00-\\x7f]',r' ', resume_text) \n",
        "    resume_text = re.sub('\\s+', ' ', resume_text)  # remove extra whitespace\n",
        "    resume_text = resume_text.lower()  # convert to lowercase\n",
        "    resume_text_tokens = word_tokenize(resume_text)  # tokenize\n",
        "    filtered_text = [w for w in resume_text_tokens if not w in stopwords_set]  # remove stopwords\n",
        "    return ' '.join(filtered_text)"
      ]
    },
    {
      "cell_type": "code",
      "execution_count": 8,
      "metadata": {
        "colab": {
          "base_uri": "https://localhost:8080/",
          "height": 751
        },
        "colab_type": "code",
        "id": "IKol74xcpWfR",
        "outputId": "5a93b1b2-ce70-4deb-934f-ab8072a09169"
      },
      "outputs": [
        {
          "name": "stdout",
          "output_type": "stream",
          "text": [
            "--- Original resume ---\n",
            "Skills * Programming Languages: Python (pandas, numpy, scipy, scikit-learn, matplotlib), Sql, Java, JavaScript/JQuery. * Machine learning: Regression, SVM, NaÃ¯ve Bayes, KNN, Random Forest, Decision Trees, Boosting techniques, Cluster Analysis, Word Embedding, Sentiment Analysis, Natural Language processing, Dimensionality reduction, Topic Modelling (LDA, NMF), PCA & Neural Nets. * Database Visualizations: Mysql, SqlServer, Cassandra, Hbase, ElasticSearch D3.js, DC.js, Plotly, kibana, matplotlib, ggplot, Tableau. * Others: Regular Expression, HTML, CSS, Angular 6, Logstash, Kafka, Python Flask, Git, Docker, computer vision - Open CV and understanding of Deep learning.Education Details \n",
            "\n",
            "Data Science Assurance Associate \n",
            "\n",
            "Data Science Assurance Associate - Ernst & Young LLP\n",
            "Skill Details \n",
            "JAVASCRIPT- Exprience - 24 months\n",
            "jQuery- Exprience - 24 months\n",
            "Python- Exprience - 24 monthsCompany Details \n",
            "company - Ernst & Young LLP\n",
            "description - Fraud Investigations and Dispute Services   Assurance\n",
            "TECHNOLOGY ASSISTED REVIEW\n",
            "TAR (Technology Assisted Review) assists in accelerating the review process and run analytics and generate reports.\n",
            "* Core member of a team helped in developing automated review platform tool from scratch for assisting E discovery domain, this tool implements predictive coding and topic modelling by automating reviews, resulting in reduced labor costs and time spent during the lawyers review.\n",
            "* Understand the end to end flow of the solution, doing research and development for classification models, predictive analysis and mining of the information present in text data. Worked on analyzing the outputs and precision monitoring for the entire tool.\n",
            "* TAR assists in predictive coding, topic modelling from the evidence by following EY standards. Developed the classifier models in order to identify \"red flags\" and fraud-related issues.\n",
            "\n",
            "Tools & Technologies: Python, scikit-learn, tfidf, word2vec, doc2vec, cosine similarity, NaÃ¯ve Bayes, LDA, NMF for topic modelling, Vader and text blob for sentiment analysis. Matplot lib, Tableau dashboard for reporting.\n",
            "\n",
            "MULTIPLE DATA SCIENCE AND ANALYTIC PROJECTS (USA CLIENTS)\n",
            "TEXT ANALYTICS - MOTOR VEHICLE CUSTOMER REVIEW DATA * Received customer feedback survey data for past one year. Performed sentiment (Positive, Negative & Neutral) and time series analysis on customer comments across all 4 categories.\n",
            "* Created heat map of terms by survey category based on frequency of words * Extracted Positive and Negative words across all the Survey categories and plotted Word cloud.\n",
            "* Created customized tableau dashboards for effective reporting and visualizations.\n",
            "CHATBOT * Developed a user friendly chatbot for one of our Products which handle simple questions about hours of operation, reservation options and so on.\n",
            "* This chat bot serves entire product related questions. Giving overview of tool via QA platform and also give recommendation responses so that user question to build chain of relevant answer.\n",
            "* This too has intelligence to build the pipeline of questions as per user requirement and asks the relevant /recommended questions.\n",
            "\n",
            "Tools & Technologies: Python, Natural language processing, NLTK, spacy, topic modelling, Sentiment analysis, Word Embedding, scikit-learn, JavaScript/JQuery, SqlServer\n",
            "\n",
            "INFORMATION GOVERNANCE\n",
            "Organizations to make informed decisions about all of the information they store. The integrated Information Governance portfolio synthesizes intelligence across unstructured data sources and facilitates action to ensure organizations are best positioned to counter information risk.\n",
            "* Scan data from multiple sources of formats and parse different file formats, extract Meta data information, push results for indexing elastic search and created customized, interactive dashboards using kibana.\n",
            "* Preforming ROT Analysis on the data which give information of data which helps identify content that is either Redundant, Outdated, or Trivial.\n",
            "* Preforming full-text search analysis on elastic search with predefined methods which can tag as (PII) personally identifiable information (social security numbers, addresses, names, etc.) which frequently targeted during cyber-attacks.\n",
            "Tools & Technologies: Python, Flask, Elastic Search, Kibana\n",
            "\n",
            "FRAUD ANALYTIC PLATFORM\n",
            "Fraud Analytics and investigative platform to review all red flag cases.\n",
            "â¢ FAP is a Fraud Analytics and investigative platform with inbuilt case manager and suite of Analytics for various ERP systems.\n",
            "* It can be used by clients to interrogate their Accounting systems for identifying the anomalies which can be indicators of fraud by running advanced analytics\n",
            "Tools & Technologies: HTML, JavaScript, SqlServer, JQuery, CSS, Bootstrap, Node.js, D3.js, DC.js\n"
          ]
        }
      ],
      "source": [
        "# Print a sample original resume\n",
        "print('--- Original resume ---')\n",
        "print(data['Resume'][0])"
      ]
    },
    {
      "cell_type": "code",
      "execution_count": 9,
      "metadata": {
        "colab": {
          "base_uri": "https://localhost:8080/",
          "height": 71
        },
        "colab_type": "code",
        "id": "ixmhpVkfpYH8",
        "outputId": "7ea329d8-b448-4d67-e0e1-2495cb6f3bfe"
      },
      "outputs": [
        {
          "name": "stdout",
          "output_type": "stream",
          "text": [
            "--- Cleaned resume ---\n",
            "skills programming languages python pandas numpy scipy scikit learn matplotlib sql java javascript jquery machine learning regression svm na bayes knn random forest decision trees boosting techniques cluster analysis word embedding sentiment analysis natural language processing dimensionality reduction topic modelling lda nmf pca neural nets database visualizations mysql sqlserver cassandra hbase elasticsearch d3 js dc js plotly kibana matplotlib ggplot tableau others regular expression html css angular 6 logstash kafka python flask git docker computer vision open cv understanding deep learning education details data science assurance associate data science assurance associate ernst young llp skill details javascript exprience 24 months jquery exprience 24 months python exprience 24 monthscompany details company ernst young llp description fraud investigations dispute services assurance technology assisted review tar technology assisted review assists elerating review process run analytics generate reports core member team helped developing automated review platform tool scratch assisting e discovery domain tool implements predictive coding topic modelling automating reviews resulting reduced labor costs time spent lawyers review understand end end flow solution research development classification models predictive analysis mining information present text data worked analyzing outputs precision monitoring entire tool tar assists predictive coding topic modelling evidence following ey standards developed classifier models order identify red flags fraud related issues tools technologies python scikit learn tfidf word2vec doc2vec cosine similarity na bayes lda nmf topic modelling vader text blob sentiment analysis matplot lib tableau dashboard reporting multiple data science analytic projects usa clients text analytics motor vehicle customer review data received customer feedback survey data past one year performed sentiment positive negative neutral time series analysis customer comments across 4 categories created heat map terms survey category based frequency words extracted positive negative words across survey categories plotted word cloud created customized tableau dashboards effective reporting visualizations chatbot developed user friendly chatbot one products handle simple questions hours operation reservation options chat bot serves entire product related questions giving overview tool via qa platform also give recommendation responses user question build chain relevant answer intelligence build pipeline questions per user requirement asks relevant recommended questions tools technologies python natural language processing nltk spacy topic modelling sentiment analysis word embedding scikit learn javascript jquery sqlserver information governance organizations make informed decisions information store integrated information governance portfolio synthesizes intelligence across unstructured data sources facilitates action ensure organizations best positioned counter information risk scan data multiple sources formats parse different file formats extract meta data information push results indexing elastic search created customized interactive dashboards using kibana preforming rot analysis data give information data helps identify content either redundant outdated trivial preforming full text search analysis elastic search predefined methods tag pii personally identifiable information social security numbers addresses names etc frequently targeted cyber attacks tools technologies python flask elastic search kibana fraud analytic platform fraud analytics investigative platform review red flag cases fap fraud analytics investigative platform inbuilt case manager suite analytics various erp systems used clients interrogate ounting systems identifying anomalies indicators fraud running advanced analytics tools technologies html javascript sqlserver jquery css bootstrap node js d3 js dc js\n"
          ]
        }
      ],
      "source": [
        "# Print the same resume after text cleaning\n",
        "data['cleaned_resume'] = data.Resume.apply(lambda x: clean_text(x))\n",
        "\n",
        "print('--- Cleaned resume ---')\n",
        "print(data['cleaned_resume'][0])"
      ]
    },
    {
      "cell_type": "code",
      "execution_count": 10,
      "metadata": {},
      "outputs": [
        {
          "data": {
            "text/html": [
              "<div>\n",
              "<style scoped>\n",
              "    .dataframe tbody tr th:only-of-type {\n",
              "        vertical-align: middle;\n",
              "    }\n",
              "\n",
              "    .dataframe tbody tr th {\n",
              "        vertical-align: top;\n",
              "    }\n",
              "\n",
              "    .dataframe thead th {\n",
              "        text-align: right;\n",
              "    }\n",
              "</style>\n",
              "<table border=\"1\" class=\"dataframe\">\n",
              "  <thead>\n",
              "    <tr style=\"text-align: right;\">\n",
              "      <th></th>\n",
              "      <th>Category</th>\n",
              "      <th>Resume</th>\n",
              "      <th>cleaned_resume</th>\n",
              "    </tr>\n",
              "  </thead>\n",
              "  <tbody>\n",
              "    <tr>\n",
              "      <th>0</th>\n",
              "      <td>Data Science</td>\n",
              "      <td>Skills * Programming Languages: Python (pandas...</td>\n",
              "      <td>skills programming languages python pandas num...</td>\n",
              "    </tr>\n",
              "    <tr>\n",
              "      <th>1</th>\n",
              "      <td>Data Science</td>\n",
              "      <td>Education Details \\r\\nMay 2013 to May 2017 B.E...</td>\n",
              "      <td>education details may 2013 may 2017 b e uit rg...</td>\n",
              "    </tr>\n",
              "    <tr>\n",
              "      <th>2</th>\n",
              "      <td>Data Science</td>\n",
              "      <td>Areas of Interest Deep Learning, Control Syste...</td>\n",
              "      <td>areas interest deep learning control system de...</td>\n",
              "    </tr>\n",
              "    <tr>\n",
              "      <th>3</th>\n",
              "      <td>Data Science</td>\n",
              "      <td>Skills â¢ R â¢ Python â¢ SAP HANA â¢ Table...</td>\n",
              "      <td>skills r python sap hana tableau sap hana sql ...</td>\n",
              "    </tr>\n",
              "    <tr>\n",
              "      <th>4</th>\n",
              "      <td>Data Science</td>\n",
              "      <td>Education Details \\r\\n MCA   YMCAUST,  Faridab...</td>\n",
              "      <td>education details mca ymcaust faridabad haryan...</td>\n",
              "    </tr>\n",
              "    <tr>\n",
              "      <th>...</th>\n",
              "      <td>...</td>\n",
              "      <td>...</td>\n",
              "      <td>...</td>\n",
              "    </tr>\n",
              "    <tr>\n",
              "      <th>887</th>\n",
              "      <td>Blockchain</td>\n",
              "      <td>Hobbies â¢ Playing Chess â¢ Solving Rubik's ...</td>\n",
              "      <td>hobbies playing chess solving rubik cube watch...</td>\n",
              "    </tr>\n",
              "    <tr>\n",
              "      <th>888</th>\n",
              "      <td>Blockchain</td>\n",
              "      <td>Skills Strong CS fundamentals and problem solv...</td>\n",
              "      <td>skills strong cs fundamentals problem solving ...</td>\n",
              "    </tr>\n",
              "    <tr>\n",
              "      <th>889</th>\n",
              "      <td>Blockchain</td>\n",
              "      <td>KEY SKILLS: Programing languages: C, C++, Pyth...</td>\n",
              "      <td>key skills programing languages c c python ape...</td>\n",
              "    </tr>\n",
              "    <tr>\n",
              "      <th>890</th>\n",
              "      <td>Blockchain</td>\n",
              "      <td>SOFTWARE SKILLS: Languages: C, C++ &amp; java Oper...</td>\n",
              "      <td>software skills languages c c java operating s...</td>\n",
              "    </tr>\n",
              "    <tr>\n",
              "      <th>891</th>\n",
              "      <td>Blockchain</td>\n",
              "      <td>SKILLS Bitcoin, Ethereum Solidity Hyperledger,...</td>\n",
              "      <td>skills bitcoin ethereum solidity hyperledger b...</td>\n",
              "    </tr>\n",
              "  </tbody>\n",
              "</table>\n",
              "<p>892 rows × 3 columns</p>\n",
              "</div>"
            ],
            "text/plain": [
              "         Category                                             Resume  \\\n",
              "0    Data Science  Skills * Programming Languages: Python (pandas...   \n",
              "1    Data Science  Education Details \\r\\nMay 2013 to May 2017 B.E...   \n",
              "2    Data Science  Areas of Interest Deep Learning, Control Syste...   \n",
              "3    Data Science  Skills â¢ R â¢ Python â¢ SAP HANA â¢ Table...   \n",
              "4    Data Science  Education Details \\r\\n MCA   YMCAUST,  Faridab...   \n",
              "..            ...                                                ...   \n",
              "887    Blockchain  Hobbies â¢ Playing Chess â¢ Solving Rubik's ...   \n",
              "888    Blockchain  Skills Strong CS fundamentals and problem solv...   \n",
              "889    Blockchain  KEY SKILLS: Programing languages: C, C++, Pyth...   \n",
              "890    Blockchain  SOFTWARE SKILLS: Languages: C, C++ & java Oper...   \n",
              "891    Blockchain  SKILLS Bitcoin, Ethereum Solidity Hyperledger,...   \n",
              "\n",
              "                                        cleaned_resume  \n",
              "0    skills programming languages python pandas num...  \n",
              "1    education details may 2013 may 2017 b e uit rg...  \n",
              "2    areas interest deep learning control system de...  \n",
              "3    skills r python sap hana tableau sap hana sql ...  \n",
              "4    education details mca ymcaust faridabad haryan...  \n",
              "..                                                 ...  \n",
              "887  hobbies playing chess solving rubik cube watch...  \n",
              "888  skills strong cs fundamentals problem solving ...  \n",
              "889  key skills programing languages c c python ape...  \n",
              "890  software skills languages c c java operating s...  \n",
              "891  skills bitcoin ethereum solidity hyperledger b...  \n",
              "\n",
              "[892 rows x 3 columns]"
            ]
          },
          "execution_count": 10,
          "metadata": {},
          "output_type": "execute_result"
        }
      ],
      "source": [
        "data"
      ]
    },
    {
      "cell_type": "code",
      "execution_count": 11,
      "metadata": {},
      "outputs": [
        {
          "name": "stdout",
          "output_type": "stream",
          "text": [
            "education details mba acn college engineering mgt hr skill details company details company hr assistant description\n",
            "hr\n"
          ]
        }
      ],
      "source": [
        "# Get features and labels from data and shuffle\n",
        "features = data['cleaned_resume'].values\n",
        "original_labels = data['Category'].values\n",
        "labels = original_labels[:]\n",
        "\n",
        "for i in range(data_size):\n",
        "  labels[i] = str(labels[i].lower())  # convert to lowercase\n",
        "  labels[i] = labels[i].replace(\" \", \"\")  # use hyphens to convert multi-token labels into single tokens\n",
        "\n",
        "features, labels = shuffle(features, labels)\n",
        "\n",
        "# Print example feature and label\n",
        "print(features[0])\n",
        "print(labels[0])"
      ]
    },
    {
      "cell_type": "code",
      "execution_count": 12,
      "metadata": {
        "colab": {
          "base_uri": "https://localhost:8080/",
          "height": 51
        },
        "colab_type": "code",
        "id": "ymbM9wkVpe7l",
        "outputId": "7af7d2dd-f271-47ae-a2cc-a19c891f4572"
      },
      "outputs": [
        {
          "name": "stdout",
          "output_type": "stream",
          "text": [
            "713\n",
            "179\n"
          ]
        }
      ],
      "source": [
        "# Split for train and test\n",
        "train_split = 0.8\n",
        "train_size = int(train_split * data_size)\n",
        "\n",
        "train_features = features[:train_size]\n",
        "train_labels = labels[:train_size]\n",
        "\n",
        "test_features = features[train_size:]\n",
        "test_labels = labels[train_size:]\n",
        "\n",
        "# Print size of each split\n",
        "print(len(train_labels))\n",
        "print(len(test_labels))"
      ]
    },
    {
      "cell_type": "code",
      "execution_count": 13,
      "metadata": {
        "colab": {
          "base_uri": "https://localhost:8080/",
          "height": 88
        },
        "colab_type": "code",
        "id": "siMQvlJapkmZ",
        "outputId": "a0c396a3-1624-46e4-d83d-1cbb361222c8"
      },
      "outputs": [
        {
          "name": "stdout",
          "output_type": "stream",
          "text": [
            "{'<OOV>': 1, 'exprience': 2, 'company': 3, 'project': 4, 'months': 5, 'description': 6, 'details': 7, 'data': 8, '1': 9, 'management': 10, 'team': 11, 'year': 12, '6': 13, 'system': 14, 'maharashtra': 15, 'database': 16, 'development': 17, 'business': 18, 'less': 19, 'sql': 20, 'ltd': 21, 'using': 22, 'developer': 23, 'client': 24, 'java': 25, 'skill': 26, 'testing': 27, 'application': 28, 'pune': 29, 'engineering': 30, 'january': 31, 'services': 32, 'work': 33, 'skills': 34, 'c': 35, 'test': 36, 'software': 37, 'sales': 38, 'responsibilities': 39, 'pvt': 40, 'operations': 41, 'requirements': 42, 'reports': 43, 'education': 44, 'server': 45, 'technical': 46, 'process': 47, 'india': 48, 'customer': 49, 'various': 50, 'design': 51, 'technologies': 52, 'university': 53, 'working': 54, 'python': 55, 'monthscompany': 56, '2': 57, 'environment': 58, 'web': 59, 'like': 60, 'college': 61, 'automation': 62, 'support': 63, 'mysql': 64, 'worked': 65, 'role': 66, 'technology': 67, 'activities': 68, 'time': 69, 'e': 70, 'based': 71, 'used': 72, 'manager': 73, 'training': 74, 'projects': 75, 'issues': 76, 'knowledge': 77, 'mumbai': 78, '4': 79, '3': 80, 'new': 81, 'information': 82, 'different': 83, 'experience': 84, 'engineer': 85, 'computer': 86, 'etc': 87, 'managing': 88, 'per': 89, 'systems': 90, 'network': 91, 'b': 92, 'requirement': 93, 'oracle': 94, 'quality': 95, 'handling': 96, 'end': 97, 'monitoring': 98, 'performance': 99, 'job': 100, 'science': 101, 'windows': 102, 'user': 103, 'involved': 104, 'hadoop': 105, 'users': 106, 'ensure': 107, 'tools': 108, 'analysis': 109, 'maintenance': 110, 'ms': 111, 'maintaining': 112, 'developing': 113, 'completed': 114, 'report': 115, 'service': 116, 'developed': 117, 'servers': 118, '5': 119, 'related': 120, 'sap': 121, 'html': 122, 'customers': 123, 'control': 124, 'security': 125, 'responsible': 126, 'ensuring': 127, 'javascript': 128, 'required': 129, 'jquery': 130, 'creating': 131, '2017': 132, 'linux': 133, 'provide': 134, 'shell': 135, 'etl': 136, 'clients': 137, '2016': 138, 'school': 139, 'office': 140, 'key': 141, 'solutions': 142, 'processes': 143, 'documentation': 144, 'production': 145, 'net': 146, 'also': 147, 'build': 148, 'reporting': 149, 'hive': 150, 'electrical': 151, 'good': 152, 'internal': 153, 'roles': 154, 'level': 155, 'applications': 156, 'product': 157, 'queries': 158, 'learning': 159, 'configuration': 160, 'power': 161, 'scripts': 162, 'operating': 163, 'machine': 164, 'high': 165, '24': 166, 'maintain': 167, 'delivery': 168, '7': 169, 'review': 170, 'communication': 171, 'meetings': 172, 'platform': 173, 'providing': 174, 'daily': 175, 'scripting': 176, 'document': 177, 'website': 178, 'bank': 179, 'members': 180, 'manage': 181, '2008': 182, 'su': 183, 'created': 184, 'documents': 185, 'planning': 186, '2015': 187, 'plan': 188, 'well': 189, '10': 190, 'solution': 191, 'functional': 192, 'global': 193, 'timely': 194, 'understanding': 195, 'designed': 196, 'develop': 197, 'css': 198, 'products': 199, 'multiple': 200, 'administration': 201, 'preparing': 202, 'international': 203, 'june': 204, 'site': 205, 'limited': 206, 'co': 207, '2012': 208, 'order': 209, 'responsibility': 210, 'billing': 211, 'board': 212, 'informatica': 213, 'programming': 214, 'state': 215, 'name': 216, 'databases': 217, 'lead': 218, 'health': 219, '2014': 220, 'unit': 221, 'cases': 222, 'ajax': 223, 'activity': 224, 'languages': 225, 'tool': 226, 'senior': 227, 'framework': 228, 'integration': 229, 'vendor': 230, 'diploma': 231, 'implementation': 232, 'nagpur': 233, 'jobs': 234, 'monitor': 235, 'preparation': 236, 'marketing': 237, 'bootstrap': 238, 'institute': 239, 'create': 240, 'fitness': 241, 'weekly': 242, 'one': 243, 'cisco': 244, 'bachelor': 245, 'implemented': 246, 'unix': 247, 'program': 248, 'performed': 249, 'may': 250, 'inventory': 251, 'mechanical': 252, 'microsoft': 253, 'writing': 254, 'deployment': 255, 'backup': 256, 'within': 257, '2018': 258, 'blockchain': 259, 'devops': 260, '12': 261, 'including': 262, 'cloud': 263, 'identify': 264, 'sla': 265, 'commerce': 266, 'creation': 267, 'script': 268, 'across': 269, 'core': 270, 'monthly': 271, 'risk': 272, 'analytics': 273, 'payment': 274, 'analyzing': 275, '8': 276, 'vendors': 277, 'ability': 278, 'ess': 279, 'online': 280, 'teams': 281, 'size': 282, 'change': 283, 'schedule': 284, 'code': 285, 'complete': 286, 'qa': 287, 'track': 288, 'day': 289, 'tasks': 290, '9': 291, 'made': 292, 'understand': 293, '2010': 294, 'installation': 295, 'type': 296, 'basis': 297, 'plans': 298, 'trust': 299, 'date': 300, 'designing': 301, 'tech': 302, 'honeywell': 303, 'make': 304, 'insurance': 305, 'troubleshooting': 306, 'essfully': 307, 'employee': 308, 'staff': 309, 'procedures': 310, 'studio': 311, 'progress': 312, 'existing': 313, 'group': 314, 'files': 315, 'source': 316, 'excel': 317, 'fat': 318, 'hana': 319, 'perform': 320, 'spring': 321, 'resource': 322, 'scope': 323, 'title': 324, 'sqoop': 325, 'monitored': 326, 'building': 327, 'banking': 328, 'civil': 329, 'pre': 330, 'ges': 331, 'manual': 332, 'schedules': 333, 'provided': 334, 'personal': 335, 'plc': 336, 'financial': 337, 'proposal': 338, 'effective': 339, 'tables': 340, 'purchase': 341, 'operational': 342, '2013': 343, 'center': 344, 'years': 345, 'execution': 346, 'distribution': 347, 'asp': 348, 'changes': 349, 'hdfs': 350, 'mvc': 351, 'till': 352, 'status': 353, 'basic': 354, 'standard': 355, 'hr': 356, 'flow': 357, 'entire': 358, 'tracking': 359, 'stakeholders': 360, 'tata': 361, 'part': 362, 'modules': 363, 'api': 364, 'release': 365, 'generate': 366, 'erp': 367, 'arts': 368, 'aws': 369, 'corporate': 370, 'participated': 371, 'organization': 372, 'git': 373, 'processing': 374, 'private': 375, 'implementing': 376, 'jsp': 377, 'cluster': 378, 'standards': 379, 'com': 380, 'credit': 381, 'dr': 382, 'cost': 383, 'use': 384, 'gathering': 385, 'handled': 386, 'people': 387, 'duration': 388, 'db': 389, 'check': 390, 'issue': 391, 'analyst': 392, 'bo': 393, 'case': 394, '0': 395, 'html5': 396, 'php': 397, 'portal': 398, 'commercial': 399, 'js': 400, 'research': 401, 'korea': 402, 'hibernate': 403, 'set': 404, 'estimation': 405, 'calls': 406, 'warehouse': 407, 'panels': 408, 'leading': 409, 'ui': 410, 'position': 411, 'participate': 412, 'r': 413, 'bugs': 414, 'enterprise': 415, 'point': 416, 'ounts': 417, 'coordinating': 418, 'material': 419, 'days': 420, 'talend': 421, 'resolve': 422, 'attending': 423, 'photoshop': 424, 'industrial': 425, 'programs': 426, 'reduce': 427, 'spark': 428, 'profile': 429, '2011': 430, 'audit': 431, 'done': 432, 'back': 433, 'h': 434, 'graphics': 435, 'infrastructure': 436, 'manufacturing': 437, 'designer': 438, 'best': 439, 'help': 440, 'g': 441, 'industry': 442, 'orders': 443, 'coordinate': 444, 'automated': 445, 'includes': 446, 'target': 447, 'prepare': 448, 'resources': 449, 'contract': 450, 'replication': 451, 'agile': 452, 'department': 453, 'regression': 454, 'electronics': 455, 'text': 456, 'secondary': 457, 'administrator': 458, 'file': 459, 'architecture': 460, 'identifying': 461, 'employees': 462, 'css3': 463, 'freight': 464, 'qtp': 465, 'critical': 466, 'visual': 467, 'layer': 468, 'jenkins': 469, 'life': 470, 'drawing': 471, 'consultancy': 472, 'problem': 473, 'overall': 474, 'developers': 475, 'k': 476, 'mis': 477, 'equipment': 478, 'loan': 479, 'analyze': 480, 'strong': 481, 'language': 482, 'excellent': 483, 'ethereum': 484, 'stock': 485, 'shipments': 486, 'targets': 487, 'english': 488, 'professional': 489, 'angular': 490, 'events': 491, 'xp': 492, 'present': 493, 'ssc': 494, 'specifications': 495, 'meeting': 496, 'hsc': 497, '20': 498, 'along': 499, 'compliance': 500, '48': 501, 'area': 502, 'consultant': 503, 'revenue': 504, '15': 505, 'leader': 506, 'construction': 507, 'given': 508, 'suppliers': 509, 'load': 510, 'components': 511, 'multi': 512, 'pmo': 513, 'interface': 514, 'panel': 515, 'networking': 516, 'master': 517, 'managers': 518, 'requests': 519, 'student': 520, 'uat': 521, 'smooth': 522, 'base': 523, 'admin': 524, 'line': 525, 'problems': 526, 'models': 527, 'j2ee': 528, 'comments': 529, 'field': 530, 'potential': 531, 'smart': 532, 'external': 533, 'engineers': 534, 'solving': 535, '11g': 536, 'workshop': 537, 'mappings': 538, 'wipro': 539, 'shipping': 540, 'version': 541, 'maintained': 542, 'dot': 543, 'migration': 544, 'model': 545, 'post': 546, 'conducted': 547, 'efficiency': 548, 'resolving': 549, 'firewall': 550, 'opportunities': 551, 'nashik': 552, 'strategies': 553, 'uk': 554, 'take': 555, 'national': 556, 'side': 557, 'apache': 558, 'nendrasys': 559, 'areas': 560, 'complex': 561, 'getting': 562, 'reviews': 563, 'materials': 564, 'conducting': 565, 'checking': 566, 'methodology': 567, 'controls': 568, 'achieve': 569, 'loading': 570, 'expertise': 571, 'media': 572, 'supply': 573, 'inspection': 574, 'delivered': 575, 'hpm': 576, 'improve': 577, 'map': 578, 'view': 579, 'departments': 580, 'plant': 581, 'specification': 582, 'thai': 583, 'servlet': 584, 'july': 585, 'british': 586, 'continuous': 587, 'taking': 588, 'result': 589, 'provides': 590, 'wrote': 591, 'ount': 592, 'log': 593, 'included': 594, 'request': 595, 'm3': 596, 'pig': 597, 'presentation': 598, 'follow': 599, 'troubleshoot': 600, 'devices': 601, 'export': 602, 'maven': 603, 'logs': 604, 'risks': 605, 'offers': 606, 'autocad': 607, 'certificate': 608, 'environments': 609, 'json': 610, '2009': 611, 'usa': 612, 'budget': 613, 'relationship': 614, 'setup': 615, 'deployed': 616, 'decision': 617, 'django': 618, 'shared': 619, 'foundation': 620, 'interaction': 621, 'actively': 622, 'processed': 623, 'extract': 624, 'flat': 625, 'policies': 626, 'investment': 627, 'driven': 628, 'learn': 629, 'august': 630, 'running': 631, 'making': 632, 'eclipse': 633, 'capacity': 634, 'direct': 635, 'keeping': 636, 'world': 637, 'qatar': 638, 'onsite': 639, 'functions': 640, 'supporting': 641, 'sessions': 642, 'scheduling': 643, 'course': 644, 'checks': 645, 'results': 646, 'defined': 647, 'os': 648, 'regular': 649, 'pradesh': 650, 'reconciliation': 651, 'www': 652, '01': 653, 'us': 654, 'united': 655, 'logic': 656, 'backups': 657, 'architect': 658, 'via': 659, 'leadership': 660, 'cash': 661, 'crm': 662, 'qc': 663, 'backend': 664, 'drawings': 665, 'hotel': 666, 'dev': 667, 'hands': 668, 'configuring': 669, 'dashboard': 670, 'mongodb': 671, 'higher': 672, 'discuss': 673, 'assistant': 674, 'achieving': 675, 'gym': 676, 'operation': 677, 'chain': 678, 'records': 679, 'sent': 680, 'r2': 681, 'mapreduce': 682, 'jan': 683, 'generated': 684, 'selenium': 685, 'ording': 686, 'following': 687, 'public': 688, 'enquiries': 689, 'station': 690, 'wiring': 691, 'bny': 692, 'mellon': 693, 'leads': 694, 'sr': 695, 'appropriate': 696, 'types': 697, 'detailed': 698, 'transaction': 699, 'techniques': 700, 'essful': 701, 'sources': 702, 'front': 703, 'switches': 704, '11': 705, 'goal': 706, 'overseeing': 707, 'ge': 708, 'air': 709, 'trade': 710, 'categories': 711, 'usage': 712, 'word': 713, 'stake': 714, 'holders': 715, 'procurement': 716, 'top': 717, 'marshalling': 718, 'transformations': 719, 'prepaid': 720, 'government': 721, 'self': 722, '2006': 723, 'availability': 724, 'certified': 725, 'local': 726, 'deliverables': 727, '2000': 728, 'update': 729, 'generating': 730, 'bug': 731, '2007': 732, 'capital': 733, 'strategic': 734, 'analytical': 735, 'views': 736, 'structure': 737, 'real': 738, 'communications': 739, 'necessary': 740, 'deep': 741, 'polytechnic': 742, 'phule': 743, 'active': 744, 'groups': 745, 'executing': 746, 'mahindra': 747, 'cricket': 748, 'businesses': 749, 'cards': 750, 'mapping': 751, 'call': 752, 'relevant': 753, 'features': 754, 'modern': 755, 'reviewing': 756, 'helping': 757, 'hbase': 758, 'rest': 759, '31': 760, 'logistics': 761, 'market': 762, 'integrated': 763, 'executive': 764, 'healthcare': 765, 'cycle': 766, 'available': 767, 'implement': 768, 'sub': 769, 'region': 770, 'big': 771, 'conduct': 772, 'execute': 773, 'sure': 774, 'first': 775, 'designation': 776, 'validate': 777, 'completion': 778, 'go': 779, 'mentioned': 780, '16': 781, 'form': 782, 'pm': 783, 'algorithms': 784, 'interacting': 785, 'debugging': 786, 'platforms': 787, 'errors': 788, 'future': 789, 'finance': 790, 'ad': 791, 'nov': 792, '72': 793, 'raised': 794, 'jira': 795, 'branches': 796, 'advance': 797, 'amravati': 798, 'repository': 799, 'pl': 800, 'ways': 801, 'synopsis': 802, 'managed': 803, 'relationships': 804, '30': 805, 'movex': 806, 'le': 807, 'router': 808, 'applying': 809, 'ftp': 810, 'communicating': 811, 'savitribai': 812, 'levels': 813, 'paper': 814, 'towards': 815, 'upgrade': 816, 'bi': 817, 'strategy': 818, 'closely': 819, 'costs': 820, 'setting': 821, 'firewalls': 822, 'auto': 823, '400': 824, 'ibm': 825, 'council': 826, 'proper': 827, 'deploy': 828, 'routing': 829, 'transactions': 830, '28': 831, 'module': 832, 'price': 833, 'countries': 834, 'music': 835, 'fine': 836, 'metrics': 837, 'ant': 838, 'bbl': 839, '2005': 840, 'query': 841, 'meet': 842, 'safety': 843, '36': 844, 'floor': 845, 'function': 846, 'contribution': 847, 'filenet': 848, 'webi': 849, 'domain': 850, 'prepared': 851, 'repositories': 852, 'app': 853, 'generation': 854, 'get': 855, 'correct': 856, 'head': 857, 'organizing': 858, 'tableau': 859, 'care': 860, 'resolution': 861, 'packages': 862, 'governance': 863, 'capabilities': 864, 'scala': 865, 'range': 866, 'currently': 867, 'page': 868, 'bond': 869, 'every': 870, 'sending': 871, 'hardware': 872, 'azure': 873, 'dell': 874, 'customized': 875, 'aug': 876, 'fixing': 877, 'v': 878, 'sdlc': 879, 'rules': 880, 'achieved': 881, 'include': 882, 'card': 883, 'utilization': 884, 'free': 885, 'individual': 886, 'involves': 887, 'duties': 888, 'emails': 889, 'throughout': 890, 'installing': 891, 'bods': 892, 'intelligence': 893, 'universe': 894, 'transition': 895, 'need': 896, 'assist': 897, 'feedback': 898, 'specific': 899, 'communicate': 900, 'legal': 901, 'facility': 902, 'handle': 903, 'negotiating': 904, 'member': 905, 'period': 906, 'improvement': 907, 'feeds': 908, 'corporation': 909, 'assurant': 910, 'updating': 911, 'clinical': 912, 'scenarios': 913, 'tomcat': 914, 'transfer': 915, 'task': 916, 'codes': 917, 'frame': 918, 'capgemini': 919, 'postgresql': 920, 'drives': 921, 'tests': 922, 'rman': 923, 'p': 924, 'possible': 925, 'diagrams': 926, 'dashboards': 927, 'quick': 928, 'controller': 929, 'dubai': 930, 'powerpoint': 931, 'calculation': 932, 'centre': 933, 'efficient': 934, 'jdbc': 935, '14': 936, 'dcs': 937, 'ubuntu': 938, 'consulting': 939, 'partners': 940, 'offshore': 941, 'supported': 942, 'hindi': 943, 'regularly': 944, 'configured': 945, 'ide': 946, 'tuning': 947, 'around': 948, 'live': 949, 'companies': 950, 'store': 951, 'n': 952, 'clear': 953, 'image': 954, 'reviewed': 955, '27': 956, 'restore': 957, 'formats': 958, 'main': 959, 'general': 960, 'iso': 961, 'location': 962, 'march': 963, 'internet': 964, 'motor': 965, 'transport': 966, 'contributions': 967, 'asa': 968, 'fds': 969, 'needs': 970, 'nutrition': 971, 'define': 972, 'matrix': 973, 'effectively': 974, 'quarterly': 975, 'interpersonal': 976, 'positive': 977, 'invoicing': 978, 'tenure': 979, 'coordination': 980, 'major': 981, 'performing': 982, 'pos': 983, 'direction': 984, 'validation': 985, 'programme': 986, 'helps': 987, 'pan': 988, 'controllers': 989, 'sites': 990, 'impact': 991, 'talent': 992, 'fixed': 993, 'final': 994, 'right': 995, 'negotiations': 996, 'rates': 997, 'energy': 998, 'quotations': 999, 'selection': 1000, 'invoices': 1001, 'law': 1002, 'number': 1003, 'feature': 1004, 'xml': 1005, 'mobile': 1006, 'cross': 1007, 'growth': 1008, 'audits': 1009, 'assisting': 1010, 'providers': 1011, 'sector': 1012, 'ticket': 1013, 'stipulated': 1014, 'plus': 1015, 'import': 1016, 'commissioning': 1017, 'utility': 1018, 'open': 1019, 'ups': 1020, 'contracts': 1021, 'proven': 1022, 'competition': 1023, 'communicated': 1024, 'month': 1025, 'satisfaction': 1026, 'storage': 1027, 'oil': 1028, 'numpy': 1029, 'hmi': 1030, 'node': 1031, '96': 1032, 'rdbms': 1033, 'objects': 1034, 'fixes': 1035, 'strengths': 1036, 'large': 1037, 'structured': 1038, 'run': 1039, 'provider': 1040, 'ounting': 1041, 'enhance': 1042, 'scrum': 1043, 'lifecycle': 1044, 'ci': 1045, 'single': 1046, 'series': 1047, 'central': 1048, 'optimization': 1049, 'cbs': 1050, 'able': 1051, 'visio': 1052, 'terms': 1053, 'supplies': 1054, 'consignments': 1055, 'scheduled': 1056, 'sc': 1057, 'u': 1058, 'lt': 1059, 'cable': 1060, 'layout': 1061, '17': 1062, 'got': 1063, 'android': 1064, 'achievements': 1065, 'ecosystem': 1066, 'mba': 1067, 'merchants': 1068, 'bitbucket': 1069, 'april': 1070, 'written': 1071, 'updates': 1072, 'mail': 1073, 'patching': 1074, 'summary': 1075, 'actions': 1076, 'defining': 1077, 'methodologies': 1078, 'engg': 1079, 'received': 1080, 'established': 1081, 'actual': 1082, 'exposure': 1083, 'liaising': 1084, 'past': 1085, 'effort': 1086, 'recruitment': 1087, 'spoc': 1088, 'driving': 1089, 'submission': 1090, 'analyzed': 1091, 'feb': 1092, 'car': 1093, 'recovery': 1094, 'nlp': 1095, 'concepts': 1096, 'analysts': 1097, 'sloan': 1098, 'permissions': 1099, 'prod': 1100, 'interest': 1101, 'switching': 1102, 'f': 1103, 'works': 1104, 'built': 1105, 'hiring': 1106, 'stores': 1107, 'parameters': 1108, 'objective': 1109, 'satellite': 1110, 'p8': 1111, 'defect': 1112, 'visit': 1113, 'coordinated': 1114, 'frontend': 1115, 'inputs': 1116, 'social': 1117, 'manner': 1118, 'policy': 1119, 'directly': 1120, 'incident': 1121, 'tracker': 1122, 'trends': 1123, 'iit': 1124, 'st': 1125, 'annual': 1126, 'exports': 1127, 'receiving': 1128, 'redundant': 1129, 'nos': 1130, 'workflow': 1131, 'entities': 1132, 'pr': 1133, 'association': 1134, 'robot': 1135, 'vpn': 1136, 'factory': 1137, 'proactively': 1138, 'assigned': 1139, 'primary': 1140, 'basically': 1141, 'builds': 1142, 'academy': 1143, 'trainer': 1144, 'custom': 1145, 'proficient': 1146, 'content': 1147, 'four': 1148, 'advanced': 1149, 'road': 1150, 'address': 1151, 'largest': 1152, 'stored': 1153, 'value': 1154, 'identified': 1155, 'instances': 1156, 'wave': 1157, 'current': 1158, 'dynamic': 1159, 'tax': 1160, 'increase': 1161, 'academic': 1162, 'automate': 1163, 'sharing': 1164, 'full': 1165, 'place': 1166, 'payments': 1167, 'times': 1168, 'sharepoint': 1169, 'fabrication': 1170, 'pneumatic': 1171, 'offices': 1172, 'followed': 1173, 'goods': 1174, 'played': 1175, 'eptance': 1176, 'sri': 1177, 'ordination': 1178, 'bom': 1179, 'autosys': 1180, 'tickets': 1181, 'assigning': 1182, 'neural': 1183, 'flume': 1184, 'cloudera': 1185, 'gather': 1186, 'another': 1187, 'excellence': 1188, 'give': 1189, 'evaluation': 1190, 'act': 1191, 'hosted': 1192, 'met': 1193, 'bombay': 1194, 'house': 1195, 'event': 1196, 'branch': 1197, 'salary': 1198, 'modelling': 1199, 'enhancements': 1200, 'experienced': 1201, 'schema': 1202, 'email': 1203, 'keep': 1204, 'nature': 1205, 'property': 1206, 'retail': 1207, 'easy': 1208, 'regarding': 1209, 'onshore': 1210, 'simple': 1211, 'action': 1212, 'expenses': 1213, 'vision': 1214, 'september': 1215, 'respective': 1216, 'techno': 1217, 'three': 1218, '2003': 1219, '60': 1220, 'detection': 1221, '2nd': 1222, 'jr': 1223, 'physical': 1224, 'raw': 1225, 'non': 1226, 'arranging': 1227, 'deployments': 1228, 'purpose': 1229, 'five': 1230, 'routers': 1231, 'lan': 1232, 'adding': 1233, 'undertaking': 1234, 'find': 1235, 'internship': 1236, '21': 1237, 'dhcp': 1238, 'oriented': 1239, 'telephonic': 1240, 'govt': 1241, 'ny': 1242, 'payroll': 1243, 'methods': 1244, 'ordinate': 1245, 'focuses': 1246, 'deploying': 1247, 'degree': 1248, 'thinking': 1249, 'inter': 1250, 'identification': 1251, 'escalation': 1252, 'friendly': 1253, 'networks': 1254, 'properly': 1255, 'supervising': 1256, 'magazine': 1257, 'bsc': 1258, 'learner': 1259, 'startup': 1260, 'upgrades': 1261, 'coding': 1262, '13': 1263, 'phone': 1264, 'visa': 1265, 'builder': 1266, 'conference': 1267, 'plastering': 1268, 'two': 1269, 'madhya': 1270, 'wide': 1271, 'determine': 1272, 'among': 1273, 'nestle': 1274, 'profiles': 1275, 'ops': 1276, 'enhancement': 1277, 'manages': 1278, 'industries': 1279, 'virtual': 1280, 'rights': 1281, 'tally': 1282, 'logistic': 1283, 'water': 1284, 'predictive': 1285, 'highlights': 1286, 'inc': 1287, 'channels': 1288, 'x': 1289, 'patient': 1290, 'proficiency': 1291, 'vista': 1292, 'executed': 1293, 'b2b': 1294, 'l': 1295, 'warehousing': 1296, 'transform': 1297, 'recommendations': 1298, 'old': 1299, 'connectivity': 1300, 'budgets': 1301, 'ordance': 1302, 'matlab': 1303, 'invoice': 1304, 'news': 1305, 'supplier': 1306, 'ht': 1307, 'grid': 1308, 'scada': 1309, 'barclays': 1310, 'sets': 1311, 'hot': 1312, 'bangalore': 1313, 'oozie': 1314, 'layers': 1315, 'sun': 1316, 'enture': 1317, 'channel': 1318, 'challenges': 1319, 'coverage': 1320, 'tested': 1321, 'releases': 1322, 'competencies': 1323, '10g': 1324, 'secure': 1325, 'history': 1326, 'static': 1327, 'designs': 1328, 'administrative': 1329, 'conditions': 1330, 'secured': 1331, 'junior': 1332, 'cnc': 1333, 'pump': 1334, '300': 1335, 'win': 1336, 'dicom': 1337, '85': 1338, 'trained': 1339, 'images': 1340, 'move': 1341, 'masters': 1342, 'fully': 1343, 'package': 1344, 'gsm': 1345, 'modes': 1346, 'installed': 1347, 'forecasting': 1348, '19': 1349, 'lessons': 1350, 'demand': 1351, 'filtering': 1352, 'engine': 1353, 'ocean': 1354, 'staffing': 1355, 'bengaluru': 1356, 'draft': 1357, 'contractual': 1358, 'penalty': 1359, 'cad': 1360, 'bitcoin': 1361, 'solidity': 1362, 'tat': 1363, 'liasing': 1364, 'imports': 1365, 'forwarders': 1366, 'benefits': 1367, 'gea': 1368, 'east': 1369, 'worldwide': 1370, 'dhl': 1371, 'informing': 1372, 'checkpoint': 1373, 'stage': 1374, 'certification': 1375, 'since': 1376, 'pressure': 1377, 'preventive': 1378, 'agreed': 1379, 'whenever': 1380, 'mac': 1381, 'epks': 1382, 'deliverable': 1383, 'cabinets': 1384, 'entity': 1385, 'outstanding': 1386, 'staging': 1387, '07': 1388, 'chennai': 1389, '39': 1390, 'adherence': 1391, 'ensured': 1392, 'lob': 1393, 'assessment': 1394, 'rational': 1395, 'hyderabad': 1396, 'telangana': 1397, 'message': 1398, 'dec': 1399, 'easily': 1400, 'mocks': 1401, 'sports': 1402, 'show': 1403, 'moving': 1404, 'dba': 1405, 'timelines': 1406, 'hoc': 1407, 'utilities': 1408, 'defects': 1409, 'svn': 1410, 'filing': 1411, 'allow': 1412, 'send': 1413, 'wallet': 1414, 'urate': 1415, 'quickly': 1416, 'insights': 1417, 'deadlines': 1418, 'color': 1419, 'forecast': 1420, 'kerala': 1421, 'gold': 1422, 'asset': 1423, 'digital': 1424, 'sbi': 1425, 'formalities': 1426, 'prototype': 1427, 'travel': 1428, 'sourcing': 1429, 'sea': 1430, 'multinational': 1431, 'nanded': 1432, 'proactive': 1433, 'delivering': 1434, 'discussing': 1435, 'important': 1436, 'schematics': 1437, 'screen': 1438, 'hydraulic': 1439, 'component': 1440, 'putty': 1441, 'coe': 1442, 'visualization': 1443, 'box': 1444, 'suggesting': 1445, 'mar': 1446, '26': 1447, 'associated': 1448, 'safe': 1449, 'playing': 1450, 'tcs': 1451, 'going': 1452, 'github': 1453, 'sublime': 1454, 'specially': 1455, 'recognition': 1456, 'itil': 1457, 'desk': 1458, 'karnataka': 1459, 'lines': 1460, 'express': 1461, 'attend': 1462, 'attendance': 1463, 'contact': 1464, '3d': 1465, 'classes': 1466, 'space': 1467, 'cold': 1468, 'compare': 1469, 'regulations': 1470, 'returns': 1471, 'ideas': 1472, 'sound': 1473, 'hours': 1474, 'sense': 1475, 'root': 1476, 'uttar': 1477, 'added': 1478, 'consultants': 1479, 'trustbank': 1480, 'bazar': 1481, 'responsive': 1482, 'softgst': 1483, 'gstr': 1484, 'jalloshband': 1485, 'books': 1486, 'bajaj': 1487, 'kpi': 1488, 'due': 1489, 'detail': 1490, 'hardworking': 1491, 'clearance': 1492, 'pivotal': 1493, 'stations': 1494, 'zone': 1495, 'incidents': 1496, 'valves': 1497, 'loop': 1498, 'units': 1499, 'abap': 1500, 'programmes': 1501, 'lanka': 1502, 'lng': 1503, 'hvac': 1504, 'intellimatch': 1505, 'al': 1506, 'sentiment': 1507, 'coaching': 1508, 'rm': 1509, 'delhi': 1510, 'impala': 1511, 'guidance': 1512, 'gap': 1513, 'midc': 1514, 'ionic': 1515, 'black': 1516, 'institutional': 1517, 'allahabad': 1518, 'marathi': 1519, 'mitigation': 1520, 'attitude': 1521, 'search': 1522, 'cse': 1523, 'cultural': 1524, '80': 1525, 'home': 1526, 'president': 1527, 'carrying': 1528, 'dns': 1529, 'record': 1530, 'proposals': 1531, 'presenting': 1532, '08': 1533, 'sme': 1534, 'uft': 1535, 'ap': 1536, 'productivity': 1537, 'advocate': 1538, 'drafting': 1539, 'ansible': 1540, 'merging': 1541, 'known': 1542, 'standby': 1543, 'extraction': 1544, 'restful': 1545, 'workforce': 1546, 'october': 1547, '2019': 1548, 'llp': 1549, 'video': 1550, 'needed': 1551, 'total': 1552, 'promotion': 1553, 'survey': 1554, 'claims': 1555, 'long': 1556, 'million': 1557, 'modifications': 1558, 'relay': 1559, 'six': 1560, 'advertising': 1561, '23': 1562, 'costing': 1563, 'medical': 1564, 'list': 1565, 'lambda': 1566, 'tibco': 1567, 'spotfire': 1568, 'xen': 1569, 'cpi': 1570, 'genworth': 1571, 'modeling': 1572, 'javaee': 1573, 'aes': 1574, 'rfid': 1575, 'parkar': 1576, 'labs': 1577, 'kyc': 1578, 'telecom': 1579, 'exchange': 1580, 'district': 1581, 'fraud': 1582, 'ip': 1583, 'collaboration': 1584, 'patterns': 1585, 'simultaneously': 1586, 'telecommunications': 1587, 'selected': 1588, 'particular': 1589, 'middle': 1590, 'better': 1591, '2001': 1592, 'idea': 1593, 'turn': 1594, 'human': 1595, 'error': 1596, 'multimedia': 1597, 'organize': 1598, 'small': 1599, 'parent': 1600, '12c': 1601, 'tablespaces': 1602, 'means': 1603, 'collection': 1604, 'sept': 1605, 'always': 1606, 'mirroring': 1607, 'residential': 1608, 'calling': 1609, 'hp': 1610, 'pacs': 1611, 'stories': 1612, 'traceability': 1613, 'interacted': 1614, 'bed': 1615, 'authority': 1616, 'coded': 1617, 'modified': 1618, 'table': 1619, 'study': 1620, 'auditing': 1621, 'reliance': 1622, 'catia': 1623, 'hotels': 1624, 'yes': 1625, 'flexibility': 1626, 'drive': 1627, 'goals': 1628, 'topic': 1629, 'organized': 1630, 'weeks': 1631, 'computing': 1632, 'bandra': 1633, 'finalizing': 1634, 'generates': 1635, 'late': 1636, 'alternate': 1637, 'discrepancies': 1638, 'statutory': 1639, 'term': 1640, 'joined': 1641, 'disease': 1642, 'pandas': 1643, 'stream': 1644, 'serve': 1645, 'calculate': 1646, 'protection': 1647, 'evaluate': 1648, 'mw': 1649, 'cause': 1650, 'editing': 1651, 'supervise': 1652, 'receive': 1653, 'alert': 1654, 'responses': 1655, 'gateway': 1656, 'extracting': 1657, 'carried': 1658, 'dbms': 1659, 'disk': 1660, 'classification': 1661, 'srs': 1662, 'ccu': 1663, 'cmu': 1664, 'xinfin': 1665, 'asm': 1666, 'object': 1667, 'inside': 1668, 'would': 1669, 'giving': 1670, 'correspondence': 1671, 'quotation': 1672, 'appraisals': 1673, 'syntel': 1674, 'money': 1675, 'deal': 1676, 'protocols': 1677, 'innovative': 1678, 'printing': 1679, 'person': 1680, 'configure': 1681, 'registration': 1682, 'mr': 1683, 'soft': 1684, 'faster': 1685, 'globally': 1686, 'promoted': 1687, 'mentor': 1688, 'context': 1689, 'workshops': 1690, 'pack': 1691, 'corrective': 1692, 'oct': 1693, '2008r2': 1694, 'linear': 1695, 'low': 1696, 'encrypted': 1697, 'february': 1698, 'hard': 1699, 'draw': 1700, 'capita': 1701, 'assessing': 1702, 'urately': 1703, '49': 1704, 'distributed': 1705, 'speaking': 1706, 'elements': 1707, 'columns': 1708, 'utilized': 1709, 'bill': 1710, 'constraints': 1711, 'quantity': 1712, 'aim': 1713, 'appraisal': 1714, 'ca': 1715, 'clarity': 1716, 'establishing': 1717, 'joining': 1718, 'recording': 1719, 'sop': 1720, 'headcount': 1721, 'tagging': 1722, 'gm': 1723, 'rookie': 1724, 'volume': 1725, 'negotiation': 1726, 'issuance': 1727, 'receivables': 1728, 'reducing': 1729, 'sectors': 1730, 'transit': 1731, 'holding': 1732, 'transshipment': 1733, 'points': 1734, 'complaints': 1735, 'serck': 1736, 'quotes': 1737, 'f5': 1738, 'proxy': 1739, 'vlan': 1740, 'plane': 1741, 'temperature': 1742, 'carry': 1743, 'atos': 1744, 'insight': 1745, 'indian': 1746, 'unique': 1747, 'kom': 1748, 'cabinet': 1749, 'loops': 1750, 'focal': 1751, 'furnace': 1752, 'experion': 1753, 'jbk': 1754, 'schematic': 1755, 'presence': 1756, 'compensation': 1757, 'instrumentation': 1758, 'loaded': 1759, 'subject': 1760, 'associate': 1761, 'bhopal': 1762, 'prgx': 1763, 'hospital': 1764, 'privileges': 1765, 'train': 1766, 'brd': 1767, 'zaggle': 1768, 'inr': 1769, 'improving': 1770, 'mssql': 1771, 'fee': 1772, 'rcsa': 1773, 'concurrence': 1774, 'delinquent': 1775, 'medicines': 1776, 'options': 1777, 'recognized': 1778, 'others': 1779, 'alerts': 1780, 'websites': 1781, 'professionals': 1782, 'collect': 1783, 'therapies': 1784, 'searching': 1785, 'estate': 1786, 'food': 1787, 'measures': 1788, 'qualification': 1789, 'ticketing': 1790, 'represent': 1791, 'lists': 1792, 'concept': 1793, 'promoting': 1794, 'earthing': 1795, '18': 1796, 'player': 1797, 'graduate': 1798, 'elastic': 1799, 'synechron': 1800, 'redhat': 1801, 'american': 1802, 'finding': 1803, 'automating': 1804, 'face': 1805, 'motivate': 1806, 'globe': 1807, 'closing': 1808, 'interact': 1809, 'increased': 1810, 'clarifications': 1811, 'smoke': 1812, 'mitigate': 1813, 'fetch': 1814, 'round': 1815, 'london': 1816, 'traffic': 1817, 'deliveries': 1818, '50': 1819, 'brand': 1820, 'highlighting': 1821, 'severity': 1822, 'add': 1823, 'special': 1824, 'entry': 1825, 'interviewing': 1826, 'partnerships': 1827, 'johnson': 1828, 'port': 1829, 'dynamics': 1830, 'tree': 1831, 'sow': 1832, 'foundry': 1833, '29': 1834, 'rfq': 1835, 'phase': 1836, 'makes': 1837, 'assurance': 1838, 'career': 1839, 'york': 1840, 'plsql': 1841, 'directory': 1842, 'driver': 1843, 'scd': 1844, 'uh': 1845, 'presented': 1846, 'called': 1847, 'banks': 1848, 'downtime': 1849, 'court': 1850, 'steel': 1851, 'scientist': 1852, 'teradata': 1853, 'response': 1854, 'sheet': 1855, 'resume': 1856, 'classifier': 1857, 'objectives': 1858, 'authentication': 1859, 'functionality': 1860, 'practice': 1861, 'gaps': 1862, 'mangers': 1863, 'stack': 1864, 'infosys': 1865, 'algorithm': 1866, 'way': 1867, 'audience': 1868, 'exposys': 1869, 'notepad': 1870, 'fruits': 1871, 'visiting': 1872, 'patil': 1873, 'verbal': 1874, 'switch': 1875, 'vice': 1876, 'aspects': 1877, 'visits': 1878, '2004': 1879, 'controlled': 1880, 'as400': 1881, 'io': 1882, 'utilizing': 1883, 'shopping': 1884, 'locations': 1885, 'sangli': 1886, 'failures': 1887, 'upgrading': 1888, 'doctor': 1889, 'middleware': 1890, 'individuals': 1891, 'efforts': 1892, 'tier': 1893, 'questions': 1894, 'closure': 1895, 'ct': 1896, 'income': 1897, 'declaration': 1898, 'struts': 1899, 'updated': 1900, 'agents': 1901, 'coming': 1902, 'causes': 1903, 'remote': 1904, 'landing': 1905, 'urban': 1906, 'angularjs': 1907, 'expe': 1908, 'boarding': 1909, 'charts': 1910, 'timesheet': 1911, 'communities': 1912, 'count': 1913, 'fill': 1914, 'motors': 1915, 'epted': 1916, 'verification': 1917, 'tours': 1918, 'star': 1919, 'held': 1920, 'warehouses': 1921, 'europe': 1922, 'optimize': 1923, 'damage': 1924, 'holds': 1925, 'systematic': 1926, 'standardized': 1927, 'involving': 1928, 'protocol': 1929, 'trainings': 1930, 'db2': 1931, 'strength': 1932, 'mcc': 1933, 'switchgear': 1934, 'qualifications': 1935, '1998': 1936, 'deliver': 1937, 'effectiveness': 1938, 'launch': 1939, 'parties': 1940, 'j': 1941, 'input': 1942, 'relational': 1943, 'watch': 1944, 'indore': 1945, 'comes': 1946, 'expectations': 1947, 'examination': 1948, 'atm': 1949, 'brought': 1950, 'experiences': 1951, 'gas': 1952, 'think': 1953, 'proof': 1954, 'cvs': 1955, 'patni': 1956, 'usability': 1957, 'require': 1958, 'b2c': 1959, 'several': 1960, 'managements': 1961, 'crystal': 1962, 'sign': 1963, 'fast': 1964, 'already': 1965, 'delete': 1966, 'ii': 1967, 'booking': 1968, 'willing': 1969, 'basics': 1970, 'abstract': 1971, 'library': 1972, 'extra': 1973, 'upto': 1974, 'noc': 1975, 'sungard': 1976, 'bw': 1977, 'sorting': 1978, 'rajasthan': 1979, '25': 1980, 'suggestions': 1981, 'controlling': 1982, 'sweden': 1983, '120': 1984, 'insert': 1985, '43': 1986, 'allows': 1987, 'clustering': 1988, 'slas': 1989, 'sep': 1990, 'heterogeneous': 1991, 'coach': 1992, 'goqii': 1993, 'club': 1994, 'spa': 1995, 'demo': 1996, 'tdd': 1997, 'hybrid': 1998, 'taf': 1999, 'vb': 2000, 'hl7': 2001, 'reconstruction': 2002, 'logix': 2003, 'talk': 2004, 'rslinx': 2005, 'classic': 2006, 'embedded': 2007, 'increment': 2008, 'sprint': 2009, 'vbscripts': 2010, 'class': 2011, 'corpcloud': 2012, 'proposed': 2013, 'r3': 2014, 'comparison': 2015, 'meaningful': 2016, 'organizational': 2017, 'tasking': 2018, 'arsys': 2019, 'logger': 2020, 'mas': 2021, 'telecommunication': 2022, 'oss': 2023, 'postman': 2024, 'crawling': 2025, 'frames': 2026, 'subcontractors': 2027, 'places': 2028, 'dedication': 2029, 'purchasing': 2030, 'vs': 2031, 'optimizing': 2032, 'hyperledger': 2033, 'beginner': 2034, 'cbse': 2035, 'foreign': 2036, 'informed': 2037, 'answering': 2038, 'heat': 2039, 'rpg': 2040, 'kpit': 2041, 'detailing': 2042, 'actuators': 2043, 'asst': 2044, 'diverse': 2045, 'editor': 2046, 'delta': 2047, 'pair': 2048, 'display': 2049, 'see': 2050, 'tensorflow': 2051, 'rewards': 2052, 'suitable': 2053, 'cement': 2054, 'bar': 2055, 'micro': 2056, 'california': 2057, 'contractor': 2058, 'legacy': 2059, 'oltp': 2060, 'capture': 2061, 'mvc5': 2062, 'courses': 2063, 'disabled': 2064, 'greyed': 2065, 'tac': 2066, 'tmap': 2067, 'extensively': 2068, 'last': 2069, 'extracted': 2070, 'listener': 2071, 'curriculum': 2072, 'painting': 2073, 'ranchi': 2074, 'block': 2075, 'marshall': 2076, 'electric': 2077, 'actuator': 2078, 'po': 2079, 'mesa': 2080, 'nasscom': 2081, 'bex': 2082, 'salesforce': 2083, 'honda': 2084, 'dealership': 2085, 'karate': 2086, 'aegis': 2087, 'determined': 2088, 'rpa': 2089, 'vehicle': 2090, 'inouvelle': 2091, 'ventures': 2092, 'extractor': 2093, 'facets': 2094, 'ieee': 2095, 'sqlserver': 2096, 'anti': 2097, 'laundering': 2098, 'svm': 2099, 'tester': 2100, 'experts': 2101, 'newly': 2102, 'slave': 2103, 'offline': 2104, 'uml': 2105, 'mechanism': 2106, 'outs': 2107, 'engagement': 2108, 'ongoing': 2109, 'transformation': 2110, 'significant': 2111, 'dedicated': 2112, 'streamline': 2113, 'band': 2114, 'foods': 2115, 'permanent': 2116, 'install': 2117, 'shut': 2118, 'art': 2119, 'emerging': 2120, 'planned': 2121, 'letters': 2122, 'natural': 2123, 'facilitating': 2124, 'institution': 2125, 'yrs': 2126, 'settings': 2127, 'spaces': 2128, 'funds': 2129, 'norms': 2130, 'highest': 2131, '1999': 2132, 'appreciation': 2133, 'peer': 2134, 'gui': 2135, 'flows': 2136, 'solapur': 2137, 'interior': 2138, 'statement': 2139, 'royal': 2140, 'publication': 2141, 'establish': 2142, 'statistical': 2143, 'either': 2144, 'semi': 2145, 'jaunpur': 2146, 'buildings': 2147, 'feasibility': 2148, 'bharat': 2149, 'director': 2150, 'ranjangaon': 2151, 'brain': 2152, 'society': 2153, 'items': 2154, 'ksa': 2155, 'cargo': 2156, 'equipments': 2157, 'german': 2158, 'a1': 2159, '22': 2160, 'organisation': 2161, '1st': 2162, 'oversight': 2163, 'oversee': 2164, 'regional': 2165, 'together': 2166, 'man': 2167, 'resolved': 2168, 'estimates': 2169, 'tamil': 2170, 'nadu': 2171, 'blue': 2172, 'break': 2173, 'consumed': 2174, 'personally': 2175, 'aviation': 2176, 'book': 2177, 'lookup': 2178, 'joiner': 2179, 'dimensions': 2180, 'chinchwad': 2181, 'mining': 2182, 'waste': 2183, 'statements': 2184, 'timeframe': 2185, 'findings': 2186, 'machines': 2187, 'offer': 2188, 'feasible': 2189, 'shipment': 2190, 'linked': 2191, 'substation': 2192, 'consistently': 2193, 'depending': 2194, 'names': 2195, 'consistent': 2196, 'attended': 2197, '03': 2198, 'jntu': 2199, 'compile': 2200, 'financials': 2201, 'brainstorming': 2202, 'window': 2203, 'llc': 2204, 'force': 2205, 'tracked': 2206, 'batches': 2207, 'asia': 2208, 'introducing': 2209, 'remediation': 2210, 'additional': 2211, 'consultation': 2212, 'discussions': 2213, 'allocation': 2214, 'arrange': 2215, 'recruit': 2216, 'ec2': 2217, 'frameworks': 2218, 'applied': 2219, 'scaling': 2220, 'downloaded': 2221, 'guide': 2222, 'obtain': 2223, 'console': 2224, 'generations': 2225, 'oral': 2226, 'sensor': 2227, 'commands': 2228, 'miami': 2229, 'initiative': 2230, 'talwalkars': 2231, 'rac': 2232, 'tieto': 2233, 'presentations': 2234, 'solar': 2235, 'nodes': 2236, 'merchant': 2237, 'matters': 2238, 'servereducation': 2239, 'attacks': 2240, 'computers': 2241, 'family': 2242, 'hereby': 2243, 'wagh': 2244, 'feedbacks': 2245, 'quantitative': 2246, 'priority': 2247, 'funding': 2248, 'learned': 2249, 'ppt': 2250, 'sale': 2251, 'wan': 2252, 'ipsec': 2253, 'villa': 2254, 'ba': 2255, 'ab': 2256, 'housing': 2257, 'technological': 2258, '125': 2259, 'responsiblites': 2260, 'deliery': 2261, 'mom': 2262, 'chasing': 2263, 'rr': 2264, 'deputation': 2265, 'invoicings': 2266, 'activites': 2267, 'invocing': 2268, 'cem': 2269, 'sdm': 2270, 'save': 2271, 'towers': 2272, 'tofa': 2273, 'tailgating': 2274, 'asall': 2275, 'drivekey': 2276, 'roadblocks': 2277, 'compliancereport': 2278, 'quarter': 2279, 'allowances': 2280, 'milestone': 2281, 'ratio': 2282, 'addressed': 2283, 'maruti': 2284, 'functioning': 2285, 'parts': 2286, 'kisan': 2287, 'country': 2288, 'promote': 2289, 'flotilla': 2290, 'exceed': 2291, '4000': 2292, 'landmark': 2293, 'brokers': 2294, 'customs': 2295, 'ecoflex': 2296, 'forwarding': 2297, 'pricing': 2298, 'maximizing': 2299, 'profits': 2300, 'destinations': 2301, 'gcc': 2302, 'reasonable': 2303, 'shore': 2304, 'volumes': 2305, '9001': 2306, 'hour': 2307, 'truck': 2308, 'egypt': 2309, 'inbound': 2310, 'juniper': 2311, 'ssl': 2312, 'infra': 2313, 'nat': 2314, 'mpls': 2315, 'eigrp': 2316, 'ospf': 2317, 'flask': 2318, 'sld': 2319, 'calibration': 2320, 'transmitter': 2321, 'dc': 2322, 'modification': 2323, 'specialty': 2324, 'personnel': 2325, 'tower': 2326, 'lifestyle': 2327, 'priorities': 2328, 'fzco': 2329, 'discussion': 2330, 'kick': 2331, 'clarification': 2332, 'em': 2333, 'revised': 2334, 'proto': 2335, 'sis': 2336, 'fgs': 2337, 'amc': 2338, 'tps': 2339, 'pu': 2340, 'downloading': 2341, 'r410': 2342, 'fdm': 2343, 'fox': 2344, 'perfect': 2345, 'leave': 2346, 'session': 2347, 'birthday': 2348, 'kind': 2349, 'finish': 2350, '34': 2351, 'close': 2352, 'programmer': 2353, 'steps': 2354, 'enhanced': 2355, 'abilities': 2356, 'rds': 2357, 'dump': 2358, 'tftp': 2359, 'violation': 2360, 'printers': 2361, 'scikit': 2362, 'trouble': 2363, 'shooting': 2364, 'fact': 2365, 'explorer': 2366, 'facts': 2367, 'bring': 2368, 'child': 2369, 'enthusiastic': 2370, 'minimize': 2371, 'amount': 2372, 'columbia': 2373, 'respond': 2374, 'inquiries': 2375, 'minimizing': 2376, 'losses': 2377, 'axis': 2378, 'venture': 2379, 'infotek': 2380, 'yalamanchili': 2381, 'ftc': 2382, 'terminals': 2383, 'competency': 2384, 'criminal': 2385, 'takes': 2386, 'estimated': 2387, 'reduction': 2388, 'layouts': 2389, 'push': 2390, 'useful': 2391, 'idt': 2392, 'cmc': 2393, 'aims': 2394, 'universes': 2395, 'reference': 2396, 'servlets': 2397, 'diagnostic': 2398, 'remedy': 2399, 'testng': 2400, 'chat': 2401, 'bot': 2402, 'mass': 2403, 'treatment': 2404, 'treasury': 2405, 'corporations': 2406, 'broker': 2407, 'dealer': 2408, 'escalated': 2409, 'assessments': 2410, 'initiate': 2411, 'transitions': 2412, 'hires': 2413, 'siebel': 2414, '95': 2415, 'covered': 2416, 'matplotlib': 2417, 'approach': 2418, 'environmental': 2419, 'automatically': 2420, 'agreement': 2421, 'exp': 2422, 'calculations': 2423, 'smoothly': 2424, 'structures': 2425, 'employment': 2426, 'infotech': 2427, 'procedure': 2428, 'gandhi': 2429, 'id': 2430, 'start': 2431, 'mentoring': 2432, 'facilities': 2433, 'representative': 2434, 'evaluating': 2435, 'toad': 2436, 'qualities': 2437, 'shield': 2438, 'select': 2439, 'hospitals': 2440, 'protect': 2441, 'scalable': 2442, 'counselling': 2443, 'consumer': 2444, 'rate': 2445, 'agent': 2446, 'saved': 2447, 'minimal': 2448, 'organizations': 2449, 'icici': 2450, 'edc': 2451, 'acquiring': 2452, 'row': 2453, 'rockwell': 2454, 'compliances': 2455, 'versed': 2456, 'sit': 2457, 'cd': 2458, 'agriculture': 2459, 'maxgen': 2460, 'mca': 2461, 'salcluster': 2462, 'documenting': 2463, 'previous': 2464, 'labor': 2465, 'interpret': 2466, 'collaborate': 2467, 'variance': 2468, 'factors': 2469, 'difficult': 2470, 'frequency': 2471, 'specs': 2472, 'panchakarma': 2473, 'stocks': 2474, 'sass': 2475, 'brackets': 2476, 'raisoni': 2477, 'photography': 2478, 'click': 2479, 'renovated': 2480, 'maintainable': 2481, 'optimised': 2482, 'guidelines': 2483, 'incorporated': 2484, 'integrate': 2485, 'payers': 2486, 'additionally': 2487, 'register': 2488, 'analytica': 2489, 'analytika': 2490, 'shows': 2491, 'liability': 2492, 'tsr': 2493, 'vidarbha': 2494, 'op': 2495, 'gisss': 2496, 'softtrust': 2497, 'jallosh': 2498, 'endeavor': 2499, '10magicalfingers': 2500, 'pages': 2501, 'common': 2502, 'item': 2503, 'selling': 2504, 'improvements': 2505, 'exact': 2506, 'stress': 2507, 'confidence': 2508, 'states': 2509, 'license': 2510, 'commitment': 2511, 'obsolete': 2512, 'commodities': 2513, 'housekeeping': 2514, 'executives': 2515, 'reported': 2516, 'land': 2517, 'supervised': 2518, 'soliciting': 2519, 'rule': 2520, 'scale': 2521, 'ace': 2522, 'lf': 2523, 'still': 2524, 'breweries': 2525, 'approval': 2526, 'lightning': 2527, 'valve': 2528, 'lighting': 2529, 'breaker': 2530, 'producing': 2531, 'contributors': 2532, 'rave': 2533, 'apply': 2534, 'tender': 2535, 'tenders': 2536, 'spot': 2537, 'rfqs': 2538, 'highway': 2539, 'mid': 2540, 'recommended': 2541, 'andheri': 2542, 'obtaining': 2543, 'railway': 2544, 'vertical': 2545, 'ecosystems': 2546, 'pharmaceutical': 2547, 'filter': 2548, 'broad': 2549, 'translate': 2550, 'pilot': 2551, 'tablespace': 2552, 'importing': 2553, 'ora': 2554, 'index': 2555, 'patch': 2556, 'datapump': 2557, 'pimpri': 2558, '37': 2559, 'corel': 2560, 'illustrator': 2561, 'virtuous': 2562, 'adobe': 2563, 'studying': 2564, 'gives': 2565, 'promotional': 2566, 'dataiku': 2567, 'storing': 2568, 'lake': 2569, 'format': 2570, 'union': 2571, 'reconciliations': 2572, 'recs': 2573, 'grade': 2574, 'professor': 2575, 'bca': 2576, 'sorted': 2577, 'versa': 2578, 'professionally': 2579, 'terminal': 2580, 'awareness': 2581, 'sheets': 2582, 'uracy': 2583, 'assign': 2584, 'fun': 2585, 'supervision': 2586, 'connection': 2587, 'decisions': 2588, 'granting': 2589, 'kunal': 2590, 'championship': 2591, 'innovation': 2592, 'shegaon': 2593, 'assists': 2594, 'finalize': 2595, 'frd': 2596, 'follet': 2597, 'intertek': 2598, 'disciplines': 2599, 'clarifying': 2600, 'stages': 2601, 'inlight': 2602, 'bas': 2603, 'tango': 2604, 'xoriant': 2605, 'collaborated': 2606, 'aurus': 2607, 'pusad': 2608, 'yarn': 2609, 'exported': 2610, 'nosql': 2611, 'rlm': 2612, 'flash': 2613, 'buy': 2614, 'fixers': 2615, 'sinks': 2616, 'configura': 2617, 'tion': 2618, 'war': 2619, 'ear': 2620, 'jar': 2621, 'mul': 2622, 'tiple': 2623, 'respectively': 2624, 'bangkok': 2625, 'thaitrade': 2626, 'simultaneous': 2627, 'leases': 2628, 'conflicts': 2629, 'propagation': 2630, 'testers': 2631, 'holdings': 2632, 'sellers': 2633, 'bblwtp': 2634, 'subversion': 2635, 'deploys': 2636, 'watching': 2637, 'canada': 2638, 'stakeholder': 2639, 'budgeting': 2640, 'situations': 2641, 'removing': 2642, 'desired': 2643, 'option': 2644, 'thus': 2645, 'login': 2646, 'interfacing': 2647, 'skilled': 2648, 'guard': 2649, 'stp': 2650, 'failover': 2651, 'instruments': 2652, 'specified': 2653, 'liaison': 2654, 'dealing': 2655, 'efficiently': 2656, 'maintains': 2657, 'audio': 2658, '2002': 2659, 'b1': 2660, 'seattle': 2661, 'symbiosis': 2662, 'cloudformation': 2663, 'template': 2664, 'dynamo': 2665, 'bean': 2666, 'stalk': 2667, 'appdynamics': 2668, 'chance': 2669, 'hired': 2670, 'eip': 2671, 'trigger': 2672, 'puppet': 2673, 'farms': 2674, 'boxes': 2675, 'tsys': 2676, 'rhds': 2677, 'vdi': 2678, 'aix': 2679, 'caters': 2680, 'imaging': 2681, 'scanned': 2682, 'l1': 2683, 'visited': 2684, 'eprocess': 2685, 'trexo': 2686, 'older': 2687, 'contractors': 2688, 'press': 2689, 'hosting': 2690, 'indexes': 2691, 'copy': 2692, 'xillinx': 2693, 'modelsim': 2694, 'multisim': 2695, 'fpga': 2696, 'encryption': 2697, 'cryptography': 2698, 'secret': 2699, '230': 2700, 'sorts': 2701, 'rgb': 2702, 'balls': 2703, 'ward': 2704, 'come': 2705, 'analyse': 2706, 'indoor': 2707, 'strictly': 2708, 'zensar': 2709, 'preparations': 2710, 'trading': 2711, 'submitted': 2712, 'profiler': 2713, '30th': 2714, 'retailers': 2715, 'seniors': 2716, 'bpt': 2717, 'dcmtk': 2718, 'quest': 2719, 'archiving': 2720, 'lots': 2721, 'backlog': 2722, 'collaborative': 2723, 'validated': 2724, 'gst': 2725, 'random': 2726, 'ccna': 2727, 'teacher': 2728, 'motivated': 2729, 'ready': 2730, 'hobbies': 2731, 'dapps': 2732, 'mean': 2733, 'navi': 2734, 'fetching': 2735, 'continue': 2736, 'qualitative': 2737, 'productive': 2738, '47': 2739, 'travelled': 2740, 'approvals': 2741, 'drivers': 2742, 'device': 2743, 'inovics': 2744, 'urllib': 2745, 'hub': 2746, 'larsen': 2747, 'sell': 2748, 'assistence': 2749, 'posting': 2750, 'debit': 2751, 'ensono': 2752, 'supervisor': 2753, 'agro': 2754, 'hingna': 2755, 'metal': 2756, 'fab': 2757, 'automotive': 2758, 'fresher': 2759, 'experiance': 2760, 'th': 2761, 'semister': 2762, 'nodejs': 2763, 'zhypility': 2764, 'strategizing': 2765, 'hackthon': 2766, 'rome': 2767, 'jio': 2768, 'nearby': 2769, 'women': 2770, 'kgp': 2771, 'dossier': 2772, 'andrews': 2773, 'dim': 2774, 'brokerage': 2775, 'candidates': 2776, 'germany': 2777, 'dispatch': 2778, 'average': 2779, 'marine': 2780, 'streamlining': 2781, 'walk': 2782, 'kranti': 2783, 'soap': 2784, 'scrapping': 2785, 'reputation': 2786, 'utr': 2787, 'scraping': 2788, 'techn': 2789, 'cl': 2790, 'ile': 2791, 'gathered': 2792, 'cabling': 2793, 'pcc': 2794, 'vfd': 2795, 'plants': 2796, 'pt': 2797, '1995': 2798, 'relations': 2799, 'kingdom': 2800, 'capturing': 2801, 'directors': 2802, 'mistakes': 2803, '05': 2804, '02': 2805, 'breakdown': 2806, 'ranging': 2807, '360': 2808, 'interactive': 2809, 'confident': 2810, 'solidworks': 2811, 'sanarco': 2812, 'brings': 2813, 'cms': 2814, 'award': 2815, 'responding': 2816, 'statistics': 2817, 'hexad': 2818, 'consolidation': 2819, 'remediated': 2820, 'must': 2821, 'therefore': 2822, 'loyalty': 2823, 'fiori': 2824, 'matter': 2825, 'estimating': 2826, 'dataset': 2827, 'tensor': 2828, 'generator': 2829, 'servicing': 2830, 'attributes': 2831, 'headquartered': 2832, 'city': 2833, 'collections': 2834, 'dictionary': 2835, 'community': 2836, 'regularization': 2837, 'fields': 2838, 'displayed': 2839, 'navigated': 2840, 'loads': 2841, 'tsqlrow': 2842, 'dimension': 2843, 'outside': 2844, 'folders': 2845, 'react': 2846, 'jaipur': 2847, 'orgnization': 2848, 'eg': 2849, 'yallaspree': 2850, 'railtiffin': 2851, 'ecommerce': 2852, 'olite': 2853, 'na': 2854, 'offs': 2855, 'initial': 2856, 'pipeline': 2857, 'limitations': 2858, 'passing': 2859, 'jharkhand': 2860, 'auxledger': 2861, 'otc': 2862, 'ripple': 2863, 'fabric': 2864, 'reminder': 2865, 'parking': 2866, '9x': 2867, 'divisions': 2868, 'advert': 2869, 'provisioning': 2870, 'datamart': 2871, 'numbers': 2872, 'sizing': 2873, 'rotary': 2874, 'fabricated': 2875, 'manufactured': 2876, 'technically': 2877, 'saving': 2878, 'examine': 2879, 'arrival': 2880, 'duncan': 2881, 'petrochemical': 2882, 'fruitful': 2883, 'rotex': 2884, 'assemblies': 2885, 'poona': 2886, 'continuously': 2887, 'seasonal': 2888, 'promotions': 2889, 'aspire': 2890, 'waves': 2891, 'treasurer': 2892, 'cv': 2893, 'biar': 2894, 'partition': 2895, 'poc': 2896, 'rdd': 2897, 'ledger': 2898, 'aissms': 2899, 'gate': 2900, 'trace': 2901, 'chandrapur': 2902, 'conglomerate': 2903, 'shri': 2904, 'section': 2905, 'led': 2906, 'advantage': 2907, 'roi': 2908, 'gained': 2909, 'answer': 2910, 'rgpv': 2911, 'apex': 2912, 'vanet': 2913, 'parson': 2914, 'mgm': 2915, 'intent': 2916, 'tidal': 2917, 'debugger': 2918, 'uae': 2919, 'scoe': 2920, 'cassandra': 2921, 'mit': 2922, 'knn': 2923, 'analytic': 2924, 'words': 2925, 'petronet': 2926, 'sgd': 2927, 'ner': 2928, 'surfing': 2929, 'ordinator': 2930, 'enhancing': 2931, 'multitasking': 2932, 'grow': 2933, 'timeline': 2934, 'solve': 2935, 'centos': 2936, 'ordinating': 2937, 'airtel': 2938, 'cycles': 2939, 'command': 2940, 'teachers': 2941, 'ignou': 2942, 'organising': 2943, 'essential': 2944, '45': 2945, 'cooling': 2946, 'fortinet': 2947, 'latest': 2948, 'prime': 2949, 'ios': 2950, '2960': 2951, 'ethernet': 2952, 'vlans': 2953, 'hopping': 2954, 'young': 2955, 'initiatives': 2956, 'learnt': 2957, 'mutually': 2958, 'captured': 2959, 'notification': 2960, 'bus': 2961, 'undertaken': 2962, 'escalations': 2963, 'w': 2964, 'failed': 2965, 'logical': 2966, 'segments': 2967, 'migrating': 2968, '7education': 2969, 'clusters': 2970, 'jalgaon': 2971, 'exercise': 2972, 'players': 2973, 'lifekonnect': 2974, 'centres': 2975, 'hsbc': 2976, 'foot': 2977, 'refreshers': 2978, 'emea': 2979, 'standalone': 2980, 'logins': 2981, 'citi': 2982, 'cloning': 2983, 'nutritionist': 2984, 'palo': 2985, 'alto': 2986, 'ltm': 2987, 'electronic': 2988, 'http': 2989, 'golden': 2990, 'reusable': 2991, 'downstream': 2992, 'password': 2993, 'discipline': 2994, 'belief': 2995, 'correcting': 2996, 'sybase': 2997, 'seamlessly': 2998, 'scd2': 2999, 'transforms': 3000, 'mode': 3001, 'contents': 3002, 'reliable': 3003, 'ce': 3004, 'graphs': 3005, 'scratch': 3006, 'powerful': 3007, 'suited': 3008, 'fault': 3009, 'outcomes': 3010, 'put': 3011, 'structural': 3012, 'purposes': 3013, 'progressing': 3014, 'purchases': 3015, 'liaise': 3016, 'msc': 3017, 'declare': 3018, 'iot': 3019, 'softwares': 3020, 'marital': 3021, 'loans': 3022, 'mnu': 3023, 'operated': 3024, 'thakur': 3025, 'voice': 3026, 'west': 3027, 'regards': 3028, 'agency': 3029, 'schemes': 3030, 'billion': 3031, 'bulk': 3032, 'mobilization': 3033, 'owned': 3034, 'sharjah': 3035, 'walkthroughs': 3036, 'logging': 3037, 'manuals': 3038, 'siemens': 3039, 'rs': 3040, 'targeted': 3041, 'bringing': 3042, 'output': 3043, 'assisted': 3044, 'heading': 3045, 'chart': 3046, 'variation': 3047, 'official': 3048, 'exception': 3049, 'ethics': 3050, 'ensures': 3051, 'submittal': 3052, 'om': 3053, 'pas': 3054, 'converting': 3055, 'thorough': 3056, 'expert': 3057, 'periodic': 3058, 'prakash': 3059, 'conventional': 3060, 'organisational': 3061, 'sciences': 3062, 'hpqc': 3063, 'extensive': 3064, 'participation': 3065, 'police': 3066, 'piping': 3067, 'shivaji': 3068, 'reliability': 3069, 'qualifier': 3070, 'integrator': 3071, 'suite': 3072, 'webservices': 3073, 'red': 3074, 'bayes': 3075, 'independently': 3076, 'suggest': 3077, 'ha': 3078, 'regex': 3079, 'earliest': 3080, 'intermediate': 3081, 'honesty': 3082, 'equities': 3083, 'courts': 3084, 'vidya': 3085, 'firm': 3086, 'enquiry': 3087, 'awarded': 3088, 'develops': 3089, 'eta': 3090, 'regions': 3091, 'utilize': 3092, 'shift': 3093, 'mc': 3094, 'whole': 3095, 'institutions': 3096, 'pyspark': 3097, 'churn': 3098, 'taken': 3099, 'punjab': 3100, 'eplan': 3101, 'diagram': 3102, 'smec': 3103, 'assistance': 3104, 'portfolio': 3105, 'prototyping': 3106, 'deals': 3107, 'moved': 3108, 'medium': 3109, 'screens': 3110, 'workflows': 3111, 'passed': 3112, 'scanners': 3113, 'craft': 3114, 'steady': 3115, 'fi': 3116, 'vodafone': 3117, 'telephone': 3118, 'pro': 3119, 'xampp': 3120, 'tour': 3121, 'totally': 3122, 'properties': 3123, 'many': 3124, 'share': 3125, 'ise': 3126, '84': 3127, 'duty': 3128, 'datacenter': 3129, 'handover': 3130, 'juniors': 3131, 'automatic': 3132, 'pf': 3133, 'mi': 3134, '100': 3135, 'researching': 3136, 'measurements': 3137, 'contacting': 3138, 'look': 3139, 'hospitality': 3140, 'stop': 3141, 'odata': 3142, 'communicator': 3143, 'japan': 3144, 'fire': 3145, 'pi': 3146, 'symantec': 3147, 'vmware': 3148, 'willingness': 3149, 'scan': 3150, 'diabetes': 3151, 'bcp': 3152, 'mails': 3153, 'advisor': 3154, 'kurla': 3155, '97': 3156, '44': 3157, 'supports': 3158, 'kt': 3159, 'e2e': 3160, '000': 3161, 'exhibition': 3162, 'setups': 3163, 'skillset': 3164, 'enable': 3165, 'vip': 3166, 'libraries': 3167, 'houses': 3168, 'generic': 3169, 'taught': 3170, 'holy': 3171, 'ghatkopar': 3172, 'ymca': 3173, 'era': 3174, 'executions': 3175, 'metadata': 3176, 'trusted': 3177, 'approve': 3178, 'predict': 3179, 'markets': 3180, 'internally': 3181, 'braindatawire': 3182, 'aurangabad': 3183, 'showrooms': 3184, 'quantities': 3185, 'labour': 3186, 'studies': 3187, 'architects': 3188, 'iii': 3189, 'reading': 3190, 'boot': 3191, 'beans': 3192, 'achievement': 3193, 'return': 3194, 'omegasoft': 3195, 'org': 3196, 'samarth': 3197, 'exhibitions': 3198, 'owner': 3199, 'intern': 3200, 'firms': 3201, 'briefing': 3202, 'addition': 3203, 'carrier': 3204, 'airlines': 3205, 'ordinated': 3206, 'inventories': 3207, 'serving': 3208, 'beautiful': 3209, 'translation': 3210, 'mec': 3211, 'ax': 3212, 'gulbarga': 3213, 'wai': 3214, 'kisanveer': 3215, 'refcon': 3216, 'bidding': 3217, 'starters': 3218, 'transformer': 3219, 'sf6': 3220, 'ds': 3221, 'almighty': 3222, 'sociology': 3223, 'sophia': 3224, 'applicants': 3225, 'grants': 3226, 'attractive': 3227, 'opportunity': 3228, 'millions': 3229, 'assets': 3230, 'contributing': 3231, 'posters': 3232, 'publicity': 3233, 'leaflets': 3234, 'attracting': 3235, 'venue': 3236, 'complied': 3237, 'fm': 3238, 'transmission': 3239, 'located': 3240, 'interviewees': 3241, 'selecting': 3242, 'presenters': 3243, 'recorded': 3244, 'copyrights': 3245, 'cleared': 3246, 'sonic': 3247, 'xs': 3248, 'forms': 3249, 'machinery': 3250, 'father': 3251, 'tie': 3252, 'specifically': 3253, 'trips': 3254, 'profitability': 3255, 'v10': 3256, 'even': 3257, 'netweaver': 3258, 'sd': 3259, 'mm': 3260, 'cs': 3261, 'scm': 3262, 'nafjan': 3263, 'abad': 3264, 'submittals': 3265, 'ofj': 3266, 'rnn': 3267, 'technique': 3268, 'similarity': 3269, 'kva': 3270, 'kirloskar': 3271, 'relays': 3272, 'circuit': 3273, 'battery': 3274, 'kw': 3275, 'contactor': 3276, 'hodoop': 3277, 'wanted': 3278, 'behavior': 3279, 'placed': 3280, 'write': 3281, 'pfizer': 3282, 'ddr': 3283, 'category': 3284, 'dates': 3285, 'practices': 3286, 'joins': 3287, 'docker': 3288, 'expdp': 3289, 'awr': 3290, '32': 3291, 'indira': 3292, 'exceptional': 3293, 'lecturer': 3294, 'cit': 3295, 'shubhankan': 3296, 'unravel': 3297, 'hue': 3298, 'lineage': 3299, 'focus': 3300, 'stability': 3301, 'utilizations': 3302, 'benchmark': 3303, 'greenplum': 3304, 'ubc': 3305, 'speed': 3306, 'matric': 3307, 'fighting': 3308, 'committee': 3309, 'adaptability': 3310, 'parola': 3311, 'dist': 3312, 'birth': 3313, 'listed': 3314, 'incentive': 3315, 'steering': 3316, 'optimum': 3317, 'attract': 3318, 'guiding': 3319, 'llb': 3320, 'notices': 3321, '1993': 3322, 'prices': 3323, 'question': 3324, 'remain': 3325, 'gauge': 3326, 'propose': 3327, 'conveyor': 3328, 'technicalskills': 3329, 'springmvc': 3330, 'azureweb': 3331, 'suntechnologies': 3332, 'restapi': 3333, 'opensourcetechnologies': 3334, 'webservers': 3335, 'apachetomcatserver': 3336, 'internettechnologiesand': 3337, 'onesignalwebpushnotifications': 3338, 'azurewebservices': 3339, 'operatingsystem': 3340, 'windowsserver2012r2': 3341, 'winxp': 3342, 'sapkal': 3343, 'replete': 3344, 'representing': 3345, 'nordea': 3346, 'wise': 3347, 'weblogic12c': 3348, 'webserver': 3349, 'geneva': 3350, 'preformed': 3351, 'staa': 3352, 'weblogic': 3353, 'dataguard': 3354, 'programing': 3355, 'martial': 3356, 'medals': 3357, 'schlumberger': 3358, 'attribute': 3359, 'sps12': 3360, 'bluemix': 3361, 'emphasis': 3362, 'negative': 3363, 'mms': 3364, 'robotics': 3365, 'introductory': 3366, 'atex': 3367, 'nfpa': 3368, 'iec': 3369, 'nec': 3370, 'sant': 3371, 'gajanan': 3372, 'maharaj': 3373, 'hazardous': 3374, 'outdoor': 3375, 'trench': 3376, 'duct': 3377, 'voltage': 3378, 'rca': 3379, 'viability': 3380, 'ulhasnagar': 3381, 'hexaware': 3382, 'could': 3383, 'interviews': 3384, 'early': 3385, 'participating': 3386, 'background': 3387, 'lab': 3388, 'iqvia': 3389, 'pay': 3390, 'wqr': 3391, 'fund': 3392, 'indent': 3393, 'mailing': 3394, 'glyphisoft': 3395, 'postgressql': 3396, 'doors': 3397, 'jformdesigner': 3398, 'd365': 3399, 'questionnaire': 3400, 'beyond': 3401, 'allcargo': 3402, 'salesperson': 3403, 'consent': 3404, 'everywhere': 3405, 'ext': 3406, 'soapbox': 3407, 'gondia': 3408, 'hertz': 3409, 'derby': 3410, 'debugged': 3411, 'confirm': 3412, 'alleviate': 3413, 'detect': 3414, 'expression': 3415, '42': 3416, 'preprocessing': 3417, 'finder': 3418, 'toubro': 3419, 'tez': 3420, 'collected': 3421, 'scom': 3422, 'kibana': 3423, 'unstructured': 3424, 'limits': 3425, 'gsk': 3426, 'instruction': 3427, 'geepas': 3428, 'builders': 3429, 'inception': 3430, 'matelabs': 3431, 'sklearn': 3432, 'keras': 3433, 'lstm': 3434, 'san': 3435, 'gcp': 3436, 'seaborn': 3437, 'cufflinks': 3438, 'brief': 3439, 'ldap': 3440, 'frequent': 3441, 'graphical': 3442, 'facilitate': 3443, 'pick': 3444, 'generally': 3445, 'edge': 3446, 'creative': 3447, 'especially': 3448, 'owners': 3449, 'choice': 3450, 'print': 3451, 'weight': 3452, 'confluence': 3453, '79': 3454, 'eligible': 3455, 'linguistic': 3456, '350': 3457, 'aware': 3458, 'raise': 3459, 'complain': 3460, 'china': 3461, 'authorization': 3462, 'meraki': 3463, 'walchand': 3464, 'rhel': 3465, 'sccm': 3466, 'browser': 3467, 's3': 3468, 'incremental': 3469, 'fundamentals': 3470, 'wealth': 3471, 'zero': 3472, 'mutual': 3473, 'failure': 3474, 'perspective': 3475, 'scheduler': 3476, 'patients': 3477, 'engagements': 3478, 'optimized': 3479, 'exceeded': 3480, 'suggestion': 3481, 'fair': 3482, 'prioritizing': 3483, 'polices': 3484, 'versions': 3485, 'conformance': 3486, 'listening': 3487, 'eliminated': 3488, 'partner': 3489, 'sikuli': 3490, 'inform': 3491, 'synthesize': 3492, 'ification': 3493, 'macros': 3494, 'paced': 3495, 'particularly': 3496, 'formulae': 3497, 'pivots': 3498, 'saints': 3499, 'prudential': 3500, 'multiclient': 3501, 'pheonix': 3502, 'glasgow': 3503, 'transitioned': 3504, 'pmos': 3505, 'robust': 3506, 'saviant': 3507, 'seasoned': 3508, 'supportive': 3509, 'allowed': 3510, 'imaginative': 3511, 'budgeted': 3512, 'dollars': 3513, 'collate': 3514, 'outliers': 3515, 'tl': 3516, 'influence': 3517, 'yearly': 3518, 'publish': 3519, 'combines': 3520, 'conversation': 3521, 'comfortable': 3522, 'utm': 3523, 'hcl': 3524, 'comnet': 3525, 'annotations': 3526, 'universal': 3527, 'sky': 3528, 'integrity': 3529, 'practical': 3530, 'dance': 3531, 'suit': 3532, 'udemy': 3533, 'kendoui': 3534, 'mrs': 3535, 'cpro': 3536, 'xtraction': 3537, 'rkims': 3538, 'bench': 3539, 'aspiration': 3540, 'crunch': 3541, 'wfm': 3542, 'trended': 3543, 'nld': 3544, 'elevate': 3545, 'trb': 3546, 'te': 3547, 'wims': 3548, 'sims': 3549, 'impacting': 3550, 'coordinates': 3551, 'bu': 3552, 'distribute': 3553, 'ratios': 3554, 'seat': 3555, 'pwd': 3556, 'dob': 3557, '1986': 3558, 'awvpb7123n': 3559, 'passport': 3560, 'j1409038': 3561, 'kannada': 3562, 'konkani': 3563, 'married': 3564, 'fanuc': 3565, 'reality': 3566, 'ie': 3567, 'sage': 3568, 'lm': 3569, 'wms': 3570, '050education': 3571, 'landmarkgroup': 3572, 'turnover': 3573, '2200': 3574, 'cr': 3575, 'cheque': 3576, 'correctly': 3577, 'underwriting': 3578, 'costings': 3579, 'followups': 3580, 'trippereri': 3581, 'travels': 3582, 'looked': 3583, 'vish': 3584, 'distributor': 3585, 'amenities': 3586, 'incharge': 3587, 'overlooking': 3588, 'cha': 3589, 'quickest': 3590, 'adhered': 3591, 'rebates': 3592, 'availed': 3593, 'exim': 3594, 'satisfied': 3595, 'obstacles': 3596, 'faced': 3597, 'smoothened': 3598, 'hassel': 3599, 'paybles': 3600, 'manufacture': 3601, 'shortfalls': 3602, 'fze': 3603, 'sophisticated': 3604, 'revenues': 3605, 'excess': 3606, 'eur': 3607, 'annually': 3608, 'acquire': 3609, 'economical': 3610, 'eye': 3611, 'negotiate': 3612, 'charges': 3613, 'americas': 3614, 'snag': 3615, 'loopholes': 3616, 'deadline': 3617, 'transporters': 3618, 'clearances': 3619, 'transportation': 3620, 'loss': 3621, 'european': 3622, 'curtail': 3623, 'wastages': 3624, 'disposal': 3625, 'retired': 3626, 'distributions': 3627, 'receipt': 3628, 'affecting': 3629, 'punctuality': 3630, 'vacation': 3631, 'expired': 3632, 'aligned': 3633, 'procuring': 3634, 'registrations': 3635, 'factories': 3636, 'picking': 3637, 'packing': 3638, 'aed': 3639, 'sabic': 3640, 'discrepancy': 3641, 'stocking': 3642, 'abridged': 3643, 'decrease': 3644, 'turnaround': 3645, 'kuehne': 3646, 'nagel': 3647, 'seafreight': 3648, 'airfreight': 3649, 'overland': 3650, 'negotiated': 3651, 'routes': 3652, 'carriers': 3653, 'essayed': 3654, 'nations': 3655, 'marriot': 3656, 'hilton': 3657, 'movements': 3658, 'far': 3659, 'amman': 3660, 'exit': 3661, 'grievances': 3662, 'courrier': 3663, 'wholly': 3664, 'dpwn': 3665, 'deutsche': 3666, 'ountholders': 3667, 'tracing': 3668, 'undelivered': 3669, 'paperworks': 3670, 'warrants': 3671, 'wns': 3672, 'airlink': 3673, 'jebel': 3674, 'ali': 3675, 'barge': 3676, 'loadouts': 3677, 'adhering': 3678, 'dispatching': 3679, 'reorder': 3680, 'par': 3681, 'radiators': 3682, 'coolers': 3683, 'exchangers': 3684, 'circulating': 3685, 'memos': 3686, 'petty': 3687, 'cashiering': 3688, 'balancers': 3689, '3600': 3690, 'catalyst': 3691, '4500': 3692, 'indexing': 3693, 'associates': 3694, 'subnetting': 3695, 'supernetting': 3696, 'lans': 3697, 'snooping': 3698, 'aaa': 3699, 'bgp': 3700, 'telemetary': 3701, 'fan': 3702, 'sem': 3703, 'simply': 3704, 'senses': 3705, 'moisture': 3706, 'mahatma': 3707, 'acls': 3708, 'rip': 3709, '90': 3710, 'arrangement': 3711, 'notice': 3712, 'individually': 3713, 'ministry': 3714, 'enabling': 3715, 'overview': 3716, 'students': 3717, 'deltannex': 3718, 'integrators': 3719, 'outlays': 3720, 'fostering': 3721, 'teamwork': 3722, 'prioritization': 3723, 'complying': 3724, 'compilation': 3725, 'waivers': 3726, 'concessions': 3727, 'approving': 3728, 'mrn': 3729, 'closeout': 3730, 'constant': 3731, 'earlier': 3732, 'ev': 3733, 'variances': 3734, 'biweekly': 3735, 'adheres': 3736, 'ordinates': 3737, 'tqs': 3738, 'revisions': 3739, 'revision': 3740, 'seoul': 3741, 'south': 3742, 'jas': 3743, 'pc': 3744, 'ja': 3745, 'concerns': 3746, 'sides': 3747, 'invitation': 3748, 'ccvi': 3749, 'permits': 3750, 'teleconference': 3751, 'epc': 3752, 'tbes': 3753, 'fgp': 3754, 'wpmp': 3755, 'tco': 3756, 'mustang': 3757, 'sta': 3758, 'ing': 3759, 'grain': 3760, 'cbi': 3761, 'tanker': 3762, 'miscellaneous': 3763, 'cord': 3764, 'appreciations': 3765, 'mx8800': 3766, 'ccr1': 3767, 'offsites': 3768, 'enppi': 3769, 'ethydco': 3770, 'ethylene': 3771, '2nos': 3772, 'doubts': 3773, 'abu': 3774, 'dhabi': 3775, 'plant6': 3776, 'ml200': 3777, 'tunnel': 3778, 'chevron': 3779, 'oronite': 3780, 'singapore': 3781, 'hmiweb': 3782, '66': 3783, 'noticed': 3784, 'tgi': 3785, 'modernization': 3786, 'kh': 3787, 'nederland': 3788, 'raffinaderji': 3789, 'amsterdam': 3790, 'hg': 3791, 'cmpi': 3792, 'coil': 3793, 'balancing': 3794, 'strategically': 3795, 'ountable': 3796, 'contingency': 3797, 'advises': 3798, 'adopt': 3799, 'freeze': 3800, 'iron': 3801, 'ambiguities': 3802, 'please': 3803, 'annexure': 3804, 'enercon': 3805, 'inverter': 3806, 'converter': 3807, 'igbts': 3808, 'thyristors': 3809, 'tortoise': 3810, 'wcf': 3811, 'ai': 3812, 'computerized': 3813, 'officeeducation': 3814, 'pp': 3815, 'thermal': 3816, 'workers': 3817, 'golds': 3818, '2900s': 3819, 'exec': 3820, '12d': 3821, 'cloudatix': 3822, 'wifi': 3823, 'asha': 3824, 'mmpc': 3825, 'mp': 3826, 'laptop': 3827, 'subjects': 3828, 'comfort': 3829, 'tag': 3830, 'expenditure': 3831, 'focused': 3832, 'dallas': 3833, '40': 3834, 'forest': 3835, 'campaigns': 3836, 'escalationseducation': 3837, 'icfai': 3838, 'eliminate': 3839, 'controllership': 3840, 'reengineering': 3841, 'charter': 3842, 'ud': 3843, 'sops': 3844, 'impacted': 3845, 'teleperformance': 3846, 'exploring': 3847, 'preferences': 3848, 'conceptualizing': 3849, 'batch': 3850, 'joiners': 3851, 'barging': 3852, 'adhoc': 3853, 'faculty': 3854, 'groomed': 3855, 'analysing': 3856, 'produce': 3857, 'ept': 3858, 'dietetics': 3859, 'instructor': 3860, 'dental': 3861, 'twice': 3862, 'demonstrated': 3863, 'centric': 3864, 'deft': 3865, 'delinquencies': 3866, 'dexterity': 3867, 'recoveries': 3868, 'bottom': 3869, 'quartile': 3870, 'relate': 3871, 'verticals': 3872, 'measuring': 3873, 'measured': 3874, 'appropriately': 3875, 'ctl': 3876, 'amex': 3877, 'tid': 3878, 'oceans': 3879, '73': 3880, 'pins': 3881, 'chargeback': 3882, 'replied': 3883, 'bankers': 3884, 'stringent': 3885, 'premises': 3886, 'aforesaid': 3887, 'determining': 3888, 'retain': 3889, 'ags': 3890, 'transact': 3891, 'atms': 3892, 'vertex': 3893, 'con': 3894, 'inclusion': 3895, 'cascading': 3896, 'inward': 3897, 'outward': 3898, 'foi': 3899, 'snail': 3900, 'jupyter': 3901, 'anaconda': 3902, 'introduction': 3903, 'arrive': 3904, 'secretary': 3905, 'ice': 3906, 'geo': 3907, 'respect': 3908, 'expense': 3909, 'swift': 3910, 'bt': 3911, 'wellness': 3912, 'viamedia': 3913, 'maternal': 3914, 'nutritional': 3915, 'diet': 3916, 'operate': 3917, 'sculpt': 3918, '24x7': 3919, 'maths': 3920, 'belt': 3921, 'grasping': 3922, 'formerly': 3923, 'webdriver': 3924, 'likely': 3925, 'niketan': 3926, 'schneider': 3927, 'charge': 3928, 'body': 3929, 'cum': 3930, 'healthy': 3931, 'alarm': 3932, 'vinayaka': 3933, 'missions': 3934, 'worth': 3935, 'advisors': 3936, 'bs': 3937, 'collects': 3938, '218': 3939, 'brooklyn': 3940, 'pittsburgh': 3941, 'syracuse': 3942, 'collateral': 3943, 'apac': 3944, 'fiserv': 3945, 'firre': 3946, 'tasked': 3947, 'unbilled': 3948, 'resumption': 3949, 'defense': 3950, 'ountability': 3951, 'ore': 3952, 'ordingly': 3953, 'green': 3954, 'eap': 3955, 'underperforming': 3956, 'semiannual': 3957, 'cut': 3958, 'hire': 3959, 'brainshark': 3960, 'encourage': 3961, 'competitive': 3962, 'play': 3963, 'conceptualized': 3964, 'funneling': 3965, 'breakdowns': 3966, 'toll': 3967, 'esses': 3968, 'differentiate': 3969, 'paths': 3970, 'rotation': 3971, 'recognitions': 3972, 'ais': 3973, 'bds': 3974, 'custodian': 3975, 'trustee': 3976, 'paying': 3977, 'registrar': 3978, 'billed': 3979, 'invoiced': 3980, 'mailboxes': 3981, 'equal': 3982, 'spreadsheets': 3983, 'designated': 3984, 'actioned': 3985, 'handoff': 3986, 'counterparts': 3987, 'sigma': 3988, 'ones': 3989, 'corp': 3990, 'tieriii': 3991, 'compiled': 3992, 'stb': 3993, 'flip': 3994, 'span': 3995, 'article': 3996, '29th': 3997, 'customizes': 3998, 'satisfy': 3999, '500': 4000, 'walking': 4001, 'interim': 4002, 'concerning': 4003, 'refunds': 4004, 'credits': 4005, 'queues': 4006, 'intervening': 4007, 'delayed': 4008, 'deriving': 4009, 'hurdles': 4010, 'improvise': 4011, 'expeditious': 4012, 'additions': 4013, 'commonly': 4014, 'urring': 4015, 'motivation': 4016, 'nominated': 4017, 'gecis': 4018, 'lending': 4019, 'leasing': 4020, 'outbound': 4021, 'credibility': 4022, 'absence': 4023, 'keeps': 4024, 'join': 4025, 'arya': 4026, 'inbuilt': 4027, 'character': 4028, 'gujarat': 4029, 'aptech': 4030, 'storm': 4031, 'reverse': 4032, 'reduced': 4033, 'bmn': 4034, 'promoter': 4035, 'ugc': 4036, 'gaia': 4037, 'rsa': 4038, '63': 4039, 'tds': 4040, 'telerik': 4041, 'sgbau': 4042, 'consolidated': 4043, 'speaker': 4044, 'eco': 4045, 'rack': 4046, 'variety': 4047, 'text2': 4048, 'codeigniter': 4049, 'augest': 4050, 'pragat': 4051, 'diifernt': 4052, 'ayur': 4053, 'ayurveda': 4054, 'traditionally': 4055, 'classical': 4056, 'ayurvedic': 4057, 'vitsanindia': 4058, 'shooping': 4059, 'iv': 4060, 'mahabaleshwartours': 4061, 'cityspaceindia': 4062, 'vi': 4063, 'fruitsbuddy': 4064, 'fruitbuddy': 4065, 'guaranteed': 4066, 'vii': 4067, 'totalcitee': 4068, 'visitors': 4069, 'viii': 4070, 'golchha': 4071, 'crash': 4072, 'slow': 4073, 'identity': 4074, 'relating': 4075, 'collaborator': 4076, 'distance': 4077, 'garments': 4078, 'pattern': 4079, 'economics': 4080, 'manipal': 4081, 'omplishments': 4082, 'rolled': 4083, 'awards': 4084, 'notes': 4085, 'obtained': 4086, 'shop': 4087, 'challenging': 4088, 'desktop': 4089, 'snapshot': 4090, 'clinics': 4091, 'things': 4092, 'schedulers': 4093, 'consistency': 4094, 'tnsnames': 4095, 'mysql5': 4096, 'developement': 4097, 'innovesta': 4098, 'priyadarshini': 4099, 'conferring': 4100, 'understood': 4101, 'incorporate': 4102, 'nitka': 4103, 'mintmetrix': 4104, 'tagline': 4105, 'videos': 4106, 'smartbadge': 4107, 'shreekiaspack': 4108, '3staragroproducts': 4109, 'luckystationery': 4110, 'logos': 4111, 'brochures': 4112, 'banners': 4113, 'pamphlet': 4114, 'hoardings': 4115, 'diagnosis': 4116, 'mini': 4117, 'academia': 4118, 'participants': 4119, 'iis': 4120, 'pertaining': 4121, 'bills': 4122, 'impdp': 4123, 'memory': 4124, 'addm': 4125, 'ies': 4126, 'ips': 4127, 'creates': 4128, 'gender': 4129, 'sanity': 4130, 'bots': 4131, 'ssms': 4132, 'packs': 4133, 'refresh': 4134, 'blocking': 4135, 'mariadb': 4136, 'schemas': 4137, 'temporary': 4138, 'involvement': 4139, 'viewer': 4140, 'raspberry': 4141, 'exploratory': 4142, 'netezza': 4143, 'nettech': 4144, '12k': 4145, 'movie': 4146, 'epi': 4147, 'charni': 4148, 'exporting': 4149, 'connect': 4150, 'netbackup': 4151, 'helped': 4152, 'ernst': 4153, 'ids': 4154, 'disaster': 4155, 'bse': 4156, 'yashwantrao': 4157, 'chavan': 4158, 'hgs': 4159, '16th': 4160, 'retaing': 4161, 'casa': 4162, 'shopkeeper': 4163, 'signup': 4164, 'mahal': 4165, '04th': 4166, 'gegenerat': 4167, 'bunglows': 4168, 'plots': 4169, 'bookmyflat': 4170, 'kanban': 4171, 'extreme': 4172, 'fdd': 4173, 'modular': 4174, 'runner': 4175, 'bugzilla': 4176, 'tcp': 4177, 'https': 4178, '109': 4179, '69': 4180, 'discussed': 4181, 'explained': 4182, 'changing': 4183, 'published': 4184, 'epics': 4185, 'grooming': 4186, 'stand': 4187, 'retrospective': 4188, 'came': 4189, 'controlflash': 4190, 'comparetool': 4191, 'fda': 4192, 'initiating': 4193, 'guided': 4194, 'descriptive': 4195, 'scenario': 4196, 'hdfc': 4197, 'vistaar': 4198, 'referred': 4199, 'sanitary': 4200, 'v2002': 4201, 'kindo': 4202, 'satara': 4203, 'chess': 4204, 'rubik': 4205, 'cube': 4206, 'jspm': 4207, 'jayawantrao': 4208, 'sawant': 4209, 'productively': 4210, 'wallets': 4211, 'alterations': 4212, 'checked': 4213, 'bit': 4214, 'bucket': 4215, 'ins': 4216, 'bancs': 4217, 'los': 4218, 'credence': 4219, 'scd1': 4220, 'sever': 4221, 'preserving': 4222, 'sdk': 4223, 'wdeploy': 4224, 'separate': 4225, 'vintela': 4226, 'sso': 4227, 'clock': 4228, 'drf': 4229, 'sqlite': 4230, 'managent': 4231, 'bamu': 4232, 'sqlit3': 4233, 'collectively': 4234, 'switched': 4235, 'example': 4236, 'templates': 4237, 'templating': 4238, 'navigation': 4239, 'pymysql': 4240, 'crud': 4241, 'routines': 4242, 'navigations': 4243, 'paginations': 4244, 'sqlalchemy': 4245, 'restfull': 4246, 'mvt': 4247, 'buildcon': 4248, 'exterior': 4249, 'apartments': 4250, 'villas': 4251, 'investigations': 4252, 'evaluated': 4253, 'supervisors': 4254, 'maharashatra': 4255, 'intio': 4256, 'yee': 4257, 'football': 4258, 'travelling': 4259, 'factual': 4260, 'manish': 4261, 'prabhakar': 4262, 'bharati': 4263, 'vidyapeeth': 4264, 'khalsa': 4265, 'datastage': 4266, 'infocomm': 4267, 'havevbeen': 4268, '3years': 4269, 'convincing': 4270, 'dependability': 4271, 'taxing': 4272, 'demanding': 4273, 'reasonably': 4274, 'stretchable': 4275, 'slots': 4276, 'cooperatively': 4277, 'shope': 4278, 'telle': 4279, 'caller': 4280, 'finserv': 4281, 'square': 4282, 'andhra': 4283, 'syllabus': 4284, 'mscit': 4285, 'milling': 4286, 'honest': 4287, 'criculum': 4288, 'adani': 4289, 'suzuki': 4290, 'jet': 4291, 'airways': 4292, 'rd': 4293, 'seen': 4294, 'jsw': 4295, 'urja': 4296, 'assembly': 4297, 'disassembly': 4298, 'nd': 4299, 'punching': 4300, 'paddle': 4301, 'sugarcane': 4302, 'juicer': 4303, 'corda': 4304, 'tendermint': 4305, 'specilaized': 4306, 'reactjs': 4307, 'angulareducation': 4308, 'blood': 4309, 'vidyashram': 4310, 'une': 4311, 'amway': 4312, 'bharti': 4313, 'scholar': 4314, 'tor': 4315, 'vergata': 4316, 'journal': 4317, 'ijar': 4318, '20656': 4319, 'reviewer': 4320, 'revolutionizing': 4321, 'ijsrd': 4322, 'maharastra': 4323, 'interns': 4324, 'drums': 4325, 'positron': 4326, 'equality': 4327, 'violence': 4328, 'weekends': 4329, 'fruit': 4330, 'liabrary': 4331, 'matplolib': 4332, 'ountabilities': 4333, 'testability': 4334, 'liabray': 4335, 'tk': 4336, 'dyanamics': 4337, 'estimate': 4338, 'fs': 4339, 'ts': 4340, 'utp': 4341, 'ptf': 4342, 'a2': 4343, 'goethe': 4344, 'maples': 4345, 'rpgle': 4346, '6th': 4347, 'cache': 4348, 'memoization': 4349, 'pws': 4350, 'query400': 4351, 'subfiles': 4352, 'printer': 4353, 'sec': 4354, 'ramesh': 4355, 'gaarment': 4356, 'tirupur': 4357, 'abb': 4358, 'swing': 4359, 'springernature': 4360, 'akzonobel': 4361, 'essibility': 4362, 'briefings': 4363, 'advice': 4364, 'sns': 4365, 'proficiencies': 4366, 'fedora': 4367, 'cent': 4368, 'ryk': 4369, 'saral': 4370, 'restructuring': 4371, 'starting': 4372, 'assuring': 4373, 'prompt': 4374, 'satisfactory': 4375, 'gratuity': 4376, 'manpower': 4377, 'mould': 4378, 'alamuri': 4379, 'ratnamala': 4380, 'rajdevi': 4381, 'maharshtra': 4382, '1year': 4383, 'surya': 4384, 'wall': 4385, 'perhaps': 4386, 'ideally': 4387, 'rendering': 4388, 'easier': 4389, 'effortless': 4390, 'mortar': 4391, 'detais': 4392, 'gyandatt': 4393, 'chauhan': 4394, 'utilising': 4395, 'linq': 4396, 'ties': 4397, 'verifying': 4398, 'petroleum': 4399, 'certifications': 4400, 'ver': 4401, 'btech': 4402, 'willingdon': 4403, 'martin': 4404, 'optimistic': 4405, 'teamleader': 4406, 'visualizing': 4407, 'grip': 4408, 'loyal': 4409, 'compatible': 4410, 'amity': 4411, 'cohesive': 4412, 'entrepreneur': 4413, 'ale': 4414, 'idoc': 4415, 'ewm': 4416, 'apo': 4417, '4hana': 4418, 'holder': 4419, 'powertech': 4420, 'dammam': 4421, 'saudi': 4422, 'approved': 4423, 'mmrda': 4424, 'leaning': 4425, 'chok': 4426, 'restoring': 4427, 'interval': 4428, 'vidisha': 4429, 'nltk': 4430, 'cosine': 4431, 'starter': 4432, 'oop': 4433, 'kendo': 4434, 'politician': 4435, 'trainee': 4436, 'fees': 4437, 'marks': 4438, 'expiry': 4439, 'otherwise': 4440, 'ni': 4441, 'lux': 4442, 'workbench': 4443, 'redshift': 4444, 'athena': 4445, 'kochi': 4446, 'francis': 4447, 'tjdbcconfiguration': 4448, 'tjdbcinput': 4449, 'thdfsconfiguration': 4450, 'ts3configuration': 4451, 'tcacheout': 4452, 'tcachein': 4453, 'tfileinputdelimited': 4454, 'tfileoutputdelimited': 4455, 'tjoin': 4456, 'treplicate': 4457, 'tparallelize': 4458, 'tconverttype': 4459, 'taggregate': 4460, 'tsortrow': 4461, 'tflowmeter': 4462, 'tlogcatcher': 4463, 'trowgenerator': 4464, 'tjava': 4465, 'tjavarow': 4466, 'taggregaterow': 4467, 'tfilter': 4468, 'naming': 4469, 'joblets': 4470, 'trunjob': 4471, 'pass': 4472, 'expressions': 4473, 'implicit': 4474, 'variables': 4475, 'counts': 4476, 'tparalleize': 4477, 'thread': 4478, 'subjobs': 4479, 'parallel': 4480, 'increases': 4481, 'tfilelist': 4482, 'ts3put': 4483, 'tftput': 4484, 'tfileexist': 4485, 'tftpconnection': 4486, 'flatfiles': 4487, 'variable': 4488, 'profound': 4489, 'golang': 4490, 'culturally': 4491, 'fit': 4492, 'microservices': 4493, 'consensuseducation': 4494, 'malaviya': 4495, 'kolhapur': 4496, 'tradefinex': 4497, 'registry': 4498, 'mh': 4499, 'infactor': 4500, 'factoring': 4501, 'erc': 4502, 'oro': 4503, 'orowealth': 4504, 'commision': 4505, 'mf': 4506, '22k': 4507, 'cakephp': 4508, 'passengers': 4509, 'customisation': 4510, 'endpoints': 4511, 'opencart': 4512, 'ka': 4513, 'birst': 4514, 'started': 4515, 'rescheduling': 4516, 'defence': 4517, 'sdnbvc': 4518, 'anything': 4519, 'markup': 4520, 'glassfish': 4521, 'jharnet': 4522, 'elementary': 4523, 'addressing': 4524, 'lease': 4525, 'osi': 4526, 'customize': 4527, 'byte': 4528, 'doc': 4529, 'explore': 4530, 'litecoin': 4531, 'p2p': 4532, 'lavisa': 4533, 'manageable': 4534, 'adhar': 4535, 'dapp': 4536, 'technicalproficiencies': 4537, 'domains': 4538, 'headquarters': 4539, 'operates': 4540, 'investments': 4541, 'securities': 4542, 'bonds': 4543, 'fx': 4544, 'modelers': 4545, 'cfoc': 4546, 'infa': 4547, 'powercenter': 4548, 'jun': 4549, 'advertisement': 4550, 'courter': 4551, 'egc': 4552, 'suffice': 4553, 'belonging': 4554, 'rejection': 4555, 'cognos': 4556, 'mart': 4557, 'niche': 4558, 'casualty': 4559, 'documented': 4560, 'uploaded': 4561, 'python3': 4562, 'enthusiast': 4563, 'segmentation': 4564, 'integrating': 4565, 'litigation': 4566, 'adoption': 4567, 'ites': 4568, 'directed': 4569, 'mgmt': 4570, 'alternatives': 4571, 'amendment': 4572, 'plotting': 4573, 'bought': 4574, 'thumb': 4575, 'realistic': 4576, 'databanks': 4577, 'readily': 4578, 'dept': 4579, 'submitting': 4580, 'pending': 4581, 'concern': 4582, 'pain': 4583, 'tailor': 4584, 'predesigned': 4585, 'chemtronics': 4586, 'commercially': 4587, 'viable': 4588, 'savings': 4589, 'finalization': 4590, 'comparisons': 4591, 'digitize': 4592, 'incoming': 4593, 'note': 4594, 'buying': 4595, 'finders': 4596, 'ask': 4597, 'quote': 4598, 'substantial': 4599, 'expenditures': 4600, 'dombivali': 4601, 'kaylan': 4602, 'pneumatics': 4603, 'comparing': 4604, 'schrader': 4605, 'modify': 4606, 'assy': 4607, 'assure': 4608, 'conformity': 4609, 'nc': 4610, 'touch': 4611, 'hods': 4612, 'iso9001': 4613, 'dealers': 4614, 'hoist': 4615, 'lifts': 4616, 'joist': 4617, 'mech': 4618, 'rabale': 4619, 'thane': 4620, 'mukand': 4621, 'marking': 4622, 'machining': 4623, 'surface': 4624, 'finishing': 4625, 'preferred': 4626, 'minimum': 4627, 'trend': 4628, 'interests': 4629, 'tournament': 4630, 'thee': 4631, 'volunteer': 4632, 'tricks': 4633, 'moledina': 4634, '104': 4635, 'f2': 4636, 'applauded': 4637, 'ranked': 4638, 'superior': 4639, 'honoree': 4640, 'thereby': 4641, 'discount': 4642, 'vessel': 4643, 'condenser': 4644, 'khadakwasla': 4645, 'laboratory': 4646, 'harbor': 4647, 'goa': 4648, 'bangladesh': 4649, 'maker': 4650, 'servo': 4651, 'axial': 4652, 'piston': 4653, 'cwprs': 4654, 'v5': 4655, 'proe': 4656, 'curricular': 4657, 'coordinator': 4658, 'readiness': 4659, 'atributes': 4660, 'gross': 4661, 'counterpart': 4662, 'workaround': 4663, 'delay': 4664, 'weather': 4665, 'suggested': 4666, 'visualize': 4667, 'mainly': 4668, 'ejb': 4669, 'pursuing': 4670, 'anantrao': 4671, 'pawar': 4672, 'cybage': 4673, 'want': 4674, 'gain': 4675, 'super': 4676, 'sincere': 4677, 'rlt': 4678, 'guru': 4679, 'nanak': 4680, 'emperor': 4681, 'cars': 4682, 'sportsmen': 4683, 'tournaments': 4684, 'passionate': 4685, 'native': 4686, 'functionalities': 4687, 'planviz': 4688, 'sda': 4689, 'fujitsu': 4690, 'modifying': 4691, 'donald': 4692, 'faces': 4693, 'jsf': 4694, 'mostly': 4695, 'tweets': 4696, 'whether': 4697, 'neutral': 4698, 'missing': 4699, 'approaches': 4700, 'datamites': 4701, 'manipulating': 4702, '06th': 4703, 'ul': 4704, 'boiler': 4705, 'atharva': 4706, 'trial': 4707, 'notifications': 4708, 'smes': 4709, 'psychology': 4710, 'malappuram': 4711, 'centralized': 4712, 'know': 4713, 'acquired': 4714, 'boards': 4715, 'navshar': 4716, 'navnirman': 4717, 'festival': 4718, 'none': 4719, 'visualforce': 4720, 'streaming': 4721, 'steaming': 4722, 'drowsiness': 4723, 'detects': 4724, 'drowsy': 4725, 'condition': 4726, 'sanghavi': 4727, 'shree': 4728, 'mahavir': 4729, 'meri': 4730, 'poi': 4731, 'white': 4732, 'globalization': 4733, 'compatibility': 4734, 'stlc': 4735, 'retesting': 4736, 'ess2007': 4737, 'valuable': 4738, 'bcs': 4739, 'fromjspm': 4740, 'extc': 4741, 'vashi': 4742, 'fr': 4743, 'agnel': 4744, 'eligibility': 4745, 'enrollment': 4746, 'aggregator': 4747, 'normalizer': 4748, 'sorter': 4749, 'corresponding': 4750, 'figure': 4751, 'membership': 4752, 'kudos': 4753, 'values': 4754, 'nallasopara': 4755, 'encharge': 4756, 'near': 4757, 'casting': 4758, 'concrete': 4759, 'esd': 4760, 'employability': 4761, 'jscoe': 4762, 'sparkle': 4763, 'avishkar': 4764, 'sponsorship': 4765, 'platinum': 4766, 'enfield': 4767, 'rank': 4768, 'poster': 4769, 'ambulance': 4770, 'arduino': 4771, 'skncoe': 4772, 'competitions': 4773, 'pict': 4774, 'opencv': 4775, 'pil': 4776, 'bachelors': 4777, 'combined': 4778, 'throttle': 4779, 'race': 4780, 'stepcone': 4781, 'contest': 4782, 'gmr': 4783, 'instiute': 4784, 'scipy': 4785, 'embedding': 4786, 'dimensionality': 4787, 'lda': 4788, 'nmf': 4789, 'visualizations': 4790, 'd3': 4791, 'tar': 4792, 'evidence': 4793, 'chatbot': 4794, 'meta': 4795, 'preforming': 4796, 'investigative': 4797, 'ray': 4798, 'glaxo': 4799, 'smith': 4800, 'kline': 4801, 'usd': 4802, 'effluent': 4803, 'method': 4804, 'certificates': 4805, 'observations': 4806, 'gulf': 4807, 'contracting': 4808, 'inspections': 4809, 'correction': 4810, 'pertinent': 4811, 'dahej': 4812, 'importer': 4813, 'tons': 4814, 'outlier': 4815, 'trials': 4816, 'chandigarh': 4817, 'pal': 4818, 'deloitte': 4819, 'usi': 4820, 'sentence': 4821, 'fmcg': 4822, 'decomposition': 4823, 'bobj': 4824, 'rfm': 4825, 'closed': 4826, 'kpis': 4827, 'rayat': 4828, 'bahra': 4829, 'biotechnology': 4830, 'bhawana': 4831, 'aggarwal': 4832, 'bias': 4833, 'vector': 4834, 'unsupervised': 4835, 'reinforcement': 4836, 'google': 4837, 'laterally': 4838, 'reusability': 4839, '78': 4840, 'harnesses': 4841, 'artificial': 4842, 'cognitive': 4843, 'comprises': 4844, 'reasoning': 4845, 'entailed': 4846, 'monster': 4847, 'answered': 4848, 'alll1': 4849, 'nlu': 4850, 'classifications': 4851, 'predicting': 4852, 'mnb': 4853, 'bidirectional': 4854, '9i': 4855, 'maximum': 4856, 'label': 4857, 'arrangements': 4858, 'forge': 4859, '600': 4860, 'amazon': 4861, 'soa': 4862, 'ooad': 4863, 'ssrs': 4864, 'aditya': 4865, 'niit': 4866, 'north': 4867, 'sizes': 4868, 'typical': 4869, 'explaining': 4870, 'drill': 4871, 'flexible': 4872, 'rms': 4873, 'requested': 4874, 'varying': 4875, 'backgrounds': 4876, 'decommissioning': 4877, 'phases': 4878, 'acting': 4879, 'pg': 4880, 'manually': 4881, 'cutover': 4882, 'devising': 4883, 'pac': 4884, 'performs': 4885, 'gets': 4886, 'predefined': 4887, 'depth': 4888, 'cgpa': 4889, 'ao': 4890, 'introduced': 4891, 'repo': 4892, 'packet': 4893, 'tracer': 4894, 'overcome': 4895, 'shoulder': 4896, 'algo': 4897, 'farming': 4898, 'prakshal': 4899, 'rachana': 4900, 'sansad': 4901, 'deign': 4902, 'jungle': 4903, 'cubs': 4904, 'punctual': 4905, 'respectfulness': 4906, 'true': 4907, 'sciene': 4908, 'amaravti': 4909, 'sprinng': 4910, 'rplus': 4911, 'uses': 4912, 'sentiments': 4913, 'derive': 4914, 'identifies': 4915, 'hordes': 4916, 'selects': 4917, 'datasets': 4918, 'atom': 4919, 'unanth': 4920, 'solo': 4921, 'uom': 4922, 'reason': 4923, 'dinman': 4924, 'displaying': 4925, 'agri': 4926, 'vegetables': 4927, 'assignment': 4928, 'newspapers': 4929, 'subscriptions': 4930, 'light': 4931, 'advertisements': 4932, 'facebook': 4933, 'keen': 4934, 'solutionseducation': 4935, '210': 4936, 'campus': 4937, 'vj': 4938, 'pharmacy': 4939, 'personality': 4940, 'agricultural': 4941, 'hrs': 4942, 'elringklinger': 4943, 'automotives': 4944, 'kubler': 4945, 'chakan': 4946, 'finanza': 4947, 'pimple': 4948, 'saudagar': 4949, 'sharvari': 4950, 'junner': 4951, 'entrepreneurship': 4952, '168': 4953, 'narayangaon': 4954, '229': 4955, 'adjoining': 4956, 'fashion': 4957, 'trimax': 4958, 'problematic': 4959, 'myisam': 4960, 'innodb': 4961, 'shifting': 4962, 'parameter': 4963, 'purging': 4964, 'xtrabackup': 4965, 'ease': 4966, 'matched': 4967, 'relocate': 4968, 'vtu': 4969, 'vishweshwariya': 4970, 'mahavidyalay': 4971, 'kohlapur': 4972, 'greenfield': 4973, 'libs': 4974, 'braseries': 4975, 'burkena': 4976, 'faso': 4977, 'africa': 4978, 'citrus': 4979, 'carlsberg': 4980, 'myanmar': 4981, 'yangon': 4982, 'mysore': 4983, 'haldiram': 4984, 'tetra': 4985, 'pak': 4986, 'amreli': 4987, 'instrument': 4988, 'philosophy': 4989, 'trays': 4990, 'apfc': 4991, 'metering': 4992, 'pts': 4993, 'acbs': 4994, 'analog': 4995, 'floating': 4996, 'alignment': 4997, 'route': 4998, 'tray': 4999, 'danfoss': 5000, 'schnider': 5001, 'vacon': 5002, 's7': 5003, '1200': 5004, '1500': 5005, 'et': 5006, '200s': 5007, 'allen': 5008, 'bready': 5009, 'logix5000': 5010, 'modulating': 5011, 'solenoid': 5012, 'meter': 5013, 'sugars': 5014, 'erection': 5015, 'allied': 5016, 'overhauling': 5017, 'shunt': 5018, 'switchgears': 5019, 'vfds': 5020, 'dg': 5021, 'amf': 5022, 'acb': 5023, 'vcb': 5024, 'fcbc': 5025, 'microprocessor': 5026, 'numerical': 5027, 'pjlce': 5028, 'pharmaceuticals': 5029, 'chemicals': 5030, 'skillseducation': 5031, '1997': 5032, '1996': 5033, 'teresa': 5034, 'convent': 5035, 'theatre': 5036, 'conception': 5037, 'deputy': 5038, 'compelling': 5039, 'convey': 5040, 'charles': 5041, 'wallace': 5042, 'entrepreneurs': 5043, 'chevening': 5044, 'clore': 5045, 'scholarship': 5046, 'shortlisting': 5047, 'fellowships': 5048, 'geographic': 5049, 'officials': 5050, 'partnership': 5051, 'continents': 5052, 'connecting': 5053, 'cultures': 5054, 'bc': 5055, 'ambitious': 5056, 'strengthening': 5057, 'colleagues': 5058, 'longer': 5059, 'performers': 5060, 'artists': 5061, 'performances': 5062, 'authorities': 5063, 'film': 5064, 'outreach': 5065, 'aircheck': 5066, 'intended': 5067, 'metros': 5068, 'pitching': 5069, 'commissions': 5070, 'reporters': 5071, 'mixing': 5072, 'vegas': 5073, 'acid': 5074, 'midi': 5075, 'definitive': 5076, 'continent': 5077, 'surrounds': 5078, 'exclusive': 5079, 'sensibility': 5080, 'editorial': 5081, 'publishing': 5082, 'covers': 5083, 'genre': 5084, 'perspectives': 5085, 'photographers': 5086, 'freelance': 5087, 'writers': 5088, 'storming': 5089, 'decide': 5090, 'primarily': 5091, 'banyan': 5092, 'french': 5093, 'embassy': 5094, 'opening': 5095, 'settlement': 5096, 'v11': 5097, 'v12': 5098, 'foundations': 5099, 'customization': 5100, 'jabalpur': 5101, 'takshshila': 5102, 'wab': 5103, 'softwere': 5104, 'progressive': 5105, 'sultan': 5106, '625': 5107, 'diesel': 5108, 'provision': 5109, 'interlocking': 5110, 'vacuum': 5111, '5000': 5112, '2000a': 5113, 'wtp': 5114, 'blower': 5115, 'eot': 5116, 'crane': 5117, 'mono': 5118, 'rail': 5119, 'centrifugal': 5120, 'pumps': 5121, 'rolling': 5122, 'lath': 5123, 'ahu': 5124, 'chiller': 5125, 'charger': 5126, '450': 5127, '110v': 5128, 'resetting': 5129, 'factor': 5130, '55': 5131, 'submersible': 5132, 'auxiliary': 5133, 'effecting': 5134, 'uptime': 5135, '33': 5136, '22kv': 5137, 'feeder': 5138, '11kv': 5139, 'maint': 5140, 'aspect': 5141, 'familiar': 5142, 'lockout': 5143, 'permit': 5144, 'protective': 5145, 'ident': 5146, 'center8': 5147, 'intellij': 5148, '11geducation': 5149, 'avail': 5150, 'spending': 5151, 'ranges': 5152, 'analyes': 5153, 'regulators': 5154, 'analyses': 5155, 'retrieve': 5156, 'terabytes': 5157, 'trun': 5158, 'vistor': 5159, 'crawl': 5160, 'tabular': 5161, 'oracle11g': 5162, 'etrack': 5163, 'tsp': 5164, 'sadms': 5165, 'gfs': 5166, 'gdo': 5167, 'goes': 5168, 'slows': 5169, 'replace': 5170, 'extracts': 5171, 'upstream': 5172, 'epecs': 5173, 'cdss': 5174, 'rcm': 5175, 'prc': 5176, 'edh': 5177, 'dimensional': 5178, 'aggregators': 5179, 'sorters': 5180, 'dependencies': 5181, 'sk': 5182, 'mapplet': 5183, 'populate': 5184, 'worklets': 5185, 'utc': 5186, 'type1': 5187, 'type2': 5188, 'cdc': 5189, 'jijayi': 5190, 'heights': 5191, '118': 5192, 'narhe': 5193, 'chowki': 5194, '411041': 5195, 'dues': 5196, 'mortgage': 5197, 'gradation': 5198, 'resizing': 5199, 'renaming': 5200, 'datafiles': 5201, 'restoration': 5202, 'disks': 5203, 'silent': 5204, 'sync': 5205, 'oem': 5206, 'crontab': 5207, 'transactional': 5208, 'undo': 5209, 'rose': 5210, 'weka': 5211, 'hat': 5212, 'msbte': 5213, 'dnyanganaga': 5214, 'takali': 5215, 'kerberos': 5216, 'securing': 5217, 'dxc': 5218, 'hpe': 5219, 'emr': 5220, 'hdinsight': 5221, 'bent': 5222, 'mind': 5223, 'unlearn': 5224, 'relearn': 5225, 'surely': 5226, 'handy': 5227, '07education': 5228, 'artist': 5229, 'atd': 5230, 'bfa': 5231, 'mfa': 5232, 'rangoli': 5233, 'summer': 5234, 'disability': 5235, 'orthopedically': 5236, 'omplish': 5237, 'ethical': 5238, 'medi': 5239, 'caps': 5240, 'division': 5241, 'injecting': 5242, 'govern': 5243, 'increasing': 5244, 'sends': 5245, 'ingest': 5246, 'server2': 5247, 'serde': 5248, 'wm': 5249, 'tws': 5250, 'authentic': 5251, 'morgan': 5252, 'stanley': 5253, 'absa': 5254, 'wmdatalake': 5255, 'become': 5256, 'optimising': 5257, 'pso': 5258, 'microsft': 5259, 'excell': 5260, 'navy': 5261, 'nuclear': 5262, 'biological': 5263, 'chemical': 5264, '04': 5265, 'scheme': 5266, 'camp': 5267, 'sponsored': 5268, 'youth': 5269, 'affairs': 5270, '201': 5271, 'faithfully': 5272, 'pia': 5273, 'jetalal': 5274, 'hiralal': 5275, 'gorbanjara': 5276, 'political': 5277, 'sci': 5278, 'bahadarpur': 5279, 'tai': 5280, 'hindustan': 5281, 'much': 5282, 'forums': 5283, 'rent': 5284, 'haryana': 5285, 'sawitribai': 5286, 'ides': 5287, 'trimurti': 5288, 'realestate': 5289, 'vimay': 5290, '58': 5291, 'hudson': 5292, 'xcode': 5293, 'sierra': 5294, 'goregaon': 5295, 'vidyalankar': 5296, 'john': 5297, 'formatter': 5298, 'gmf': 5299, 'reads': 5300, 'encapsulation': 5301, 'tlv': 5302, 'validations': 5303, 'cosmoss': 5304, 'ejbs': 5305, 'facing': 5306, 'ec': 5307, 'hydrocarbon': 5308, 'cpu': 5309, 'dbca': 5310, 'ash': 5311, 'shrinking': 5312, 'netmgr': 5313, 'netca': 5314, 'redo': 5315, 'oops': 5316, '0education': 5317, 'vidyabharati': 5318, 'winsol': 5319, 'osmania': 5320, 'hand': 5321, '2021': 5322, 'entermediate': 5323, 'sunbeam': 5324, 'samne': 5325, 'ghat': 5326, 'varanasi': 5327, 'dan': 5328, 'represented': 5329, 'croatia': 5330, 'highly': 5331, 'completing': 5332, 'fluency': 5333, 'relationeducation': 5334, 'rivzi': 5335, 'allana': 5336, 'canossa': 5337, 'interdependencies': 5338, 'derivable': 5339, 'commversion': 5340, 'calm': 5341, 'spirit': 5342, 'cope': 5343, 'fluent': 5344, 'dep': 5345, 'prof': 5346, 'jawaleker': 5347, 'nangal': 5348, 'mandir': 5349, '74': 5350, 'osmoflo': 5351, 'overseas': 5352, 'australia': 5353, 'vivid': 5354, 'electromech': 5355, '20th': 5356, 'stabilizers': 5357, 'bust': 5358, 'stabilizer': 5359, 'authorised': 5360, 'ti': 5361, 'ador': 5362, 'welding': 5363, '17th': 5364, 'conversant': 5365, 'etap': 5366, 'csa': 5367, 'iecex': 5368, 'dfmea': 5369, 'bid': 5370, 'sat': 5371, 'yibal': 5372, 'oman': 5373, '6thmay': 5374, 'cfbc': 5375, 'turbine': 5376, 'routine': 5377, '132kv': 5378, 'ac': 5379, 'yard': 5380, 'cadd': 5381, 'jm': 5382, 'november': 5383, 'pipe': 5384, 'bizagi': 5385, 'indigo': 5386, 'waterfall': 5387, 'thadomal': 5388, 'shahani': 5389, 'bbh': 5390, 'brown': 5391, 'brothers': 5392, 'harriman': 5393, 'merger': 5394, 'advisory': 5395, 'custody': 5396, 'financing': 5397, 'describes': 5398, 'aht': 5399, 'calculated': 5400, 'calculating': 5401, 'complexity': 5402, 'considered': 5403, 'licenses': 5404, 'converted': 5405, 'constructing': 5406, 'toward': 5407, 'eptable': 5408, 'fadv': 5409, 'delivers': 5410, 'screenings': 5411, 'flagging': 5412, 'aging': 5413, 'ar': 5414, 'rebill': 5415, 'formal': 5416, 'approvers': 5417, 'translating': 5418, 'collaborating': 5419, 'fulfill': 5420, 'initiation': 5421, 'expected': 5422, 'pat': 5423, 'representations': 5424, 'baseline': 5425, 'eduavenir': 5426, 'procured': 5427, 'sold': 5428, 'returned': 5429, 'invoicesalong': 5430, 'withcustomized': 5431, 'managescustomer': 5432, 'complaint': 5433, 'forecastingis': 5434, 'pod': 5435, 'stay': 5436, 'conjunction': 5437, 'designers': 5438, 'nuances': 5439, 'finally': 5440, 'movement': 5441, 'golive': 5442, 'requires': 5443, 'eliciting': 5444, 'dependency': 5445, 'humana': 5446, 'supplying': 5447, 'citizens': 5448, 'citizen': 5449, 'drug': 5450, 'choose': 5451, 'slipstream': 5452, 'grant': 5453, 'archive': 5454, 'smsql': 5455, 'deletion': 5456, 'entries': 5457, 'tybcom': 5458, 'motilal': 5459, 'oswal': 5460, 'cag': 5461, 'derivative': 5462, 'macro': 5463, 'bd': 5464, 'investors': 5465, 'fss': 5466, 'depa': 5467, 'ment': 5468, 'custodians': 5469, 'percentage': 5470, 'angel': 5471, 'broking': 5472, 'manger': 5473, 'repots': 5474, 'remark': 5475, 'ghs': 5476, 'bhuli': 5477, 'enigma': 5478, 'infiniteworx': 5479, 'omnichannel': 5480, 'diagnose': 5481, 'revoking': 5482, 'jhulelal': 5483, 'dayanand': 5484, 'kanya': 5485, 'december': 5486, 'medicinal': 5487, 'ailments': 5488, 'surgical': 5489, 'wholesalers': 5490, 'ordering': 5491, 'debtor': 5492, 'freelancers': 5493, 'oldest': 5494, 'fulfil': 5495, 'citrix': 5496, 'v9': 5497, 'artifact': 5498, 'vlsi': 5499, '75': 5500, 'frds': 5501, 'walkthrough': 5502, 'assess': 5503, 'importers': 5504, 'exporters': 5505, 'scoring': 5506, 'assessed': 5507, 'certain': 5508, 'brds': 5509, 'fsds': 5510, 'bureau': 5511, 'discontinued': 5512, 'schenker': 5513, 'impart': 5514, 'mwb': 5515, 'legs': 5516, 'leg': 5517, 'exceleducation': 5518, 'manoharbhai': 5519, 'patel': 5520, 'resrent': 5521, 'portfolios': 5522, 'hit': 5523, 'interfaces': 5524, 'ucs': 5525, 'debug': 5526, 'effect': 5527, 'multifunctional': 5528, 'programmers': 5529, 'oxygen': 5530, 'sonarqube': 5531, 'responsibilitis': 5532, 'adavance': 5533, 'multicultural': 5534, 'continued': 5535, 'infrasoft': 5536, 'detector': 5537, 'deduplication': 5538, 'pointers': 5539, 'oot': 5540, 'pps': 5541, 'ias': 5542, 'cipher': 5543, 'dated': 5544, 'looking': 5545, 'premier': 5546, 'biopharmaceutical': 5547, 'produces': 5548, 'va': 5549, 'ines': 5550, 'immunology': 5551, 'oncology': 5552, 'cardiology': 5553, 'endocrinology': 5554, 'neurology': 5555, 'pathways': 5556, 'journey': 5557, 'rare': 5558, 'cdh3': 5559, 'tb': 5560, 'nfs': 5561, 'nn': 5562, 'sparkapi': 5563, 'imported': 5564, 'bucketing': 5565, 'sparkcontext': 5566, 'orc': 5567, 'parquet': 5568, 'serialization': 5569, 'snappy': 5570, 'compression': 5571, 'showing': 5572, 'articulate': 5573, 'cca': 5574, '175': 5575, 'tectia': 5576, 'notebool': 5577, 'unixeducation': 5578, 'dbs': 5579, 'srm': 5580, 'technosoft': 5581, 'citibank': 5582, 'aml': 5583, 'tm': 5584, 'icg': 5585, 'responesbilities': 5586, 'layered': 5587, 'workspace': 5588, 'suspicious': 5589, 'fraudulent': 5590, 'ran': 5591, 'horton': 5592, 'hdp2': 5593, 'alcatel': 5594, 'lucent': 5595, '1x': 5596, 'ruckus': 5597, 'wireless': 5598, 'mediation': 5599, 'oms': 5600, 'rf': 5601, 'boost': 5602, 'framwe': 5603, '56': 5604, 'vm': 5605, 'remove': 5606, 'mphasis': 5607, 'ag': 5608, 'mirror': 5609, 'mastek': 5610, 'guwahati': 5611, 'gauhati': 5612, 'mill': 5613, 'ware': 5614, 'becomes': 5615, 'zookeeper': 5616, 'latin': 5617, 'principles': 5618, 'affect': 5619, 'tpt': 5620, 'partitions': 5621, 'launching': 5622, 'websphere': 5623, 'v8': 5624, 'discover': 5625, 'hiveql': 5626, 'partitioning': 5627, 'de': 5628, 'normalized': 5629, 'avro': 5630, 'standardizations': 5631, 'orchestrate': 5632, 'jdk': 5633, 'psu': 5634, 'lagging': 5635, 'archives': 5636, 'migrations': 5637, 'brose': 5638, 'oim': 5639, 'oam': 5640, 'ohs': 5641, '99': 5642, 'passive': 5643, 'contributed': 5644, 'conflict': 5645, 'spent': 5646, 'joint': 5647, 'weekend': 5648, 'mansa': 5649, '11gr2': 5650, 'marketplace': 5651, 'emc': 5652, 'assignments': 5653, 'fino': 5654, 'cometchat': 5655, 'certainly': 5656, 'polite': 5657, 'careful': 5658, 'considerate': 5659, 'thrive': 5660, 'enthusiasm': 5661, 'creativity': 5662, 'uncover': 5663, 'tenacious': 5664, 'akbar': 5665, 'peerbhoy': 5666, 'comm': 5667, 'janta': 5668, 'karvy': 5669, 'innotech': 5670, 'diagnostics': 5671, 'wi': 5672, 'administer': 5673, 'url': 5674, 'appliances': 5675, 'isps': 5676, 'sify': 5677, 'tikona': 5678, 'ho': 5679, 'crimping': 5680, 'mounting': 5681, 'ciso': 5682, 'netscreen': 5683, 'fwsm': 5684, 'familiarity': 5685, 'zenoss': 5686, 'solarwinds': 5687, '1800': 5688, '1900': 5689, '2500': 5690, '2600': 5691, '2800': 5692, 'nexus': 5693, '5k': 5694, '7k': 5695, '3750': 5696, 'bluecoat': 5697, 'sinhgad': 5698, 'boys': 5699, 'loadbalncing': 5700, 'undergo': 5701, 'caab': 5702, 'downgrade': 5703, 'decommission': 5704, 'l3vpn': 5705, 'mediums': 5706, 'ipv4': 5707, 'reconnaissance': 5708, 'ccnp': 5709, 'spanning': 5710, 'queuing': 5711, 'penultimate': 5712, 'ntp': 5713, 'netflow': 5714, 'fundamental': 5715, 'limit': 5716, 'damages': 5717, 'heating': 5718, 'watering': 5719, 'enginner': 5720, 'access': 5721, 'dm': 5722, 'failovers': 5723, 'stormfur': 5724, 'stromfur': 5725, 'interview': 5726, 'assam': 5727, 'vb6': 5728, 'numerous': 5729, 'malaysia': 5730, 'conversion': 5731, '1992': 5732, 'micheal': 5733, 'level3': 5734, 'flora': 5735, 'heart': 5736, 'saver': 5737, 'reps': 5738, 'commensurate': 5739, 'intervlan': 5740, 'ripv2': 5741, 'ripng': 5742, 'acl': 5743, 'vtp': 5744, 'ehterchannel': 5745, 'hsrp': 5746, 'ipv6': 5747, '1800s': 5748, '1900s': 5749, '2600s': 5750, '3600s': 5751, '3800s': 5752, '7200s': 5753, '3700s': 5754, '4850s': 5755, 'proliant': 5756, 'lenovo': 5757, 'modem': 5758, 'rodc': 5759, 'wds': 5760, 'ris': 5761, 'virtualisation': 5762, 'esxi': 5763, 'workstation': 5764, 'virtualbox': 5765, 'gns3': 5766, 'simulator': 5767, 'aisect': 5768, 'jiwaji': 5769, 'railwire': 5770, 'railtel': 5771, 'trenching': 5772, 'handing': 5773, 'bali': 5774, 'pali': 5775, 'dpmcu': 5776, 'milknet': 5777, 'ems': 5778, 'qms': 5779, 'scindia': 5780, 'fort': 5781, 'gwalior': 5782, 'teva': 5783, 'bhind': 5784, 'endpoint': 5785, 'unicenter': 5786, 'outlook': 5787, 'token': 5788, 'desktops': 5789, 'laptops': 5790, 'differential': 5791, 'corrupted': 5792, 'deleted': 5793, 'identally': 5794, 'nava': 5795, 'helpdesk': 5796, 'erp9': 5797, 'seamless': 5798, 'schools': 5799, 'mcm': 5800, 'physiology': 5801, 'fl': 5802, 'florida': 5803, 'microbiology': 5804, 'abasaheb': 5805, 'garware': 5806, 'cardiovascular': 5807, 'cycling': 5808, 'ommodating': 5809, 'age': 5810, 'ompanying': 5811, 'metabolic': 5812, 'hypertension': 5813, 'obesity': 5814, 'debt': 5815, 'smt': 5816, 'vhd': 5817, 'homescience': 5818, 'sas': 5819, 'subscribers': 5820, 'healthier': 5821, 'karma': 5822, 'innovations': 5823, 'jointly': 5824, 'campaign': 5825, 'glaxosmithkline': 5826, 'camps': 5827, 'practicing': 5828, 'gynaecologists': 5829, 'allotted': 5830, 'conveying': 5831, 'importance': 5832, 'nutrient': 5833, 'contain': 5834, 'nutrients': 5835, 'checkups': 5836, '800': 5837, 'cities': 5838, '3000': 5839, 'leaders': 5840, 'looks': 5841, 'medicals': 5842, 'whose': 5843, 'regulation': 5844, 'irda': 5845, 'mnyl': 5846, 'iinsurance': 5847, 'baxa': 5848, 'metlife': 5849, 'canara': 5850, 'deferrals': 5851, 'professionalism': 5852, 'vlcc': 5853, 'instructions': 5854, 'eating': 5855, 'distributors': 5856, 'slimming': 5857, 'ultimate': 5858, 'tripod': 5859, 'arena': 5860, 'considering': 5861, 'recruiting': 5862, 'rotas': 5863, 'retaining': 5864, 'emergencies': 5865, 'often': 5866, 'cashing': 5867, 'supplements': 5868, 'exciting': 5869, 'grouper': 5870, 'projections': 5871, 'legislation': 5872, 'endurance': 5873, 'ebs': 5874, 'comparative': 5875, 'diplomatically': 5876, 'seema': 5877, 'ansalon': 5878, 'massage': 5879, 'scalp': 5880, 'swedish': 5881, 'reflexology': 5882, 'aromatherapy': 5883, 'aerobics': 5884, 'radio': 5885, 'bhavan': 5886, 'slender': 5887, 'raymond': 5888, 'aroma': 5889, 'rudraaksh': 5890, 'plaza': 5891, 'windsor': 5892, 'holiday': 5893, 'inn': 5894, 'juhu': 5895, 'aromathai': 5896, 'khana': 5897, 'imitation': 5898, 'jewellery': 5899, 'beverage': 5900, 'filling': 5901, 'acquisition': 5902, 'adapt': 5903, 'enjoy': 5904, 'comprising': 5905, 'continuity': 5906, '9yrs': 5907, 'contribute': 5908, 'lectureship': 5909, 'served': 5910, 'sufficiently': 5911, 'busy': 5912, 'startups': 5913, 'clubs': 5914, 'articles': 5915, 'volunteering': 5916, 'asking': 5917, 'representatives': 5918, 'indicators': 5919, 'splat': 5920, 'csm': 5921, 'panorama': 5922, 'balancer': 5923, 'rsaenvision': 5924, 'bmc': 5925, 'scriptingeducation': 5926, '89': 5927, '5500': 5928, 'pools': 5929, 'offloading': 5930, 'renewals': 5931, 'pulse': 5932, 'realm': 5933, 'hld': 5934, 'lld': 5935, 'resiliency': 5936, 'lockdown': 5937, 'r75': 5938, 'r77': 5939, 'belongs': 5940, '29xx': 5941, '28xx': 5942, '19xx': 5943, '3560': 5944, 'dealt': 5945, 'moitoring': 5946, 'envision': 5947, 'siem': 5948, 'false': 5949, 'positives': 5950, 'malicious': 5951, 'qualis': 5952, 'correlation': 5953, 'parsers': 5954, 'uds': 5955, 'unsupported': 5956, 'consisting': 5957, '3845': 5958, '3750e': 5959, 'chassis': 5960, '5550': 5961, 'sa': 5962, '6500': 5963, 'entrust': 5964, '2fa': 5965, 'acn': 5966, 'mgt': 5967, 'stadio': 5968, 'thergaon': 5969, 'entityframewok': 5970, 'corecode': 5971, 'inetsoft': 5972, 'panvel': 5973, 'ryan': 5974, 'bp': 5975, 'bottlenecks': 5976, 'sepsoft': 5977, '24th': 5978, 'tubro': 5979, 'inplant': 5980, 'ashoka': 5981, 'decor': 5982, 'girija': 5983, 'devolopers': 5984, 'outfit': 5985, 'photographs': 5986, 'maps': 5987, 'continual': 5988, 'practicality': 5989, 'adjust': 5990, 'budgetary': 5991, 'cohesion': 5992, 'fluidity': 5993, 'inspect': 5994, 'sonia': 5995, 'renovation': 5996, 'malls': 5997, 'compiling': 5998, 'tendering': 5999, 'complies': 6000, 'sustainability': 6001, 'grandeurs': 6002, 'realetors': 6003, 'materails': 6004, 'labours': 6005, 'regulated': 6006, 'subcontractor': 6007, 'equipement': 6008, 'cheack': 6009, 'progrees': 6010, 'devolopment': 6011, 'adviser': 6012, 'craftspeople': 6013, 'operatives': 6014, 'planners': 6015, 'surveyors': 6016, 'intra': 6017, 'monorail': 6018, 'ghatkesar': 6019, 'aurora': 6020, 'scientific': 6021, 'warangal': 6022, 'saiba': 6023, 'softwareeducation': 6024, 'bharathiar': 6025, 'pa': 6026, 'insured': 6027, 'spinning': 6028, 'mills': 6029, 'staffs': 6030, 'labors': 6031, 'automobile': 6032, 'collision': 6033, 'avoidance': 6034, 'blackbox': 6035, 'imcost': 6036, 'menon': 6037, 'springer': 6038, 'smartforms': 6039, 'lenm': 6040, 'netherland': 6041, 'dsp': 6042, 'dsm': 6043, 'sinochem': 6044, 'paints': 6045, 'coatings': 6046, 'producer': 6047, 'typewriting': 6048, 'tora': 6049, 'spsseducation': 6050, 'chidambaram': 6051, 'sav': 6052, 'sslc': 6053, 'kamaraj': 6054, 'matriculation': 6055, 'pivot': 6056, 'applicationseducation': 6057, 'queen': 6058, 'margaret': 6059, 'edinburg': 6060, 'atri': 6061, 'checklists': 6062, 'leaves': 6063, 'salaries': 6064, 'esic': 6065, 'deduction': 6066, '24q': 6067, 'topics': 6068, 'shops': 6069, 'establishments': 6070, '1972': 6071, 'naukri': 6072, 'preliminary': 6073, 'orientation': 6074, 'facilitation': 6075, 'pms': 6076, 'disbursement': 6077, 'kra': 6078, 'welfare': 6079, 'celebration': 6080, 'diwali': 6081, 'dhamaka': 6082, 'offsite': 6083, 'md': 6084, 'offering': 6085, 'reimbursement': 6086, 'resigned': 6087, 'angular1': 6088, 'typescript': 6089, 'kakinada': 6090, 'knockout': 6091, 'consuming': 6092, 'alternative': 6093, 'cooperation': 6094, 'tiebar': 6095, 'destination': 6096, 'luxury': 6097, 'menswear': 6098, 'premium': 6099, 'dress': 6100, 'shirts': 6101, 'bow': 6102, 'second': 6103, 'spots': 6104, 'tourists': 6105, 'tourist': 6106, 'hamsa': 6107, 'hitech': 6108, 'switzerland': 6109, 'norway': 6110, 'relation': 6111, 'appointment': 6112, 'dibrugarh': 6113, 'ssis': 6114, 'dairy': 6115, 's4hana': 6116, 'edi': 6117, 'extensibility': 6118, 'varies': 6119, 'prince2': 6120, 'practitioner': 6121, 'implementations': 6122, 'america': 6123, 'fricew': 6124, 'ps': 6125, 'qm': 6126, 'solman': 6127, 'gts': 6128, 'vistex': 6129, 'proship': 6130, 'managenow': 6131, 'loftware': 6132, 'pocs': 6133, 'roll': 6134, 'ecc6': 6135, 'unicode': 6136, 'complicated': 6137, 'estimations': 6138, 'valid': 6139, '2006education': 6140, 'oxford': 6141, 'banglore': 6142, 'nabinagar': 6143, 'bihar': 6144, 'ntpc': 6145, 'brbcl': 6146, 'stc': 6147, 'qatif': 6148, '2065864': 6149, 'arif': 6150, 'kinfolk': 6151, 'king': 6152, 'fahad': 6153, 'airport': 6154, 'dar': 6155, 'hadassah': 6156, 'dpf': 6157, 'eleven': 6158, 'arabian': 6159, 'army': 6160, 'ommodation': 6161, 'arabia': 6162, 'foremen': 6163, 'subsequently': 6164, 'rfi': 6165, 'realizing': 6166, 'ducting': 6167, 'chilled': 6168, 'fittings': 6169, 'insulation': 6170, 'padke': 6171, 'pba': 6172, 'tipu': 6173, 'santnamdev': 6174, 'jammu': 6175, 'takeoff': 6176, 'plumbing': 6177, 'paintha': 6178, 'chock': 6179, 'paripora': 6180, 'nagar': 6181, 'grasp': 6182, 'truba': 6183, 'rkdf': 6184, 'sati': 6185, 'thesis': 6186, 'bmch': 6187, 'ganj': 6188, 'basoda': 6189, 'rnt': 6190, 'recurrent': 6191, 'matplotliv': 6192, 'tf': 6193, 'idf': 6194, 'lsa': 6195, 'soup': 6196, 'ado': 6197, 'mozilla': 6198, 'firefox10': 6199, 'biography': 6200, 'gallery': 6201, 'contactus': 6202, 'hms': 6203, 'conceivable': 6204, 'importantly': 6205, 'backed': 6206, 'dependable': 6207, 'multispecialty': 6208, 'cover': 6209, 'bess': 6210, 'sms': 6211, 'exams': 6212, 'calendar': 6213, 'parents': 6214, 'paperless': 6215, 'today': 6216, 'uhs': 6217, 'cmus': 6218, 'overdrafts': 6219, 'sblc': 6220, 'fg': 6221, 'cheques': 6222, 'nbf': 6223, 'cb': 6224, 'davv': 6225, 'cognizant': 6226, 'q': 6227, 'aeronautics': 6228, 'satish': 6229, 'hangar': 6230, 'mirage': 6231, 'fighter': 6232, 'aircraft': 6233, 'labview': 6234, 'webframework': 6235, 'ltspice': 6236, 'mipower': 6237, 'gitbash': 6238, 'notebook': 6239, 'interpreters': 6240, 'python2': 6241, 'pycharm': 6242, 'debian': 6243, 'kali': 6244, 'deeksha': 6245, 'little': 6246, 'flower': 6247, 'mathematics': 6248, 'themathcompany': 6249, 'casino': 6250, 'operator': 6251, 'disclosed': 6252, 'macau': 6253, 'segment': 6254, 'patrons': 6255, 'prove': 6256, 'henceforth': 6257, 'jboss': 6258, 'ireport': 6259, 'llm': 6260, 'operative': 6261, 'deed': 6262, 'representation': 6263, 'disputes': 6264, 'ambedkar': 6265, 'bba': 6266, 'lovely': 6267, 'udt': 6268, 'sqleducation': 6269, 'suisse': 6270, 'swiss': 6271, 'pruning': 6272, 'tct': 6273, 'xi': 6274, 'sp6': 6275, 'tab': 6276, 'avoid': 6277, 'catalogue': 6278, 'warner': 6279, 'bros': 6280, 'marvin': 6281, 'pictures': 6282, 'hpsm': 6283, 'dvd': 6284, 'comic': 6285, 'pointing': 6286, 'messages': 6287, 'seek': 6288, 'investigation': 6289, 'tracks': 6290, 'criteria': 6291, 'precise': 6292, 'blocks': 6293, 'formatting': 6294, 'mat': 6295, 'ymcaust': 6296, 'faridabad': 6297, 'itechpower': 6298, 'wheeler': 6299, 'mlrit': 6300, 'bcom': 6301, 'srimedhav': 6302, 'nani': 6303, 'valuelabs': 6304, 'rrf': 6305, 'dlt': 6306, 'candidate': 6307, '2d': 6308, '3deducation': 6309, 'talreja': 6310, 'hoping': 6311, 'thanks': 6312, 'apeksha': 6313, 'naharkar': 6314, 'reservoir': 6315, 'characterization': 6316, 'drilling': 6317, 'dry': 6318, 'runs': 6319, 'currency': 6320, 'conversions': 6321, 'ecuador': 6322, 'hpalm': 6323, 'charm': 6324, 'solmon': 6325, 'aero': 6326, 'slt': 6327, 'landscape': 6328, 'solved': 6329, 'exiting': 6330, 'july2013to': 6331, 'june2014': 6332, 'folder': 6333, 'ecc': 6334, 'logon': 6335, 'formulating': 6336, 'phioenix': 6337, 'microsystem': 6338, 'enter': 6339, 'week': 6340, 'retailer': 6341, 'registered': 6342, 'ddsm': 6343, 'zz': 6344, 'personalization': 6345, 'interpretation': 6346, 'forecasts': 6347, 'pgp': 6348, 'teaching': 6349, 'appointments': 6350, 'teach': 6351, 'undergraduate': 6352, 'adjunct': 6353, 'furnish': 6354, 'lex': 6355, 'offered': 6356, 'scrap': 6357, 'messaging': 6358, 'qliksense': 6359, 'recognize': 6360, 'recognizing': 6361, 'compared': 6362, 'somewhere': 6363, 'else': 6364, 'hiding': 6365, 'prevent': 6366, 'frauds': 6367, 'pretend': 6368, 'twitter': 6369, 'expressed': 6370, 'opinion': 6371, 'emotions': 6372, 'quantifiable': 6373, 'mentored': 6374, 'gone': 6375, 'papers': 6376, 'congress': 6377, 'let': 6378, 'blumix': 6379, 'watson': 6380, 'iabac': 6381, 'versatile': 6382, 'advocator': 6383, 'augmented': 6384, 'fahed': 6385, 'mohali': 6386, 'indo': 6387, 'querying': 6388, 'cleaning': 6389, 'heretic': 6390, 'cleansing': 6391, 'conclusions': 6392, 'barc': 6393, 'motion': 6394, 'daigram': 6395, 'graduation': 6396, 'ifix': 6397, 'without': 6398, 'highlight': 6399, 'drills': 6400, 'baramati': 6401, 'highschool': 6402, 'singhad': 6403, 'vasundhara': 6404, 'nirmiti': 6405, 'balaji': 6406, 'ganesh': 6407, 'specialization': 6408, 'behaviour': 6409, 'calicut': 6410, 'thrissur': 6411, 'prajyoti': 6412, 'foster': 6413, 'breads': 6414, 'kinfra': 6415, 'santhwana': 6416, 'psychotherapy': 6417, 'cochin': 6418, 'counsellor': 6419, 'spearheading': 6420, 'utilise': 6421, 'convert': 6422, 'contacts': 6423, 'later': 6424, 'worker': 6425, '017': 6426, 'pdf': 6427, 'detailexperiences': 6428, 'alia': 6429, 'yashwant': 6430, 'orichids': 6431, '400097': 6432, 'indiaeducation': 6433, 'marol': 6434, 'depot': 6435, '400093': 6436, 'nova': 6437, '301': 6438, 'maha': 6439, 'muweilah': 6440, 'alfalah': 6441, 'excavation': 6442, 'waterproofing': 6443, 'rcc': 6444, 'shuttering': 6445, 'masonry': 6446, 'brick': 6447, 'tile': 6448, 'minor': 6449, 'slabs': 6450, 'requisition': 6451, 'ground': 6452, 'verify': 6453, 'sincerity': 6454, 'capability': 6455, '5m': 6456, 'minutes': 6457, 'thank': 6458, 'viewing': 6459, 'kherwadi': 6460, '400051': 6461, 'radha': 6462, 'dadar': 6463, 'hindu': 6464, 'colony': 6465, '400014': 6466, 'lodha': 6467, 'eternis': 6468, 'estado': 6469, 'jagiroad': 6470, 'tribunals': 6471, 'bodies': 6472, 'forum': 6473, 'judge': 6474, 'nagaon': 6475, 'trees': 6476, 'boosting': 6477, 'pca': 6478, 'nets': 6479, 'elasticsearch': 6480, 'plotly': 6481, 'ggplot': 6482, 'logstash': 6483, 'kafka': 6484, 'dispute': 6485, 'elerating': 6486, 'discovery': 6487, 'implements': 6488, 'resulting': 6489, 'lawyers': 6490, 'outputs': 6491, 'precision': 6492, 'ey': 6493, 'flags': 6494, 'tfidf': 6495, 'word2vec': 6496, 'doc2vec': 6497, 'vader': 6498, 'blob': 6499, 'matplot': 6500, 'lib': 6501, 'plotted': 6502, 'reservation': 6503, 'serves': 6504, 'recommendation': 6505, 'asks': 6506, 'spacy': 6507, 'synthesizes': 6508, 'facilitates': 6509, 'positioned': 6510, 'counter': 6511, 'parse': 6512, 'rot': 6513, 'outdated': 6514, 'trivial': 6515, 'pii': 6516, 'identifiable': 6517, 'addresses': 6518, 'frequently': 6519, 'cyber': 6520, 'flag': 6521, 'fap': 6522, 'interrogate': 6523, 'anomalies': 6524, 'anna': 6525, 'jacobs': 6526, '150': 6527, 'medicine': 6528, 'etp': 6529, 'drain': 6530, 'shall': 6531, 'vise': 6532, 'itr': 6533, 'checklist': 6534, 'issued': 6535, 'punch': 6536, 'dossiers': 6537, 'progression': 6538, 'chawla': 6539, 'architectural': 6540, '2b': 6541, 'roof': 6542, 'upcoming': 6543, 'entered': 6544, 'guinness': 6545, 'gac': 6546, 'arm': 6547, 'dollar': 6548, 'rp': 6549, 'pour': 6550, '793': 6551, 'cu': 6552, 'dh600': 6553, '163': 6554, 'rise': 6555, 'barsha': 6556, 'western': 6557, 'amendments': 6558, 'recall': 6559, 'hold': 6560, 'uncorrected': 6561, 'cancel': 6562, 'upon': 6563, 'noted': 6564, 'deficiencies': 6565, 'ncr': 6566, 'deviated': 6567, 'normal': 6568, 'retention': 6569, 'prm': 6570, 'toyo': 6571, 'liquefied': 6572, 'biggest': 6573, 'hike': 6574, 'metric': 6575, 'heater': 6576, 'room': 6577, 'comply': 6578, 'cary': 6579, 'follows': 6580, 'turned': 6581, 'flats': 6582, 'regard': 6583, 'ppe': 6584, 'safely': 6585, 'undertake': 6586, 'lean': 6587, 'ratnagiri': 6588, 'vba': 6589, 'authorizations': 6590, 'su53': 6591, 'grc': 6592, 'adaptable': 6593, 'keys': 6594, 'uit': 6595, 'statsmodels': 6596, 'ml': 6597, 'dummies': 6598, 'enthusiasts': 6599, 'koramangala': 6600, '5th': 6601, 'behind': 6602, 'sukh': 6603, 'sagar': 6604, 'encoding': 6605, 'linkedin': 6606, 'rathore': 6607, 'b4600b146': 6608, 'reasearch': 6609, 'arima': 6610, 'sarimax': 6611, 'holt': 6612, 'winter': 6613, 'prophet': 6614, 'rathorology': 6615, 'mixed': 6616, 'injury': 6617, 'death': 6618, 'former': 6619, 'lumira': 6620, 'pgdm': 6621, 'great': 6622, 'lakes': 6623, 'illinois': 6624, 'horizon': 6625, 'visvesvaraya': 6626, 'historic': 6627, 'geographies': 6628, 'infer': 6629, 'blockades': 6630, 'handwriting': 6631, 'handwritten': 6632, 'enough': 6633, 'argus': 6634, 'lot': 6635, 'consumption': 6636, 'flowers': 6637, 'cbp': 6638, 'segmented': 6639, 'categorize': 6640, 'buckets': 6641, 'anaconda3': 6642, 'classify': 6643, 'enabled': 6644, 'ipa': 6645, 'spearheaded': 6646, 'reuse': 6647, 'took': 6648, 'ownership': 6649, 'elerator': 6650, 'atas': 6651, 'apart': 6652, 'clarified': 6653, 'normalization': 6654, 'chd': 6655, '09876971076': 6656, 'vversatile': 6657, 'targeting': 6658, 'netbeans': 6659, 'notebooks': 6660, 'ug': 6661, 'schooling': 6662, 'xii': 6663, 'moti': 6664, 'ram': 6665, 'valley': 6666, 'experince': 6667, 'suffering': 6668, 'third': 6669, 'prize': 6670, 'ifications': 6671, 'coursera': 6672, 'tirlok': 6673, 'yyyy': 6674, 'dd': 6675, 'langages': 6676, 'posse': 6677, 'adichunchanagiri': 6678, 'chikmagalur': 6679, 'truly': 6680, 'jayashree': 6681, 'inscripts': 6682, 'contains': 6683, 'workload': 6684, 'allocate': 6685, 'optimazation': 6686, 'ada': 6687, 'annet': 6688, 'birla': 6689, 'northbound': 6690, 'eclerx': 6691, 'wwf': 6692, '8i': 6693, 'info': 6694, 'solid': 6695, 'technologists': 6696, 'edvancer': 6697, 'eduventures': 6698, 'sensitive': 6699, 'improved': 6700, 'courage': 6701, 'sadvidya': 6702, 'massachusetts': 6703, 'elicitation': 6704, 'diligently': 6705, 'checkouts': 6706, '101': 6707, 'rh': 6708, 'quotas': 6709, 'rollback': 6710, 'extents': 6711, 'constructive': 6712, 'practically': 6713, 'elya': 6714, 'kale': 6715, 'patches': 6716, 'demands': 6717, 'cronjobs': 6718, 'raising': 6719, 'links': 6720, 'directories': 6721, 'scp': 6722, 'rebuilding': 6723, 'stats': 6724, 'deleting': 6725, 'diskgroups': 6726, 'insolutions': 6727, 'switchover': 6728, 'allocating': 6729, 'enrolling': 6730, 'snap': 6731, 'validity': 6732, 'resize': 6733, 'temp': 6734, 'extending': 6735, '98': 6736, 'loader': 6737, 'authorized': 6738, 'hydrocarbons': 6739, 'exceeding': 6740, 'majors': 6741, '18c': 6742, 'link': 6743, 'reclaim': 6744, 'statically': 6745, 'elb': 6746, 'vpc': 6747, 'route53': 6748, 'iam': 6749, 'alm': 6750, 'ase': 6751, 'winds': 6752, 'dpa': 6753, 'dbartisan': 6754, '3t': 6755, 'pdacoe': 6756, 'autonomous': 6757, 'uploading': 6758, 'rdls': 6759, 'orphaned': 6760, 'purge': 6761, 'shipped': 6762, 'intervention': 6763, 'escalate': 6764, 'next': 6765, 'clones': 6766, 'hewlett': 6767, 'packard': 6768, 'softenger': 6769, 'unused': 6770, 'orphan': 6771, 'rebuild': 6772, 'reorganize': 6773, 'deadlocks': 6774, 'costly': 6775, 'deadlock': 6776, 'alwayson': 6777, 'restart': 6778, 'tns': 6779, 'itskills': 6780, 'mcs': 6781, 'periodically': 6782, 'criticality': 6783, 'impo': 6784, 'expo': 6785, 'degine': 6786, 'configuraing': 6787, 'administered': 6788, 'quota': 6789, 'default': 6790, 'cumulative': 6791, 'intervals': 6792, 'ddl': 6793, 'dml': 6794, 'appraising': 6795, 'backround': 6796, 'innovativetechnologies': 6797, 'litespeed': 6798, 'idera': 6799, 'infopa': 6800, 'tivoli': 6801, 'tdp': 6802, 'databasesms': 6803, '110': 6804, 'availabiity': 6805, 'sip': 6806, 'dbas': 6807, 'trainees': 6808, 'pci': 6809, 'vulnerability': 6810, 'holmes': 6811, 'ls': 6812, 'failback': 6813, 'deeply': 6814, 'pursued': 6815, 'pe8': 6816, 'ee11': 6817, 'occ': 6818, 'sqlplus': 6819, 'vsphere': 6820, 'windowseducation': 6821, '130': 6822, 'eagle': 6823, 'path': 6824, 'persists': 6825, 'rfs': 6826, 'mrp': 6827, 'centralize': 6828, 'refreshing': 6829, 'outage': 6830, 'rotational': 6831, 'shifts': 6832, 'refreshes': 6833, 'migrate': 6834, 'yogesh': 6835, 'tikhat': 6836, 'raj': 6837, 'ahmad': 6838, 'g2': 6839, '702': 6840, 'dreams': 6841, 'aakruti': 6842, 'kalepadal': 6843, 'hadapsar': 6844, '411028': 6845, 'aofpt5052c': 6846, 'devopseducation': 6847, '108': 6848, 'quite': 6849, 'extended': 6850, 'maximized': 6851, 'p1': 6852, 'p2': 6853, 'produced': 6854, 'fw': 6855, 'openings': 6856, 'loadbalancer': 6857, 'smtp': 6858, 'ocm': 6859, 'protected': 6860, 'sod': 6861, 'rcu': 6862, 'expanded': 6863, 'france': 6864, 'compressions': 6865, 'imp': 6866, 'duplication': 6867, 'commission': 6868, 'forward': 6869, 'lite': 6870, 'invest': 6871, 'employs': 6872, 'approximately': 6873, 'organised': 6874, 'barclaycard': 6875, 'troubleshoooting': 6876, 'locking': 6877, 'kakatiya': 6878, 'maintenances': 6879, 'upgradation': 6880, 'ord': 6881, 'fintech': 6882, 'sanpada': 6883, 'attach': 6884, 'detach': 6885, 'dbcc': 6886, 'dmv': 6887, 'analyzer': 6888, 'dts': 6889, 'rebuilds': 6890, 'reorganizes': 6891, 'redolog': 6892, 'duplicate': 6893, 'flashback': 6894, 'oracle11gr2': 6895, 'crsctl': 6896, 'srvctl': 6897, 'upgraded': 6898, 'capable': 6899, 'dy': 6900, '61': 6901, 'eboss': 6902, 'datafeed': 6903, 'mfdb': 6904, 'indiainx': 6905, 'fastest': 6906, 'seconds': 6907, 'transparent': 6908, 'equity': 6909, 'currencies': 6910, 'derivatives': 6911, '250': 6912, 'continues': 6913, 'pace': 6914, 'pacemaker': 6915, 'blockings': 6916, 'gssapi': 6917, 'connections': 6918, 'fdw': 6919, 'extensions': 6920, 'pitr': 6921, 'rollouts': 6922, 'aag': 6923, 'raid': 6924, 'comprise': 6925, 'knoxed': 6926, 'iseries': 6927, 'clacutta': 6928, 'burdwan': 6929, 'taxation': 6930, 'plaint': 6931, 'hear': 6932, 'xslt': 6933, 'connector': 6934, 'biztalk': 6935, '147': 6936, 'opex': 6937, 'ipad': 6938, 'administering': 6939, 'genentech': 6940, 'biogen': 6941, 'astellas': 6942, 'pharma': 6943, 'polaris': 6944, 'hibernet': 6945, 'prasanna': 6946, 'vc': 6947, 'grapheducation': 6948, 'goregoan': 6949, 'proteus': 6950, 'installations': 6951, 'plastics': 6952, 'wings': 6953, 'infonet': 6954, 'comprehensive': 6955, 'hiral': 6956, 'tektronix': 6957, 'relates': 6958, 'hrms': 6959, 'observation': 6960, 'researcher': 6961, 'laweducation': 6962, 'criminology': 6963, 'federal': 6964, 'finalising': 6965, 'agreements': 6966, 'intimation': 6967, 'suits': 6968, 'attorney': 6969, 'indemnity': 6970, 'marriage': 6971, 'divorce': 6972, 'ession': 6973, 'lok': 6974, 'adalat': 6975, 'judicial': 6976, 'extraeducation': 6977, 'literature': 6978, 'tirunelveli': 6979, 'manonmaniam': 6980, 'sundaranar': 6981, 'practiced': 6982, 'judicature': 6983, 'madras': 6984, 'tribunal': 6985, 'christian': 6986, 'ruah': 6987, 'church': 6988, 'nessa': 6989, 'somaiya': 6990, 'asmita': 6991, 'girls': 6992, 'bhawan': 6993, 'journalist': 6994, 'lawyer': 6995, 'committed': 6996, 'independent': 6997, 'bput': 6998, 'brahmapur': 6999, 'orissa': 7000, 'banner': 7001, 'handles': 7002, '115': 7003, 'spread': 7004, 'whitacre': 7005, 'downtown': 7006, 'texas': 7007, 'csi': 7008, 'cam': 7009, 'centralised': 7010, 'myatt': 7011, 'maintaing': 7012, 'autoit': 7013, 'manging': 7014, 'automationtesting': 7015, 'phoenix': 7016, 'microsystems': 7017, 'swb': 7018, 'profitable': 7019, 'satisfying': 7020, 'splits': 7021, 'inserts': 7022, 'ibatis': 7023, 'seam': 7024, 'intelligen': 7025, 'mobileapp': 7026, 'kauapc': 7027, 'ims': 7028, 'essible': 7029, 'empower': 7030, 'rich': 7031, 'jersey': 7032, 'lelo': 7033, 'lo': 7034, 'divider': 7035, 'pom': 7036, 'malad': 7037, 'tanks': 7038, 'anushaktinagar': 7039, 'trombay': 7040, 'kalyan': 7041, 'tank': 7042, 'float': 7043, 'bottle': 7044, 'crashing': 7045, 'separated': 7046, 'sensors': 7047, 'transmitters': 7048, 'pid': 7049, 'brands': 7050, 'nippon': 7051, 'selec': 7052, 'dol': 7053, 'induction': 7054, 'eletrical': 7055, 'specialized': 7056, 'engineered': 7057, 'manufacturers': 7058, 'vessels': 7059, 'igg': 7060, 'inert': 7061, 'calibrations': 7062, '8th': 7063, 'underwent': 7064, 'tuv': 7065, 'rheinland': 7066, 'omron': 7067, 'ladder': 7068, 'intouch': 7069, 'vijeo': 7070, 'citect': 7071, 'wincc': 7072, 'talkview': 7073, 'opc': 7074, 'kepware': 7075, 'altivar': 7076, 'druck': 7077, 'injector': 7078, 'dp': 7079, 'tubes': 7080, 'fitting': 7081, 'glanding': 7082, 'robotic': 7083, 'kuka': 7084, 'kr': 7085, 'rk': 7086, 'electricals': 7087, 'twido': 7088, 'step7': 7089, 'microwin': 7090, 'sp2': 7091, 'unity': 7092, 'xl': 7093, 'cx': 7094, 'wpl': 7095, 'codesys': 7096, 'wonderware': 7097, 'citectscada7': 7098, 'proficy': 7099, 'factotytalk': 7100, 'spoken': 7101, 'tutorial': 7102, 'phython': 7103, 'codestrike': 7104, 'learnereducation': 7105, 'vidishtra': 7106, 'morigaon': 7107, 'subordinate': 7108, 'penchant': 7109, 'situation': 7110, 'extrovert': 7111, 'prefer': 7112, 'walks': 7113, 'strata': 7114, 'rapport': 7115, 'hpc': 7116, 'counsels': 7117, 'cachar': 7118, 'nagaland': 7119, 'pulp': 7120, 'vetting': 7121, 'nibs': 7122, 'nits': 7123, 'formulation': 7124, 'disciplinary': 7125, 'liaisoning': 7126, 'conformiq': 7127, 'measure': 7128, 'submit': 7129, 'tl9k': 7130, 'skillful': 7131, 'typing': 7132, 'refined': 7133, 'uloom': 7134, 'recently': 7135, 'savvy': 7136, 'lrc': 7137, 'ravichander': 7138, 'knows': 7139, 'ielts': 7140, 'bilingual': 7141, 'punjabi': 7142, 'clearly': 7143, 'concisely': 7144, 'peers': 7145, 'pretrial': 7146, 'appellate': 7147, 'competent': 7148, 'laws': 7149, 'bikaner': 7150, 'maharaja': 7151, 'ganga': 7152, 'singh': 7153, 'bio': 7154, 'informatics': 7155, 'panjab': 7156, 'newcomer': 7157, 'licensed': 7158, 'admitted': 7159, 'aibe': 7160, 'bci': 7161, 'sole': 7162, 'counsel': 7163, 'plaintiff': 7164, 'respondents': 7165, 'prosecuted': 7166, 'conclusion': 7167, 'claim': 7168, 'opted': 7169, 'plead': 7170, 'precedents': 7171, 'bail': 7172, 'petitions': 7173, 'appeals': 7174, 'divorces': 7175, 'negotiates': 7176, 'settlements': 7177, 'mediator': 7178, 'conciliator': 7179, 'commissioner': 7180, 'arbitrator': 7181, 'concerned': 7182, 'artifacts': 7183, 'fsd': 7184, 'cug': 7185, 'configurations': 7186, 'onboard': 7187, 'bau': 7188, 'arriving': 7189, 'crs': 7190, 'paytech': 7191, 'zambia': 7192, 'capa': 7193, 'parivartan': 7194, 'bscit': 7195, 'airoli': 7196, 'vbs': 7197, 'purvanchal': 7198, 'redwood': 7199, 'triage': 7200, 'short': 7201, 'exponentially': 7202, 'drastically': 7203, 'games': 7204, 'apps': 7205, 'messenger': 7206, 'omplishment': 7207, 'reminders': 7208, 'hayaan': 7209, 'neighborhood': 7210, 'packaging': 7211, 'slip': 7212, 'inquiry': 7213, 'haayan': 7214, 'smashingday': 7215, 'xaml': 7216, 'dhtml': 7217, 'vbscript': 7218, 'mvp': 7219, 'tfs': 7220, 'collabnet': 7221, 'qlikview': 7222, 'centreon': 7223, 'bam': 7224, 'thinker': 7225, 'planner': 7226, 'recent': 7227, 'managereducation': 7228, 'sikkim': 7229, '92': 7230, '76': 7231, 'apr': 7232, 'capex': 7233, 'surveillance': 7234, 'wearable': 7235, 'nextgen': 7236, 'aria': 7237, 'apple': 7238, 'iphone': 7239, 'sunnyvale': 7240, 'ohio': 7241, 'nunit': 7242, 'moss': 7243, 'biztalk2006': 7244, 'dreamweaver': 7245, 'biz': 7246, 'wachovia': 7247, 'carolina': 7248, 'cript': 7249, 'zd': 7250, 'doll': 7251, 'newcastle': 7252, 'tokyo': 7253, 'macromedia': 7254, 'sql2000': 7255, 'lotus': 7256, 'fuel': 7257, 'density': 7258, 'measurement': 7259, 'cmcs': 7260, 'himalaya': 7261, 'mapco': 7262, 'berco': 7263, 'rfe': 7264, 'rally': 7265, 'td': 7266, 'devsecops': 7267, 'profit': 7268, 'maximization': 7269, 'tulu': 7270, 'harvard': 7271, 'thunderbird': 7272, 'catering': 7273, 'esign': 7274, 'countersign': 7275, 'ampd': 7276, 'cru': 7277, 'bizcomp': 7278, 'comp': 7279, 'discounts': 7280, 'cxmt': 7281, 'lets': 7282, 'centrex': 7283, 'shadow': 7284, 'signoff': 7285, 'smp': 7286, 'scorecard': 7287, 'vqi': 7288, 'subcon': 7289, 'offshoring': 7290, 'leakage': 7291, 'tail': 7292, 'oscar': 7293, 'expand': 7294, 'developments': 7295, 'resourcing': 7296, 'csl': 7297, 'kms': 7298, 'pmr': 7299, 'sqa': 7300, 'gates': 7301, 'csat': 7302, 'rehearsal': 7303, 'prevention': 7304, 'exercises': 7305, 'rebadged': 7306, 'ex': 7307, 'esaya': 7308, 'anjular': 7309, 'mws': 7310, 'laravel': 7311, 'profiled': 7312, 'monitors': 7313, 'sponsor': 7314, 'revise': 7315, 'regulatory': 7316, 'venturus': 7317, 'adhere': 7318, 'viralsocials': 7319, 'xento': 7320, 'familylink': 7321, 'propertysolutions': 7322, 'speedyceus': 7323, 'ceus': 7324, 'nursing': 7325, 'stplafricaonline': 7326, 'stplafrica': 7327, '1stexpert': 7328, 'rimsys': 7329, 'eu': 7330, 'prayerlister': 7331, 'promark': 7332, 'justbe': 7333, 'mtpian': 7334, 'sababa': 7335, 'nl': 7336, 'physicaltherapy': 7337, 'hiu': 7338, '7cees': 7339, 'golwin': 7340, 'maza': 7341, 'lisa': 7342, 'catdm': 7343, 'versioning': 7344, 'disha': 7345, 'poland': 7346, 'specialize': 7347, 'cbil': 7348, 'oat': 7349, 'proving': 7350, 'cucumber': 7351, 'bdd': 7352, 'tosca': 7353, 'tdm': 7354, 'onboarding': 7355, 'ontrack': 7356}\n",
            "[44, 7, 1067, 5966, 61, 30, 5967, 356, 26, 7, 3, 7, 3, 356, 674, 6]\n",
            "[34, 136, 8, 1296, 20, 800, 20, 354, 270, 25, 354, 55, 108, 121, 892, 121, 393, 94, 536, 2997, 44, 7, 630, 182, 585, 208, 245, 30, 2734, 78, 5973, 15, 78, 53, 204, 723, 250, 732, 92, 70, 86, 30, 2734, 78, 15, 5974, 203, 139, 121, 393, 892, 23, 458, 361, 472, 32, 206, 121, 5975, 892, 23, 458, 361, 472, 121, 892, 26, 7, 8, 1296, 2, 13, 5, 121, 393, 524, 2, 19, 9, 12, 5, 121, 892, 2, 19, 9, 12, 5, 136, 2, 19, 9, 12, 5, 354, 270, 25, 2, 19, 9, 12, 5, 121, 393, 2, 19, 9, 12, 5, 121, 892, 524, 2, 19, 9, 12, 5, 354, 55, 2, 19, 9, 12, 56, 7, 3, 121, 892, 6, 24, 2140, 179, 2638, 117, 892, 234, 184, 1618, 862, 544, 2997, 94, 16, 588, 649, 99, 1277, 68, 207, 418, 281, 60, 16, 11, 45, 11, 8, 344, 11, 264, 5976, 631, 234, 117, 892, 234, 1814, 8, 121, 2014, 22, 50, 8, 915, 1346, 246, 1048, 852, 1341, 234, 2998, 512, 23, 58, 3, 361, 472, 32, 206, 6, 1347, 945, 1230, 609, 393, 79, 395, 892, 79, 395, 79, 57, 667, 287, 1100, 1543, 382, 558, 914, 59, 853, 118, 102, 570, 8, 1080, 50, 316, 90, 60, 1451, 4217, 121, 2014, 4218, 4219, 625, 315, 22, 4220, 2999, 8, 407, 366, 4043, 43, 117, 892, 234, 1814, 8, 121, 2014, 22, 50, 8, 915, 1346, 246, 1048, 852, 1341, 234, 2998, 512, 23, 58, 160, 267, 892, 852, 22, 799, 73, 4221, 73, 72, 958, 3000, 262, 625, 459, 958, 841, 1619, 2015, 1326, 4222, 985, 1297, 141, 854, 578, 677, 616, 892, 744, 744, 3001, 22, 45, 745, 577, 99, 724, 14, 22, 393, 25, 4223, 148, 1145, 25, 426, 1163, 50, 201, 290, 2735, 3176, 393, 14, 246, 393, 1006, 72, 4224, 4225, 1327, 1159, 3002, 59, 45, 59, 28, 117, 431, 43, 59, 893, 22, 431, 894, 1186, 82, 712, 50, 43, 393, 14, 246, 616, 754, 60, 3177, 1859, 4226, 4227, 304, 28, 1208, 384, 97, 106, 175, 458, 290, 104, 544, 449, 243, 58, 1187, 2141, 267, 98, 306, 76, 28, 98, 28, 108, 767, 107, 28, 767, 1815, 4228, 104, 27, 256, 90, 1543, 382, 304, 774, 28, 2736, 116, 18, 106, 394, 1140, 90, 3, 361, 472, 32, 206, 6, 24, 361, 733, 337, 32, 206, 1347, 945, 1230, 609, 393, 79, 395, 892, 79, 395, 79, 57, 667, 287, 1100, 1543, 382, 558, 914, 59, 853, 118, 102, 570, 8, 1080, 50, 316, 90, 60, 1451, 4217, 121, 2014, 4218, 4219, 625, 315, 22, 4220, 2999, 8, 407, 366, 4043, 43, 160, 267, 892, 852, 22, 799, 73, 4221, 73, 72, 958, 3000, 262, 625, 459, 958, 841, 1619, 2015, 1326, 4222, 985, 1297, 141, 854, 578, 677, 616, 892, 744, 744, 3001, 22, 45, 745, 577, 99, 724, 14, 22, 393, 25, 4223, 148, 1145, 25, 426, 1163, 50, 201, 290, 2735, 3176, 393, 14, 246, 393, 1006, 72, 4224, 4225, 1327, 1159, 3002, 59, 45, 59, 28, 117, 431, 43, 59, 893, 22, 431, 894, 1186, 82, 712, 50, 43, 393, 14, 246, 616, 754, 60, 3177, 1859, 4226, 4227, 304, 28, 1208, 384, 97, 106, 175, 458, 290, 104, 544, 449, 243, 58, 1187, 2141, 267, 98, 306, 76, 28, 98, 28, 108, 767, 107, 28, 767, 1815, 4228, 104, 27, 256, 90, 1543, 382, 304, 774, 28, 2736, 116, 18, 106, 394, 1140, 90]\n"
          ]
        }
      ],
      "source": [
        "# Tokenize feature data and print word dictionary\n",
        "vocab_size = 6000\n",
        "oov_tok = '<OOV>'\n",
        "\n",
        "feature_tokenizer = Tokenizer(num_words=vocab_size, oov_token=oov_tok)\n",
        "feature_tokenizer.fit_on_texts(features)\n",
        "\n",
        "feature_index = feature_tokenizer.word_index\n",
        "print(dict(list(feature_index.items())))\n",
        "\n",
        "# Print example sequences from train and test datasets\n",
        "train_feature_sequences = feature_tokenizer.texts_to_sequences(train_features)\n",
        "print(train_feature_sequences[0])\n",
        "\n",
        "test_feature_sequences = feature_tokenizer.texts_to_sequences(test_features)\n",
        "print(test_feature_sequences[0])"
      ]
    },
    {
      "cell_type": "code",
      "execution_count": 14,
      "metadata": {
        "colab": {
          "base_uri": "https://localhost:8080/",
          "height": 88
        },
        "colab_type": "code",
        "id": "10PldKNSprXW",
        "outputId": "d52f982b-bfdc-43f8-92fa-037f80bd44ca"
      },
      "outputs": [
        {
          "name": "stdout",
          "output_type": "stream",
          "text": [
            "{'javadeveloper': 1, 'devopsengineer': 2, 'pythondeveloper': 3, 'webdesigning': 4, 'hr': 5, 'hadoop': 6, 'sales': 7, 'blockchain': 8, 'etldeveloper': 9, 'datascience': 10, 'mechanicalengineer': 11, 'operationsmanager': 12, 'arts': 13, 'database': 14, 'pmo': 15, 'electricalengineering': 16, 'healthandfitness': 17, 'dotnetdeveloper': 18, 'businessanalyst': 19, 'automationtesting': 20, 'networksecurityengineer': 21, 'sapdeveloper': 22, 'civilengineer': 23, 'advocate': 24}\n",
            "[5]\n",
            "[22]\n"
          ]
        }
      ],
      "source": [
        "# Tokenize label data and print label dictionary\n",
        "label_tokenizer = Tokenizer(lower=True)\n",
        "label_tokenizer.fit_on_texts(labels)\n",
        "\n",
        "label_index = label_tokenizer.word_index\n",
        "print(dict(list(label_index.items())))\n",
        "\n",
        "# Print example label encodings from train and test datasets\n",
        "train_label_sequences = label_tokenizer.texts_to_sequences(train_labels)\n",
        "print(train_label_sequences[0])\n",
        "\n",
        "test_label_sequences = label_tokenizer.texts_to_sequences(test_labels)\n",
        "print(test_label_sequences[0])"
      ]
    },
    {
      "cell_type": "code",
      "execution_count": 15,
      "metadata": {},
      "outputs": [
        {
          "name": "stdout",
          "output_type": "stream",
          "text": [
            "['hr' 'sales' 'automationtesting' 'advocate' 'devopsengineer'\n",
            " 'dotnetdeveloper' 'javadeveloper' 'devopsengineer' 'arts' 'javadeveloper'\n",
            " 'blockchain' 'sapdeveloper' 'dotnetdeveloper' 'blockchain' 'pmo' 'hadoop'\n",
            " 'hr' 'networksecurityengineer' 'pythondeveloper' 'civilengineer'\n",
            " 'webdesigning' 'webdesigning' 'dotnetdeveloper' 'hr' 'etldeveloper'\n",
            " 'sales' 'datascience' 'javadeveloper' 'pmo' 'arts' 'sales'\n",
            " 'mechanicalengineer' 'webdesigning' 'blockchain' 'operationsmanager'\n",
            " 'networksecurityengineer' 'database' 'pythondeveloper'\n",
            " 'networksecurityengineer' 'pythondeveloper' 'hr' 'electricalengineering'\n",
            " 'javadeveloper' 'sapdeveloper' 'arts' 'devopsengineer'\n",
            " 'operationsmanager' 'hr' 'pythondeveloper' 'arts' 'hr'\n",
            " 'mechanicalengineer' 'dotnetdeveloper' 'webdesigning' 'devopsengineer'\n",
            " 'database' 'etldeveloper' 'sales' 'sapdeveloper' 'javadeveloper'\n",
            " 'etldeveloper' 'mechanicalengineer' 'devopsengineer' 'civilengineer'\n",
            " 'healthandfitness' 'operationsmanager' 'networksecurityengineer'\n",
            " 'datascience' 'electricalengineering' 'hr' 'hadoop' 'dotnetdeveloper'\n",
            " 'dotnetdeveloper' 'etldeveloper' 'devopsengineer' 'operationsmanager'\n",
            " 'devopsengineer' 'blockchain' 'javadeveloper' 'devopsengineer' 'database'\n",
            " 'webdesigning' 'mechanicalengineer' 'hadoop' 'webdesigning' 'sales'\n",
            " 'webdesigning' 'pmo' 'arts' 'arts' 'webdesigning' 'healthandfitness' 'hr'\n",
            " 'hadoop' 'electricalengineering' 'arts' 'javadeveloper' 'arts' 'hr'\n",
            " 'blockchain' 'pmo' 'hadoop' 'healthandfitness' 'blockchain'\n",
            " 'javadeveloper' 'javadeveloper' 'etldeveloper' 'operationsmanager' 'hr'\n",
            " 'datascience' 'dotnetdeveloper' 'hr' 'businessanalyst' 'advocate' 'pmo'\n",
            " 'database' 'advocate' 'hr' 'operationsmanager' 'javadeveloper' 'hadoop'\n",
            " 'mechanicalengineer' 'advocate' 'operationsmanager' 'devopsengineer'\n",
            " 'sales' 'sales' 'mechanicalengineer' 'blockchain' 'operationsmanager'\n",
            " 'pmo' 'arts' 'javadeveloper' 'sapdeveloper' 'webdesigning'\n",
            " 'healthandfitness' 'datascience' 'javadeveloper' 'automationtesting'\n",
            " 'javadeveloper' 'arts' 'operationsmanager' 'webdesigning' 'hadoop'\n",
            " 'pythondeveloper' 'javadeveloper' 'healthandfitness' 'healthandfitness'\n",
            " 'hr' 'electricalengineering' 'blockchain' 'webdesigning' 'civilengineer'\n",
            " 'networksecurityengineer' 'datascience' 'hr' 'devopsengineer' 'arts' 'hr'\n",
            " 'hadoop' 'healthandfitness' 'database' 'blockchain' 'sales'\n",
            " 'healthandfitness' 'civilengineer' 'javadeveloper' 'hr'\n",
            " 'operationsmanager' 'etldeveloper' 'javadeveloper' 'sales' 'arts'\n",
            " 'operationsmanager' 'arts' 'sales' 'civilengineer' 'arts' 'sapdeveloper'\n",
            " 'pythondeveloper' 'arts' 'javadeveloper' 'automationtesting'\n",
            " 'automationtesting' 'hr' 'healthandfitness' 'etldeveloper'\n",
            " 'javadeveloper' 'hadoop' 'datascience' 'businessanalyst' 'datascience'\n",
            " 'advocate' 'pythondeveloper' 'datascience' 'hr' 'etldeveloper'\n",
            " 'electricalengineering' 'etldeveloper' 'businessanalyst'\n",
            " 'operationsmanager' 'healthandfitness' 'etldeveloper' 'automationtesting'\n",
            " 'javadeveloper' 'operationsmanager' 'datascience' 'businessanalyst'\n",
            " 'datascience' 'database' 'blockchain' 'civilengineer' 'devopsengineer'\n",
            " 'businessanalyst' 'pythondeveloper' 'healthandfitness'\n",
            " 'electricalengineering' 'javadeveloper' 'arts' 'mechanicalengineer'\n",
            " 'webdesigning' 'hr' 'database' 'blockchain' 'webdesigning' 'database'\n",
            " 'electricalengineering' 'devopsengineer' 'networksecurityengineer'\n",
            " 'dotnetdeveloper' 'javadeveloper' 'businessanalyst' 'pythondeveloper'\n",
            " 'arts' 'database' 'dotnetdeveloper' 'pythondeveloper' 'sapdeveloper'\n",
            " 'javadeveloper' 'blockchain' 'webdesigning' 'arts' 'etldeveloper'\n",
            " 'javadeveloper' 'webdesigning' 'sales' 'database' 'pythondeveloper'\n",
            " 'pythondeveloper' 'automationtesting' 'pmo' 'etldeveloper' 'etldeveloper'\n",
            " 'javadeveloper' 'sales' 'healthandfitness' 'electricalengineering'\n",
            " 'civilengineer' 'civilengineer' 'businessanalyst' 'pythondeveloper'\n",
            " 'hadoop' 'networksecurityengineer' 'sales' 'javadeveloper'\n",
            " 'dotnetdeveloper' 'devopsengineer' 'operationsmanager' 'sales'\n",
            " 'devopsengineer' 'devopsengineer' 'pythondeveloper' 'etldeveloper'\n",
            " 'blockchain' 'advocate' 'businessanalyst' 'networksecurityengineer'\n",
            " 'networksecurityengineer' 'sales' 'blockchain' 'dotnetdeveloper'\n",
            " 'healthandfitness' 'pmo' 'hr' 'operationsmanager' 'database'\n",
            " 'businessanalyst' 'pythondeveloper' 'hadoop' 'sales' 'hadoop'\n",
            " 'pythondeveloper' 'javadeveloper' 'webdesigning' 'hadoop'\n",
            " 'devopsengineer' 'javadeveloper' 'javadeveloper' 'pythondeveloper' 'pmo'\n",
            " 'electricalengineering' 'operationsmanager' 'sapdeveloper' 'sapdeveloper'\n",
            " 'database' 'arts' 'operationsmanager' 'webdesigning' 'blockchain' 'sales'\n",
            " 'electricalengineering' 'automationtesting' 'networksecurityengineer'\n",
            " 'javadeveloper' 'electricalengineering' 'pmo' 'database' 'devopsengineer'\n",
            " 'webdesigning' 'advocate' 'webdesigning' 'arts' 'javadeveloper'\n",
            " 'mechanicalengineer' 'webdesigning' 'hadoop' 'blockchain' 'datascience'\n",
            " 'automationtesting' 'healthandfitness' 'hr' 'healthandfitness'\n",
            " 'devopsengineer' 'etldeveloper' 'hr' 'operationsmanager' 'database'\n",
            " 'webdesigning' 'pythondeveloper' 'operationsmanager' 'hadoop'\n",
            " 'etldeveloper' 'pythondeveloper' 'arts' 'etldeveloper' 'javadeveloper'\n",
            " 'blockchain' 'operationsmanager' 'electricalengineering'\n",
            " 'dotnetdeveloper' 'operationsmanager' 'pmo' 'hr' 'webdesigning'\n",
            " 'civilengineer' 'javadeveloper' 'hadoop' 'database' 'dotnetdeveloper'\n",
            " 'electricalengineering' 'blockchain' 'javadeveloper'\n",
            " 'networksecurityengineer' 'webdesigning' 'healthandfitness'\n",
            " 'mechanicalengineer' 'operationsmanager' 'mechanicalengineer'\n",
            " 'javadeveloper' 'database' 'mechanicalengineer' 'webdesigning'\n",
            " 'dotnetdeveloper' 'javadeveloper' 'etldeveloper' 'devopsengineer'\n",
            " 'datascience' 'advocate' 'javadeveloper' 'arts' 'etldeveloper'\n",
            " 'devopsengineer' 'javadeveloper' 'etldeveloper' 'devopsengineer'\n",
            " 'advocate' 'datascience' 'javadeveloper' 'blockchain' 'javadeveloper'\n",
            " 'hr' 'webdesigning' 'blockchain' 'advocate' 'dotnetdeveloper' 'hr' 'pmo'\n",
            " 'etldeveloper' 'pythondeveloper' 'javadeveloper' 'businessanalyst'\n",
            " 'businessanalyst' 'arts' 'civilengineer' 'etldeveloper' 'sapdeveloper'\n",
            " 'datascience' 'dotnetdeveloper' 'automationtesting' 'mechanicalengineer'\n",
            " 'etldeveloper' 'javadeveloper' 'pythondeveloper' 'hr' 'healthandfitness'\n",
            " 'blockchain' 'civilengineer' 'database' 'javadeveloper' 'hr'\n",
            " 'civilengineer' 'blockchain' 'hadoop' 'webdesigning' 'civilengineer'\n",
            " 'sapdeveloper' 'mechanicalengineer' 'dotnetdeveloper'\n",
            " 'mechanicalengineer' 'sapdeveloper' 'devopsengineer' 'dotnetdeveloper'\n",
            " 'hr' 'arts' 'pythondeveloper' 'hadoop' 'hr' 'pmo' 'automationtesting'\n",
            " 'civilengineer' 'hadoop' 'advocate' 'arts' 'operationsmanager'\n",
            " 'blockchain' 'pythondeveloper' 'hadoop' 'devopsengineer' 'sales'\n",
            " 'javadeveloper' 'pythondeveloper' 'sales' 'arts' 'pmo' 'etldeveloper'\n",
            " 'sapdeveloper' 'webdesigning' 'database' 'hr' 'advocate' 'datascience'\n",
            " 'arts' 'blockchain' 'datascience' 'javadeveloper' 'hadoop'\n",
            " 'javadeveloper' 'datascience' 'javadeveloper' 'etldeveloper'\n",
            " 'devopsengineer' 'database' 'database' 'electricalengineering'\n",
            " 'businessanalyst' 'javadeveloper' 'businessanalyst'\n",
            " 'networksecurityengineer' 'businessanalyst' 'electricalengineering'\n",
            " 'etldeveloper' 'datascience' 'sapdeveloper' 'database' 'healthandfitness'\n",
            " 'advocate' 'devopsengineer' 'database' 'etldeveloper' 'blockchain'\n",
            " 'blockchain' 'mechanicalengineer' 'pmo' 'javadeveloper' 'javadeveloper'\n",
            " 'devopsengineer' 'networksecurityengineer' 'pmo' 'sapdeveloper' 'pmo'\n",
            " 'operationsmanager' 'electricalengineering' 'mechanicalengineer'\n",
            " 'healthandfitness' 'hadoop' 'civilengineer' 'mechanicalengineer'\n",
            " 'electricalengineering' 'database' 'webdesigning' 'hr'\n",
            " 'operationsmanager' 'businessanalyst' 'healthandfitness' 'sales'\n",
            " 'civilengineer' 'devopsengineer' 'civilengineer' 'javadeveloper'\n",
            " 'networksecurityengineer' 'networksecurityengineer' 'healthandfitness'\n",
            " 'javadeveloper' 'operationsmanager' 'javadeveloper' 'webdesigning'\n",
            " 'mechanicalengineer' 'devopsengineer' 'electricalengineering'\n",
            " 'sapdeveloper' 'businessanalyst' 'javadeveloper' 'electricalengineering'\n",
            " 'database' 'javadeveloper' 'networksecurityengineer' 'advocate'\n",
            " 'etldeveloper' 'businessanalyst' 'hadoop' 'pythondeveloper' 'sales'\n",
            " 'devopsengineer' 'pythondeveloper' 'networksecurityengineer'\n",
            " 'webdesigning' 'blockchain' 'blockchain' 'javadeveloper' 'hadoop' 'arts'\n",
            " 'javadeveloper' 'webdesigning' 'sales' 'arts' 'javadeveloper'\n",
            " 'pythondeveloper' 'civilengineer' 'datascience' 'javadeveloper'\n",
            " 'devopsengineer' 'sales' 'automationtesting' 'hadoop'\n",
            " 'mechanicalengineer' 'javadeveloper' 'sales' 'networksecurityengineer'\n",
            " 'networksecurityengineer' 'devopsengineer' 'automationtesting' 'arts'\n",
            " 'webdesigning' 'pythondeveloper' 'datascience' 'datascience' 'sales'\n",
            " 'electricalengineering' 'businessanalyst' 'hadoop' 'javadeveloper'\n",
            " 'blockchain' 'devopsengineer' 'hadoop' 'dotnetdeveloper' 'sales'\n",
            " 'pythondeveloper' 'devopsengineer' 'healthandfitness' 'datascience'\n",
            " 'dotnetdeveloper' 'automationtesting' 'hadoop' 'hr' 'automationtesting'\n",
            " 'sales' 'sales' 'javadeveloper' 'mechanicalengineer' 'pmo' 'webdesigning'\n",
            " 'devopsengineer' 'datascience' 'mechanicalengineer' 'operationsmanager'\n",
            " 'automationtesting' 'webdesigning' 'datascience' 'javadeveloper'\n",
            " 'blockchain' 'operationsmanager' 'hr' 'hadoop' 'sales' 'businessanalyst'\n",
            " 'database' 'advocate' 'hadoop' 'businessanalyst' 'automationtesting'\n",
            " 'automationtesting' 'mechanicalengineer' 'etldeveloper' 'civilengineer'\n",
            " 'mechanicalengineer' 'devopsengineer' 'healthandfitness' 'webdesigning'\n",
            " 'datascience' 'javadeveloper' 'webdesigning' 'database' 'devopsengineer'\n",
            " 'devopsengineer' 'javadeveloper' 'pythondeveloper' 'blockchain'\n",
            " 'datascience' 'operationsmanager' 'operationsmanager' 'hadoop'\n",
            " 'pythondeveloper' 'javadeveloper' 'database' 'dotnetdeveloper' 'sales'\n",
            " 'operationsmanager' 'hr' 'pmo' 'hadoop' 'pythondeveloper'\n",
            " 'businessanalyst' 'automationtesting' 'pythondeveloper' 'datascience'\n",
            " 'automationtesting' 'pythondeveloper' 'hadoop' 'devopsengineer'\n",
            " 'javadeveloper' 'javadeveloper' 'javadeveloper' 'devopsengineer'\n",
            " 'webdesigning' 'sales' 'businessanalyst' 'datascience' 'pythondeveloper'\n",
            " 'civilengineer' 'advocate' 'blockchain' 'advocate' 'hr' 'database'\n",
            " 'electricalengineering' 'hadoop' 'mechanicalengineer' 'datascience'\n",
            " 'webdesigning' 'automationtesting' 'javadeveloper' 'hadoop' 'database'\n",
            " 'advocate' 'sapdeveloper' 'blockchain' 'hadoop' 'etldeveloper' 'database'\n",
            " 'hr' 'javadeveloper' 'blockchain' 'sales' 'pmo' 'devopsengineer' 'hr'\n",
            " 'sales' 'automationtesting' 'javadeveloper' 'pythondeveloper'\n",
            " 'mechanicalengineer' 'pythondeveloper' 'healthandfitness'\n",
            " 'operationsmanager' 'pmo' 'mechanicalengineer' 'arts' 'automationtesting'\n",
            " 'mechanicalengineer' 'javadeveloper' 'operationsmanager'\n",
            " 'dotnetdeveloper' 'hr']\n"
          ]
        }
      ],
      "source": [
        "print((train_labels))"
      ]
    },
    {
      "cell_type": "code",
      "execution_count": 16,
      "metadata": {},
      "outputs": [
        {
          "name": "stdout",
          "output_type": "stream",
          "text": [
            "[[5], [7], [20], [24], [2], [18], [1], [2], [13], [1], [8], [22], [18], [8], [15], [6], [5], [21], [3], [23], [4], [4], [18], [5], [9], [7], [10], [1], [15], [13], [7], [11], [4], [8], [12], [21], [14], [3], [21], [3], [5], [16], [1], [22], [13], [2], [12], [5], [3], [13], [5], [11], [18], [4], [2], [14], [9], [7], [22], [1], [9], [11], [2], [23], [17], [12], [21], [10], [16], [5], [6], [18], [18], [9], [2], [12], [2], [8], [1], [2], [14], [4], [11], [6], [4], [7], [4], [15], [13], [13], [4], [17], [5], [6], [16], [13], [1], [13], [5], [8], [15], [6], [17], [8], [1], [1], [9], [12], [5], [10], [18], [5], [19], [24], [15], [14], [24], [5], [12], [1], [6], [11], [24], [12], [2], [7], [7], [11], [8], [12], [15], [13], [1], [22], [4], [17], [10], [1], [20], [1], [13], [12], [4], [6], [3], [1], [17], [17], [5], [16], [8], [4], [23], [21], [10], [5], [2], [13], [5], [6], [17], [14], [8], [7], [17], [23], [1], [5], [12], [9], [1], [7], [13], [12], [13], [7], [23], [13], [22], [3], [13], [1], [20], [20], [5], [17], [9], [1], [6], [10], [19], [10], [24], [3], [10], [5], [9], [16], [9], [19], [12], [17], [9], [20], [1], [12], [10], [19], [10], [14], [8], [23], [2], [19], [3], [17], [16], [1], [13], [11], [4], [5], [14], [8], [4], [14], [16], [2], [21], [18], [1], [19], [3], [13], [14], [18], [3], [22], [1], [8], [4], [13], [9], [1], [4], [7], [14], [3], [3], [20], [15], [9], [9], [1], [7], [17], [16], [23], [23], [19], [3], [6], [21], [7], [1], [18], [2], [12], [7], [2], [2], [3], [9], [8], [24], [19], [21], [21], [7], [8], [18], [17], [15], [5], [12], [14], [19], [3], [6], [7], [6], [3], [1], [4], [6], [2], [1], [1], [3], [15], [16], [12], [22], [22], [14], [13], [12], [4], [8], [7], [16], [20], [21], [1], [16], [15], [14], [2], [4], [24], [4], [13], [1], [11], [4], [6], [8], [10], [20], [17], [5], [17], [2], [9], [5], [12], [14], [4], [3], [12], [6], [9], [3], [13], [9], [1], [8], [12], [16], [18], [12], [15], [5], [4], [23], [1], [6], [14], [18], [16], [8], [1], [21], [4], [17], [11], [12], [11], [1], [14], [11], [4], [18], [1], [9], [2], [10], [24], [1], [13], [9], [2], [1], [9], [2], [24], [10], [1], [8], [1], [5], [4], [8], [24], [18], [5], [15], [9], [3], [1], [19], [19], [13], [23], [9], [22], [10], [18], [20], [11], [9], [1], [3], [5], [17], [8], [23], [14], [1], [5], [23], [8], [6], [4], [23], [22], [11], [18], [11], [22], [2], [18], [5], [13], [3], [6], [5], [15], [20], [23], [6], [24], [13], [12], [8], [3], [6], [2], [7], [1], [3], [7], [13], [15], [9], [22], [4], [14], [5], [24], [10], [13], [8], [10], [1], [6], [1], [10], [1], [9], [2], [14], [14], [16], [19], [1], [19], [21], [19], [16], [9], [10], [22], [14], [17], [24], [2], [14], [9], [8], [8], [11], [15], [1], [1], [2], [21], [15], [22], [15], [12], [16], [11], [17], [6], [23], [11], [16], [14], [4], [5], [12], [19], [17], [7], [23], [2], [23], [1], [21], [21], [17], [1], [12], [1], [4], [11], [2], [16], [22], [19], [1], [16], [14], [1], [21], [24], [9], [19], [6], [3], [7], [2], [3], [21], [4], [8], [8], [1], [6], [13], [1], [4], [7], [13], [1], [3], [23], [10], [1], [2], [7], [20], [6], [11], [1], [7], [21], [21], [2], [20], [13], [4], [3], [10], [10], [7], [16], [19], [6], [1], [8], [2], [6], [18], [7], [3], [2], [17], [10], [18], [20], [6], [5], [20], [7], [7], [1], [11], [15], [4], [2], [10], [11], [12], [20], [4], [10], [1], [8], [12], [5], [6], [7], [19], [14], [24], [6], [19], [20], [20], [11], [9], [23], [11], [2], [17], [4], [10], [1], [4], [14], [2], [2], [1], [3], [8], [10], [12], [12], [6], [3], [1], [14], [18], [7], [12], [5], [15], [6], [3], [19], [20], [3], [10], [20], [3], [6], [2], [1], [1], [1], [2], [4], [7], [19], [10], [3], [23], [24], [8], [24], [5], [14], [16], [6], [11], [10], [4], [20], [1], [6], [14], [24], [22], [8], [6], [9], [14], [5], [1], [8], [7], [15], [2], [5], [7], [20], [1], [3], [11], [3], [17], [12], [15], [11], [13], [20], [11], [1], [12], [18], [5]]\n"
          ]
        }
      ],
      "source": [
        "print((train_label_sequences))"
      ]
    },
    {
      "cell_type": "code",
      "execution_count": 17,
      "metadata": {
        "colab": {
          "base_uri": "https://localhost:8080/",
          "height": 765
        },
        "colab_type": "code",
        "id": "SvHlL7PXpzBX",
        "outputId": "3bfcfa34-0027-41e6-8e9f-28579d074e33"
      },
      "outputs": [
        {
          "name": "stdout",
          "output_type": "stream",
          "text": [
            "[  44    7 1067 5966   61   30 5967  356   26    7    3    7    3  356\n",
            "  674    6    0    0    0    0    0    0    0    0    0    0    0    0\n",
            "    0    0    0    0    0    0    0    0    0    0    0    0    0    0\n",
            "    0    0    0    0    0    0    0    0    0    0    0    0    0    0\n",
            "    0    0    0    0    0    0    0    0    0    0    0    0    0    0\n",
            "    0    0    0    0    0    0    0    0    0    0    0    0    0    0\n",
            "    0    0    0    0    0    0    0    0    0    0    0    0    0    0\n",
            "    0    0    0    0    0    0    0    0    0    0    0    0    0    0\n",
            "    0    0    0    0    0    0    0    0    0    0    0    0    0    0\n",
            "    0    0    0    0    0    0    0    0    0    0    0    0    0    0\n",
            "    0    0    0    0    0    0    0    0    0    0    0    0    0    0\n",
            "    0    0    0    0    0    0    0    0    0    0    0    0    0    0\n",
            "    0    0    0    0    0    0    0    0    0    0    0    0    0    0\n",
            "    0    0    0    0    0    0    0    0    0    0    0    0    0    0\n",
            "    0    0    0    0    0    0    0    0    0    0    0    0    0    0\n",
            "    0    0    0    0    0    0    0    0    0    0    0    0    0    0\n",
            "    0    0    0    0    0    0    0    0    0    0    0    0    0    0\n",
            "    0    0    0    0    0    0    0    0    0    0    0    0    0    0\n",
            "    0    0    0    0    0    0    0    0    0    0    0    0    0    0\n",
            "    0    0    0    0    0    0    0    0    0    0    0    0    0    0\n",
            "    0    0    0    0    0    0    0    0    0    0    0    0    0    0\n",
            "    0    0    0    0    0    0]\n",
            "[  34  136    8 1296   20  800   20  354  270   25  354   55  108  121\n",
            "  892  121  393   94  536 2997   44    7  630  182  585  208  245   30\n",
            " 2734   78 5973   15   78   53  204  723  250  732   92   70   86   30\n",
            " 2734   78   15 5974  203  139  121  393  892   23  458  361  472   32\n",
            "  206  121 5975  892   23  458  361  472  121  892   26    7    8 1296\n",
            "    2   13    5  121  393  524    2   19    9   12    5  121  892    2\n",
            "   19    9   12    5  136    2   19    9   12    5  354  270   25    2\n",
            "   19    9   12    5  121  393    2   19    9   12    5  121  892  524\n",
            "    2   19    9   12    5  354   55    2   19    9   12   56    7    3\n",
            "  121  892    6   24 2140  179 2638  117  892  234  184 1618  862  544\n",
            " 2997   94   16  588  649   99 1277   68  207  418  281   60   16   11\n",
            "   45   11    8  344   11  264 5976  631  234  117  892  234 1814    8\n",
            "  121 2014   22   50    8  915 1346  246 1048  852 1341  234 2998  512\n",
            "   23   58    3  361  472   32  206    6 1347  945 1230  609  393   79\n",
            "  395  892   79  395   79   57  667  287 1100 1543  382  558  914   59\n",
            "  853  118  102  570    8 1080   50  316   90   60 1451 4217  121 2014\n",
            " 4218 4219  625  315   22 4220 2999    8  407  366 4043   43  117  892\n",
            "  234 1814    8  121 2014   22   50    8  915 1346  246 1048  852 1341\n",
            "  234 2998  512   23   58  160  267  892  852   22  799   73 4221   73\n",
            "   72  958 3000  262  625  459  958  841 1619 2015 1326 4222  985 1297\n",
            "  141  854  578  677  616  892  744  744 3001   22   45  745  577   99\n",
            "  724   14   22  393   25 4223]\n"
          ]
        }
      ],
      "source": [
        "# Pad sequences for feature data\n",
        "max_length = 300\n",
        "trunc_type = 'post'\n",
        "pad_type = 'post'\n",
        "\n",
        "train_feature_padded = pad_sequences(train_feature_sequences, maxlen=max_length, padding=pad_type, truncating=trunc_type)\n",
        "test_feature_padded = pad_sequences(test_feature_sequences, maxlen=max_length, padding=pad_type, truncating=trunc_type)\n",
        "\n",
        "# Print example padded sequences from train and test datasets\n",
        "print(train_feature_padded[0])\n",
        "print(test_feature_padded[0])"
      ]
    },
    {
      "cell_type": "code",
      "execution_count": 18,
      "metadata": {
        "colab": {
          "base_uri": "https://localhost:8080/",
          "height": 289
        },
        "colab_type": "code",
        "id": "89LGoDoqp39S",
        "outputId": "24fa791a-9d2a-45b9-ec09-71ffc76f2726"
      },
      "outputs": [
        {
          "name": "stdout",
          "output_type": "stream",
          "text": [
            "Model: \"sequential\"\n",
            "_________________________________________________________________\n",
            " Layer (type)                Output Shape              Param #   \n",
            "=================================================================\n",
            " embedding (Embedding)       (None, 1, 64)             384000    \n",
            "                                                                 \n",
            " bidirectional (Bidirectiona  (None, 128)              66048     \n",
            " l)                                                              \n",
            "                                                                 \n",
            " dense (Dense)               (None, 64)                8256      \n",
            "                                                                 \n",
            " dense_1 (Dense)             (None, 25)                1625      \n",
            "                                                                 \n",
            "=================================================================\n",
            "Total params: 459,929\n",
            "Trainable params: 459,929\n",
            "Non-trainable params: 0\n",
            "_________________________________________________________________\n"
          ]
        }
      ],
      "source": [
        "# Define the neural network\n",
        "embedding_dim = 64\n",
        "\n",
        "model = tf.keras.Sequential([\n",
        "  # Add an Embedding layer expecting input vocab of size 6000, and output embedding dimension of size 64 we set at the top\n",
        "  tf.keras.layers.Embedding(vocab_size, embedding_dim, input_length=1),\n",
        "  tf.keras.layers.Bidirectional(tf.keras.layers.LSTM(embedding_dim)),\n",
        "  #tf.keras.layers.Dense(embedding_dim, activation='relu'),\n",
        "\n",
        "  # use ReLU in place of tanh function since they are very good alternatives of each other.\n",
        "  tf.keras.layers.Dense(embedding_dim, activation='relu'),\n",
        "\n",
        "  # Add a Dense layer with 25 units and softmax activation for probability distribution\n",
        "  tf.keras.layers.Dense(25, activation='softmax')\n",
        "])\n",
        "\n",
        "model.summary()"
      ]
    },
    {
      "cell_type": "code",
      "execution_count": 19,
      "metadata": {
        "colab": {},
        "colab_type": "code",
        "id": "BgCN2tjmp8a0"
      },
      "outputs": [
        {
          "name": "stdout",
          "output_type": "stream",
          "text": [
            "[5]\n"
          ]
        }
      ],
      "source": [
        "# Compile the model and convert train/test data into NumPy arrays\n",
        "model.compile(loss='sparse_categorical_crossentropy', optimizer='adam', metrics=['accuracy'])\n",
        "\n",
        "# Features\n",
        "train_feature_padded = np.array(train_feature_padded)\n",
        "test_feature_padded = np.array(test_feature_padded)\n",
        "\n",
        "# Labels\n",
        "train_label_sequences = np.array(train_label_sequences)\n",
        "test_label_sequences = np.array(test_label_sequences)\n",
        "\n",
        "# Print example values\n",
        "#print(train_feature_padded[0])\n",
        "print(train_label_sequences[0])\n",
        "#print(test_feature_padded[0])\n",
        "#print(test_label_sequences[0])"
      ]
    },
    {
      "cell_type": "code",
      "execution_count": 20,
      "metadata": {
        "colab": {
          "base_uri": "https://localhost:8080/",
          "height": 496
        },
        "colab_type": "code",
        "id": "HjkpyftMp_gj",
        "outputId": "c7f0aab6-d5db-4286-e4aa-0e805de3eaad"
      },
      "outputs": [
        {
          "name": "stdout",
          "output_type": "stream",
          "text": [
            "Epoch 1/12\n",
            "23/23 - 10s - loss: 3.1875 - accuracy: 0.1935 - val_loss: 3.1245 - val_accuracy: 0.1285 - 10s/epoch - 442ms/step\n",
            "Epoch 2/12\n",
            "23/23 - 4s - loss: 2.8900 - accuracy: 0.2258 - val_loss: 2.7170 - val_accuracy: 0.2067 - 4s/epoch - 163ms/step\n",
            "Epoch 3/12\n",
            "23/23 - 4s - loss: 2.3023 - accuracy: 0.3857 - val_loss: 2.1368 - val_accuracy: 0.4525 - 4s/epoch - 162ms/step\n",
            "Epoch 4/12\n",
            "23/23 - 4s - loss: 1.6137 - accuracy: 0.5526 - val_loss: 1.3423 - val_accuracy: 0.7374 - 4s/epoch - 158ms/step\n",
            "Epoch 5/12\n",
            "23/23 - 4s - loss: 0.9358 - accuracy: 0.8317 - val_loss: 0.7484 - val_accuracy: 0.8324 - 4s/epoch - 159ms/step\n",
            "Epoch 6/12\n",
            "23/23 - 4s - loss: 0.7575 - accuracy: 0.8471 - val_loss: 0.8572 - val_accuracy: 0.7374 - 4s/epoch - 168ms/step\n",
            "Epoch 7/12\n",
            "23/23 - 4s - loss: 0.5829 - accuracy: 0.8682 - val_loss: 0.4440 - val_accuracy: 0.9330 - 4s/epoch - 164ms/step\n",
            "Epoch 8/12\n",
            "23/23 - 4s - loss: 0.3064 - accuracy: 0.9565 - val_loss: 0.2762 - val_accuracy: 0.9609 - 4s/epoch - 170ms/step\n",
            "Epoch 9/12\n",
            "23/23 - 4s - loss: 0.1776 - accuracy: 0.9874 - val_loss: 0.2182 - val_accuracy: 0.9832 - 4s/epoch - 176ms/step\n",
            "Epoch 10/12\n",
            "23/23 - 4s - loss: 0.1152 - accuracy: 0.9944 - val_loss: 0.1604 - val_accuracy: 0.9832 - 4s/epoch - 178ms/step\n",
            "Epoch 11/12\n",
            "23/23 - 4s - loss: 0.0993 - accuracy: 0.9958 - val_loss: 0.1844 - val_accuracy: 0.9888 - 4s/epoch - 173ms/step\n",
            "Epoch 12/12\n",
            "23/23 - 4s - loss: 0.1147 - accuracy: 0.9874 - val_loss: 0.1679 - val_accuracy: 0.9832 - 4s/epoch - 171ms/step\n"
          ]
        }
      ],
      "source": [
        "# Train the neural network\n",
        "num_epochs = 12\n",
        "\n",
        "history = model.fit(train_feature_padded, train_label_sequences, epochs=num_epochs, validation_data=(test_feature_padded, test_label_sequences), verbose=2)"
      ]
    },
    {
      "cell_type": "code",
      "execution_count": 21,
      "metadata": {
        "colab": {
          "base_uri": "https://localhost:8080/",
          "height": 289
        },
        "colab_type": "code",
        "id": "N7lkMhVa2JCV",
        "outputId": "4e5d75ef-f7df-4acf-fab1-918f62fa79ef"
      },
      "outputs": [
        {
          "name": "stdout",
          "output_type": "stream",
          "text": [
            "Model: \"sequential_1\"\n",
            "_________________________________________________________________\n",
            " Layer (type)                Output Shape              Param #   \n",
            "=================================================================\n",
            " embedding_1 (Embedding)     (None, 1, 64)             384000    \n",
            "                                                                 \n",
            " global_max_pooling1d (Globa  (None, 64)               0         \n",
            " lMaxPooling1D)                                                  \n",
            "                                                                 \n",
            " dense_2 (Dense)             (None, 64)                4160      \n",
            "                                                                 \n",
            " dense_3 (Dense)             (None, 25)                1625      \n",
            "                                                                 \n"
          ]
        },
        {
          "name": "stdout",
          "output_type": "stream",
          "text": [
            "=================================================================\n",
            "Total params: 389,785\n",
            "Trainable params: 389,785\n",
            "Non-trainable params: 0\n",
            "_________________________________________________________________\n"
          ]
        }
      ],
      "source": [
        "# Alternative model\n",
        "embedding_dim = 64\n",
        "\n",
        "model_alt = tf.keras.Sequential([\n",
        "  # Add an Embedding layer expecting input vocab of size 6000, and output embedding dimension of size 64 we set at the top\n",
        "  tf.keras.layers.Embedding(input_dim=vocab_size, output_dim=embedding_dim, input_length=1),\n",
        "  #tf.keras.layers.Bidirectional(tf.keras.layers.LSTM(embedding_dim)),\n",
        "  #tf.keras.layers.Flatten(),\n",
        "  #tf.keras.layers.GlobalAveragePooling1D(),\n",
        "  tf.keras.layers.GlobalMaxPooling1D(),\n",
        "\n",
        "\n",
        "  # use ReLU in place of tanh function since they are very good alternatives of each other.\n",
        "  tf.keras.layers.Dense(64, activation='relu'),\n",
        "  # Add a Dense layer with 25 units and softmax activation for probability distribution\n",
        "  tf.keras.layers.Dense(25, activation='softmax'),\n",
        "  #tf.keras.layers.Dense(1, activation='sigmoid'),\n",
        "  #tf.keras.layers.Dense(1)\n",
        "\n",
        "])\n",
        "\n",
        "model_alt.summary()"
      ]
    },
    {
      "cell_type": "code",
      "execution_count": 22,
      "metadata": {},
      "outputs": [],
      "source": [
        "# Compile the model and convert train/test data into NumPy arrays\n",
        "model_alt.compile(loss='sparse_categorical_crossentropy', optimizer='adam', metrics=['accuracy'])\n",
        "\n",
        "# Features\n",
        "train_feature_padded = np.array(train_feature_padded)\n",
        "test_feature_padded = np.array(test_feature_padded)\n",
        "\n",
        "# Labels\n",
        "train_label_sequences = np.array(train_label_sequences)\n",
        "test_label_sequences = np.array(test_label_sequences)\n",
        "\n",
        "# Print example values\n",
        "#print(train_feature_padded[0])\n",
        "#print(train_label_sequences[0])\n",
        "#print(test_feature_padded[0])\n",
        "#print(test_label_sequences[0])"
      ]
    },
    {
      "cell_type": "code",
      "execution_count": 23,
      "metadata": {},
      "outputs": [
        {
          "name": "stdout",
          "output_type": "stream",
          "text": [
            "Epoch 1/12\n",
            "23/23 - 1s - loss: 3.1984 - accuracy: 0.1192 - val_loss: 3.1849 - val_accuracy: 0.0950 - 1s/epoch - 53ms/step\n",
            "Epoch 2/12\n",
            "23/23 - 0s - loss: 3.1470 - accuracy: 0.1290 - val_loss: 3.1460 - val_accuracy: 0.0726 - 269ms/epoch - 12ms/step\n",
            "Epoch 3/12\n",
            "23/23 - 0s - loss: 3.0824 - accuracy: 0.1276 - val_loss: 3.0906 - val_accuracy: 0.0726 - 271ms/epoch - 12ms/step\n",
            "Epoch 4/12\n",
            "23/23 - 0s - loss: 2.9973 - accuracy: 0.1066 - val_loss: 3.0145 - val_accuracy: 0.0670 - 265ms/epoch - 12ms/step\n",
            "Epoch 5/12\n",
            "23/23 - 0s - loss: 2.8850 - accuracy: 0.1010 - val_loss: 2.9000 - val_accuracy: 0.0670 - 254ms/epoch - 11ms/step\n",
            "Epoch 6/12\n",
            "23/23 - 0s - loss: 2.7238 - accuracy: 0.1851 - val_loss: 2.7218 - val_accuracy: 0.2402 - 256ms/epoch - 11ms/step\n",
            "Epoch 7/12\n",
            "23/23 - 0s - loss: 2.5045 - accuracy: 0.4320 - val_loss: 2.4931 - val_accuracy: 0.3966 - 242ms/epoch - 11ms/step\n",
            "Epoch 8/12\n",
            "23/23 - 0s - loss: 2.2211 - accuracy: 0.5526 - val_loss: 2.1946 - val_accuracy: 0.5363 - 249ms/epoch - 11ms/step\n",
            "Epoch 9/12\n",
            "23/23 - 0s - loss: 1.8939 - accuracy: 0.6508 - val_loss: 1.8699 - val_accuracy: 0.6592 - 245ms/epoch - 11ms/step\n",
            "Epoch 10/12\n",
            "23/23 - 0s - loss: 1.5453 - accuracy: 0.7518 - val_loss: 1.5298 - val_accuracy: 0.7542 - 246ms/epoch - 11ms/step\n",
            "Epoch 11/12\n",
            "23/23 - 0s - loss: 1.2025 - accuracy: 0.8682 - val_loss: 1.2008 - val_accuracy: 0.8659 - 245ms/epoch - 11ms/step\n",
            "Epoch 12/12\n",
            "23/23 - 0s - loss: 0.9120 - accuracy: 0.9565 - val_loss: 0.9288 - val_accuracy: 0.9385 - 247ms/epoch - 11ms/step\n"
          ]
        }
      ],
      "source": [
        "# Train the neural network\n",
        "num_epochs = 12\n",
        "\n",
        "history = model_alt.fit(train_feature_padded, train_label_sequences, epochs=num_epochs, validation_data=(test_feature_padded, test_label_sequences), verbose=2)"
      ]
    },
    {
      "cell_type": "code",
      "execution_count": 24,
      "metadata": {
        "colab": {
          "base_uri": "https://localhost:8080/",
          "height": 71
        },
        "colab_type": "code",
        "id": "YfTvLMAKqpWV",
        "outputId": "b4d3ad7d-13bb-4aa4-b088-ad476f38157d"
      },
      "outputs": [
        {
          "name": "stdout",
          "output_type": "stream",
          "text": [
            "software proficiency languages basics c sql pl sql java javaee javascript html css jquery mysql spring hibernate software tools xillinx modelsim matlab multisim operating systems windows xp vista 07 08 ubuntu project profile b e project fpga implementation team size 4 role programmer aes algorithm aes advanced encryption standard used cryptography protect data encrypted secret key e project sorting robot team size 3 role mechanism designer tcs 230 sensor sorts rgb color balls ording color diploma project rfid based student team size 4 role interface attendance system using gsm student show rfid card message send via gsm parent ward present education details may 2016 b e savitribai phule pune maharashtra pune university march 2010 c maharashtra board devops engineer skill details c exprience 6 months c exprience 6 months sql exprience 6 months pl sql exprience 6 months core java exprience 6 months javascript exprience less 1 year months html exprience less 1 year months css exprience less 1 year months jquery exprience less 1 year months javaee exprience less 1 year months mysql exprience less 1 year months python exprience 6 monthscompany details company parkar consulting labs description working devops team parkar consulting labs hands aws well python\n",
            "devopsengineer\n"
          ]
        }
      ],
      "source": [
        "# print example feature and its correct label\n",
        "print(test_features[5])\n",
        "print(test_labels[5])"
      ]
    },
    {
      "cell_type": "code",
      "execution_count": 25,
      "metadata": {
        "colab": {
          "base_uri": "https://localhost:8080/",
          "height": 391
        },
        "colab_type": "code",
        "id": "DAqRBYLsqsS3",
        "outputId": "83e126cd-f50d-4259-ea24-a449b6e005d0"
      },
      "outputs": [
        {
          "name": "stdout",
          "output_type": "stream",
          "text": [
            "[[  34 1361  484 1362 2033 2034  779 2034 2014 4304 2034 4305 2763   35\n",
            "   214   25  164  159 4306 2152   86  514   86  516   45  524   86 1214\n",
            "     8  273  263 1632 4307 4308    7   31  220   31  258  245   30   86\n",
            "   101   30 3025   61   30   67 1215  138  963  132 1159 4309  179   14\n",
            "    78   15 1124   31  220 2035  227  457   31  430 2035  328 4310  688\n",
            "   139  259   23  259   23 2764   52   26    7  516    2  956    5    8\n",
            "   273    2  705    5   86 1214    2   13    5   25    2   13    5  164\n",
            "   159    2   13   56    7    3 2764   52    6 4311  258    3  502   18\n",
            "  3199 4312  415  206    6   18 2765 1553  273  516 1053    3 1280    6\n",
            "   113 1427  532   48 2766  255  155   80  516 1875 3200 4313 2938  375\n",
            "   206   78    3    9  203  401 4314   53 2767 4315 4316 2767    6  792\n",
            "   132  792  132  432  401 3566   71 2152   86  514 2013  814  203 4317\n",
            "  1149  401 4318 4319 1916  814 4320  532 2287 4321 2288 4322 1916 2141\n",
            "     3    6 1622 2768   78 1399  132  683  132    3 4323  215  721 2766\n",
            "     6    3 1280    6   96  314 4324  237   38   11 2769 2289 1117  572\n",
            "   173 2769  199    3 1553  485  237 4325 2115  203    6    3  276    8\n",
            "   101   59  273 4326  964 1280    6    3    6  632  387 3458 2770 4327\n",
            "  1281 3459 3026 4328   50 1346  491  702  572  440 2153    3 1124 1194\n",
            "  1124 2771 1260    6    3 1124 1194 1124 2771 1260    6    0    0    0\n",
            "     0    0    0    0    0    0    0    0    0    0    0    0    0    0\n",
            "     0    0    0    0    0    0    0    0    0    0    0    0    0    0\n",
            "     0    0    0    0    0    0]]\n"
          ]
        }
      ],
      "source": [
        "# Create padded sequence for example\n",
        "resume_example = 'skills bitcoin ethereum solidity hyperledger beginner go beginner r3 corda beginner tendermint nodejs c programming java machine learning specilaized brain computer interface computer networking server admin computer vision data analytics cloud computing reactjs angulareducation details january 2014 january 2018 bachelor engineering computer science engineering thakur college engineering technology september 2016 march 2017 dynamic blood bank system mumbai maharashtra iit january 2014 cbse senior secondary january 2011 cbse banking vidyashram public school blockchain developer blockchain developer zhypility technologies skill details networking exprience 27 months data analytics exprience 11 months computer vision exprience 6 months java exprience 6 months machine learning exprience 6 monthscompany details company zhypility technologies description une 2018 company area business owner amway enterprise limited description business strategizing promotion analytics networking terms company virtual description developing prototype smart india hackthon deployment level 3 networking switch intern bharti airtel private limited mumbai company 1 international research scholar university rome tor vergata rome description nov 2017 nov 2017 done research reality based brain computer interface proposed paper international journal advanced research ijar 20656 epted paper reviewer smart kisan revolutionizing country ijsrd epted publication company description reliance jio mumbai dec 2017 jan 2017 company maharastra state government hackthon description company virtual description handling group interns marketing sales team nearby promote social media platform nearby products company promotion stock marketing drums foods international description company 8 data science web analytics positron internet virtual description company description making people aware women equality rights raise voice violence various modes events sources media help society company iit bombay iit kgp startup description company iit bombay iit kgp startup description'\n",
        "example_sequence = feature_tokenizer.texts_to_sequences([resume_example])\n",
        "example_padded = pad_sequences(example_sequence, maxlen=max_length, padding=pad_type, truncating=trunc_type)\n",
        "example_padded = np.array(example_padded)\n",
        "print(example_padded)"
      ]
    },
    {
      "cell_type": "code",
      "execution_count": 26,
      "metadata": {
        "colab": {
          "base_uri": "https://localhost:8080/",
          "height": 54
        },
        "colab_type": "code",
        "id": "hIKf8crUq8wx",
        "outputId": "6716a2a2-f21f-48ea-ab0a-88258e90610c"
      },
      "outputs": [
        {
          "name": "stdout",
          "output_type": "stream",
          "text": [
            "1/1 [==============================] - 1s 826ms/step\n"
          ]
        }
      ],
      "source": [
        "# Make a prediction\n",
        "prediction = model.predict(example_padded)"
      ]
    },
    {
      "cell_type": "code",
      "execution_count": 27,
      "metadata": {
        "colab": {
          "base_uri": "https://localhost:8080/",
          "height": 136
        },
        "colab_type": "code",
        "id": "OWYVziHMrCav",
        "outputId": "2db6b430-28c9-4af9-f70e-03110eb4d85b"
      },
      "outputs": [
        {
          "name": "stdout",
          "output_type": "stream",
          "text": [
            "[5.1154e-08 1.4489e-03 2.5075e-03 1.9262e-03 3.1444e-04 6.8718e-03\n",
            " 8.3032e-04 4.4061e-07 9.8269e-01 5.0630e-05 1.8097e-05 1.0342e-06\n",
            " 3.6462e-10 2.9342e-04 8.1270e-06 1.2651e-10 2.0224e-08 8.2760e-05\n",
            " 9.6720e-05 3.6380e-07 1.0020e-06 1.4294e-08 4.9430e-05 1.1591e-07\n",
            " 2.8084e-03]\n",
            "25\n",
            "1.0\n"
          ]
        }
      ],
      "source": [
        "# Verify that prediction has correct format\n",
        "print(prediction[0])\n",
        "print(len(prediction[0]))  # should be 25\n",
        "print(np.sum(prediction[0]))  # should be 1"
      ]
    },
    {
      "cell_type": "code",
      "execution_count": 28,
      "metadata": {
        "colab": {
          "base_uri": "https://localhost:8080/",
          "height": 51
        },
        "colab_type": "code",
        "id": "7yf4KnNjrGcV",
        "outputId": "d6b9d6c1-22a9-491f-d4a0-ef71c1308f6a"
      },
      "outputs": [
        {
          "name": "stdout",
          "output_type": "stream",
          "text": [
            "0.9826903\n",
            "8\n"
          ]
        }
      ],
      "source": [
        "# Find maximum value in prediction and its index\n",
        "print(max(prediction[0]))  # confidence in prediction (as a fraction of 1)\n",
        "print(np.argmax(prediction[0])) # should be 11 which corresponds to blockchain"
      ]
    },
    {
      "cell_type": "code",
      "execution_count": 29,
      "metadata": {
        "colab": {
          "base_uri": "https://localhost:8080/",
          "height": 34
        },
        "colab_type": "code",
        "id": "Y-DNi39XxqCN",
        "outputId": "8943e6fd-2b9d-454a-c844-d78cf5f7370c"
      },
      "outputs": [
        {
          "name": "stdout",
          "output_type": "stream",
          "text": [
            "[8, 5, 24, 2, 3]\n"
          ]
        }
      ],
      "source": [
        "# Indices of top 5 most probable solutions\n",
        "indices = np.argpartition(prediction[0], -5)[-5:]\n",
        "indices = indices[np.argsort(prediction[0][indices])]\n",
        "indices = list(reversed(indices))\n",
        "print(indices)"
      ]
    },
    {
      "cell_type": "code",
      "execution_count": 30,
      "metadata": {
        "colab": {
          "base_uri": "https://localhost:8080/",
          "height": 34
        },
        "colab_type": "code",
        "id": "pRxAe_QkrW_2",
        "outputId": "4c87cc23-bec2-4e6c-cb90-02a9faf9d109"
      },
      "outputs": [
        {
          "name": "stderr",
          "output_type": "stream",
          "text": [
            "WARNING:absl:Found untraced functions such as _update_step_xla, lstm_cell_1_layer_call_fn, lstm_cell_1_layer_call_and_return_conditional_losses, lstm_cell_2_layer_call_fn, lstm_cell_2_layer_call_and_return_conditional_losses while saving (showing 5 of 5). These functions will not be directly callable after loading.\n"
          ]
        },
        {
          "name": "stdout",
          "output_type": "stream",
          "text": [
            "INFO:tensorflow:Assets written to: model\\assets\n"
          ]
        },
        {
          "name": "stderr",
          "output_type": "stream",
          "text": [
            "INFO:tensorflow:Assets written to: model\\assets\n"
          ]
        }
      ],
      "source": [
        "# Save model\n",
        "model.save('model')"
      ]
    },
    {
      "cell_type": "code",
      "execution_count": 31,
      "metadata": {
        "colab": {},
        "colab_type": "code",
        "id": "Xo584Smdr4ps"
      },
      "outputs": [],
      "source": [
        "# Save feature tokenizer\n",
        "with open('feature_tokenizer.pickle', 'wb') as handle:\n",
        "    pickle.dump(feature_tokenizer, handle, protocol=pickle.HIGHEST_PROTOCOL)"
      ]
    },
    {
      "cell_type": "code",
      "execution_count": 32,
      "metadata": {
        "colab": {
          "base_uri": "https://localhost:8080/",
          "height": 71
        },
        "colab_type": "code",
        "id": "Ul39OZ10sJCC",
        "outputId": "7d559e88-a74e-460a-9b48-b6a2291cf54a"
      },
      "outputs": [
        {
          "name": "stdout",
          "output_type": "stream",
          "text": [
            "{'javadeveloper': 1, 'devopsengineer': 2, 'pythondeveloper': 3, 'webdesigning': 4, 'hr': 5, 'hadoop': 6, 'sales': 7, 'blockchain': 8, 'etldeveloper': 9, 'datascience': 10, 'mechanicalengineer': 11, 'operationsmanager': 12, 'arts': 13, 'database': 14, 'pmo': 15, 'electricalengineering': 16, 'healthandfitness': 17, 'dotnetdeveloper': 18, 'businessanalyst': 19, 'automationtesting': 20, 'networksecurityengineer': 21, 'sapdeveloper': 22, 'civilengineer': 23, 'advocate': 24}\n",
            "{1: 'javadeveloper', 2: 'devopsengineer', 3: 'pythondeveloper', 4: 'webdesigning', 5: 'hr', 6: 'hadoop', 7: 'sales', 8: 'blockchain', 9: 'etldeveloper', 10: 'datascience', 11: 'mechanicalengineer', 12: 'operationsmanager', 13: 'arts', 14: 'database', 15: 'pmo', 16: 'electricalengineering', 17: 'healthandfitness', 18: 'dotnetdeveloper', 19: 'businessanalyst', 20: 'automationtesting', 21: 'networksecurityengineer', 22: 'sapdeveloper', 23: 'civilengineer', 24: 'advocate'}\n"
          ]
        }
      ],
      "source": [
        "# Save reverse dictionary of labels to encodings\n",
        "label_to_encoding = dict(list(label_index.items()))\n",
        "print(label_to_encoding)\n",
        "\n",
        "encoding_to_label = {}\n",
        "for k, v in label_to_encoding.items():\n",
        "  encoding_to_label[v] = k\n",
        "print(encoding_to_label)\n",
        "\n",
        "with open('dictionary.pickle', 'wb') as handle:\n",
        "    pickle.dump(encoding_to_label, handle, protocol=pickle.HIGHEST_PROTOCOL)"
      ]
    },
    {
      "cell_type": "code",
      "execution_count": 33,
      "metadata": {
        "colab": {
          "base_uri": "https://localhost:8080/",
          "height": 34
        },
        "colab_type": "code",
        "id": "7rFzn7JcuOVz",
        "outputId": "8a260e0d-7e34-46c6-8bbb-26f4becf98e4"
      },
      "outputs": [
        {
          "name": "stdout",
          "output_type": "stream",
          "text": [
            "blockchain\n"
          ]
        }
      ],
      "source": [
        "print(encoding_to_label[np.argmax(prediction[0])])"
      ]
    },
    {
      "cell_type": "code",
      "execution_count": 34,
      "metadata": {},
      "outputs": [],
      "source": [
        "Job_description=\"Job details: Develop information systems by architecting, designing, and implementing advanced software solutions. Create software by studying business needs, conferring with process owners, and examining systems flow, data usage, and work processes. Author documentation, flowcharts, layouts, diagrams, charts, code comments, and clear code for solutions development. Bachelor’s and/or master’s degree in computer science, computer engineering, data sciences, or related technical discipline 5+ years of professional software development experience Experience with computer vision or nlp. Proficiency in Java or C++\"\n"
      ]
    }
  ],
  "metadata": {
    "colab": {
      "collapsed_sections": [],
      "name": "Neural_Network_CodeDay_Resume_Screening.ipynb",
      "provenance": []
    },
    "kernelspec": {
      "display_name": "Python 3",
      "name": "python3"
    },
    "language_info": {
      "codemirror_mode": {
        "name": "ipython",
        "version": 3
      },
      "file_extension": ".py",
      "mimetype": "text/x-python",
      "name": "python",
      "nbconvert_exporter": "python",
      "pygments_lexer": "ipython3",
      "version": "3.9.2"
    }
  },
  "nbformat": 4,
  "nbformat_minor": 0
}
